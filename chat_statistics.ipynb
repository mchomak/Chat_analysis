{
 "cells": [
  {
   "cell_type": "markdown",
   "metadata": {},
   "source": [
    "### Import DataBase"
   ]
  },
  {
   "cell_type": "code",
   "execution_count": null,
   "metadata": {},
   "outputs": [],
   "source": [
    "import pandas as pd\n",
    "import numpy as np\n",
    "from pandas_profiling import ProfileReport\n",
    "import plotly.express as px\n",
    "from datetime import datetime\n",
    "import plotly.graph_objects as go"
   ]
  },
  {
   "cell_type": "markdown",
   "metadata": {},
   "source": [
    " - id - id сообщения в ТГ \n",
    " - 1   type - тип действия: \n",
    "    - message (сообщение)\n",
    "    - service (звонки)\n",
    " - 2   date - дата написания сообщения (с 1 марта 2023 до 18 декабря 2023)\n",
    " - 3   date_unixtime - дата сообщения в виде временной метки (удалить)\n",
    " - 4   from - от кого сообщение\n",
    " - 5   from_id - ID пользователя от которого пришло сообщение (Удалить)\n",
    " - 6   text/0 - только текст сообщения\n",
    " - 7   text_entities/0/type - тип сообщения: \n",
    "    - plain (обычное) \n",
    "    - link (ссылка)\n",
    " - 8   text_entities/0/text/0 - и текст и ссылки\n",
    " - 9   forwarded_from - от кого переслано сообщение\n",
    " - 10  photo - ссылка на фото\n",
    " - 11  width - ширина носителя (удалить)\n",
    " - 12  height - высота носителя (удалить)\n",
    " - 13  reply_to_message_id - Если сообщение является ответом, укажите ID исходного сообщения \n",
    " - 14  edited - дата редактирования сообщения \n",
    " - 15  edited_unixtime - дата редактирования сообщения в виде временной метки (удалить)\n",
    " - 16  actor - имя пользователя, который совершает действие (звонок например)\n",
    " - 17  actor_id - ID пользователя, который совершает действие (звонок например)\n",
    " - 18  action - действие (phone_call звонок)\n",
    " - 19  duration_seconds - время звонка\n",
    " - 20  discard_reason:\n",
    "    - busy - занято\n",
    "    - disconnect - отключено\n",
    "    - hangup - принят\n",
    "    - missed - пропущено\n",
    " - 21  file - ссылка на файл (удалить) \n",
    " - 22  mime_type - тип мультимедии:\n",
    "    - application/x-navistyle\n",
    "    - video/mp4 (видео)\n",
    "    - image/png (фото)\n",
    " - 23  text/0/type - тип сообщения:\n",
    "    - link - ссылка \n",
    " - 24  text/0/text/0 - ссылка\n",
    " - 25  text/1/type             1 non-null      object \n",
    " - 26  text/1/text/0           1 non-null      object \n",
    " - 27  text/2 - (удалить)\n",
    " - 28  text_entities/1/type - тип подписи (закинуть как отдельно сообщение)\n",
    " - 29  text_entities/1/text/0 - если ссылку или фото подписать то текст пойдет сюда (закинуть как отдельно сообщение)\n",
    " - 30  text_entities/2/type - тип подписи (закинуть как отдельно сообщение)\n",
    " - 31  text_entities/2/text/0 - если ссылку или фото подписать то текст пойдет сюда (закинуть как отдельно сообщение)\n",
    " - 32  thumbnail - (удалить)\n",
    " - 33  media_type - тип сообщения:\n",
    "    - sticker\n",
    "    - video_message\n",
    "    - voice_message\n",
    "    - animation\n",
    "    - video_file\n",
    "    - audio_file\n",
    " - 34  text/1 - если ссылку или фото подписать то текст пойдет сюда (закинуть как отдельно сообщение)"
   ]
  },
  {
   "cell_type": "code",
   "execution_count": null,
   "metadata": {},
   "outputs": [],
   "source": [
    "# Сброс ограничений на количество выводимых рядов\n",
    "pd.set_option('display.max_rows', None)\n",
    " \n",
    "# Сброс ограничений на число столбцов\n",
    "pd.set_option('display.max_columns', None)\n",
    " \n",
    "# Сброс ограничений на количество символов в записи\n",
    "pd.set_option('display.max_colwidth', None)"
   ]
  },
  {
   "cell_type": "code",
   "execution_count": null,
   "metadata": {},
   "outputs": [],
   "source": [
    "name=\"Amalia\"\n",
    "df=pd.read_csv(f\"./chats/{name}/Chat_{name}.csv\")"
   ]
  },
  {
   "cell_type": "markdown",
   "metadata": {},
   "source": [
    "### Functions"
   ]
  },
  {
   "cell_type": "code",
   "execution_count": null,
   "metadata": {},
   "outputs": [],
   "source": [
    "def create_profile_report(df, name=\"Report\"):\n",
    "    profile = ProfileReport(df, title=str(name))\n",
    "    profile.to_notebook_iframe()\n",
    "    profile.to_file(output_file=f\"./chats/{name}/Report_{name}.html\")"
   ]
  },
  {
   "cell_type": "code",
   "execution_count": null,
   "metadata": {},
   "outputs": [],
   "source": [
    "def create_new_rows(df):\n",
    "    for index, row in df.iterrows():\n",
    "        main_text=row['text/0']\n",
    "        main_type=row['text_entities/0/type']\n",
    "        \n",
    "        columns={\n",
    "            # row['text_entities/0/text/0']:main_type,\n",
    "            # row['text/0/text/0']:row[\"text/0/type\"],\n",
    "            # row['text/1/text/0']:row[\"text/1/type\"],\n",
    "            # row['text_entities/1/text/0']:row[\"text_entities/1/type\"],\n",
    "            # row['text_entities/2/text/0']:row[\"text_entities/2/type\"],\n",
    "            row[\"text\"]:main_type\n",
    "        }\n",
    "        array=set([main_text, \n",
    "                   row[\"text\"],\n",
    "                #    row['text_entities/0/text/0'], \n",
    "                #    row['text/0/text/0'], \n",
    "                #    row['text/1/text/0'], \n",
    "                #    row['text_entities/1/text/0'], \n",
    "                #    row['text_entities/2/text/0']\n",
    "                ])\n",
    "        array.remove(main_text)\n",
    "        for i in array:\n",
    "            if type(i)==str:\n",
    "                new_row=row.copy()\n",
    "                new_row[\"text/0\"]=i\n",
    "                new_row[\"text_entities/0/type\"]=columns[i]\n",
    "                df.loc[len(df.index)]=new_row\n",
    "    \n",
    "    return df"
   ]
  },
  {
   "cell_type": "code",
   "execution_count": null,
   "metadata": {},
   "outputs": [],
   "source": [
    "def replace_missing(df=pd.DataFrame()):\n",
    "    df.fillna(value=\"Missing\", inplace=True)\n",
    "    return df"
   ]
  },
  {
   "cell_type": "code",
   "execution_count": null,
   "metadata": {},
   "outputs": [],
   "source": [
    "def message_len(mes):\n",
    "    if mes==\"Missing\":\n",
    "        return 0\n",
    "    else:\n",
    "        return len(mes)"
   ]
  },
  {
   "cell_type": "code",
   "execution_count": null,
   "metadata": {},
   "outputs": [],
   "source": [
    "def preprocessing(df):\n",
    "    df=create_new_rows(df)\n",
    "    df=replace_missing(df)\n",
    "    df.drop_duplicates(df)\n",
    "    df[\"len_mes\"]=df[\"text/0\"].apply(message_len)\n",
    "    df['date'] = pd.to_datetime(df['date'])\n",
    "    if {'actor', 'action', \"duration_seconds\", \"discard_reason\"}.issubset(df.columns):\n",
    "        df=df[[\"id\", \"type\", \"date\", \"from\", \"text/0\",\t\"text_entities/0/type\", \"len_mes\",\t\"forwarded_from\",\t\"photo\", \"reply_to_message_id\", \"actor\", \"action\", \"duration_seconds\",\t\"discard_reason\",\t\"mime_type\",\t\"media_type\"]]\n",
    "    else:\n",
    "        df=df[[\"id\", \"type\", \"date\", \"from\", \"text/0\",\t\"text_entities/0/type\", \"len_mes\",\t\"forwarded_from\",\t\"photo\", \"reply_to_message_id\", \"mime_type\",\"media_type\"]]\n",
    "\n",
    "    df.sort_values(by=[\"date\"])\n",
    "    return df"
   ]
  },
  {
   "cell_type": "code",
   "execution_count": null,
   "metadata": {},
   "outputs": [],
   "source": [
    "df=preprocessing(df)"
   ]
  },
  {
   "cell_type": "markdown",
   "metadata": {},
   "source": [
    "### Messages count"
   ]
  },
  {
   "cell_type": "code",
   "execution_count": null,
   "metadata": {},
   "outputs": [],
   "source": [
    "user_mes=df.loc[df[\"from\"]!=\"Missing\", \"from\"]\n",
    "users=user_mes.unique()\n",
    "umc = df.groupby(user_mes).size().reset_index(name='message')"
   ]
  },
  {
   "cell_type": "code",
   "execution_count": null,
   "metadata": {},
   "outputs": [],
   "source": [
    "all_mes=umc[\"message\"].sum()\n",
    "us1=round((umc.iloc[0][\"message\"])/all_mes*100)\n",
    "us2=round((umc.iloc[1][\"message\"])/all_mes*100)\n",
    "umc[\"proc\"]=[us1, us2 ]"
   ]
  },
  {
   "cell_type": "code",
   "execution_count": null,
   "metadata": {},
   "outputs": [],
   "source": [
    "fig = go.Figure()\n",
    "fig.add_trace(go.Bar(y=umc['message'],\n",
    "                     x=umc[\"from\"],\n",
    "                     marker=dict(color=[\"rgb(99, 110, 250)\", \"rgb(222, 0, 105)\"])))\n",
    "fig.update_layout(title=\"Count of users messanges\")\n",
    "\n",
    "fig.show()\n",
    "# fig.write_image(\"./chats/{name}/graph/'Count_of_users_messanges.png\")"
   ]
  },
  {
   "cell_type": "code",
   "execution_count": null,
   "metadata": {},
   "outputs": [],
   "source": [
    "fig = px.pie(umc, values='proc', names='from')\n",
    "fig.update_layout(width=700, height=700,\n",
    "                  title=\"Count of users messanges in percent\")\n",
    "\n",
    "fig.show()\n",
    "# fig.write_image(\"./chats/{name}/graph/'Count_of_users_messanges_in_percent.png\")"
   ]
  },
  {
   "cell_type": "markdown",
   "metadata": {},
   "source": [
    "### Activity diogram by days"
   ]
  },
  {
   "cell_type": "code",
   "execution_count": null,
   "metadata": {},
   "outputs": [],
   "source": [
    "# Считаем сколько сообщений за даты\n",
    "dmc = df.groupby(df['date'].dt.date).size().reset_index(name='message_count')"
   ]
  },
  {
   "cell_type": "code",
   "execution_count": null,
   "metadata": {},
   "outputs": [],
   "source": [
    "fig = go.Figure([go.Scatter(x=dmc['date'], y=dmc['message_count'])])\n",
    "\n",
    "fig.update_layout(\n",
    "    title='Activity graph by days',\n",
    "    xaxis=dict(title='Dates'),\n",
    "    yaxis=dict(title='Message Count'),\n",
    ")\n",
    "\n",
    "fig.show()\n",
    "# fig.write_image(\"./chats/{name}/graph/'Activity_by_days.png\")"
   ]
  },
  {
   "cell_type": "markdown",
   "metadata": {},
   "source": [
    "### Activity diogram by hours"
   ]
  },
  {
   "cell_type": "code",
   "execution_count": null,
   "metadata": {},
   "outputs": [],
   "source": [
    "def format_hour(hour):\n",
    "    print(hour, type(hour))\n",
    "    return f\"{hour:02d}:00\""
   ]
  },
  {
   "cell_type": "code",
   "execution_count": null,
   "metadata": {},
   "outputs": [],
   "source": [
    "hmc = df.groupby(df['date'].dt.hour).size().reset_index(name='message_count')\n",
    "hmc[\"date\"]=hmc[\"date\"].apply(format_hour)"
   ]
  },
  {
   "cell_type": "code",
   "execution_count": null,
   "metadata": {},
   "outputs": [],
   "source": [
    "fig = go.Figure()\n",
    "fig.add_trace(\n",
    "    go.Scatter(x=hmc['date'], \n",
    "               y=hmc['message_count'],\n",
    "                marker=dict(color=\"rgb(0, 135, 219)\", size=10),\n",
    "                name=\"Message count\")\n",
    ")\n",
    "\n",
    "fig.update_layout(\n",
    "    shapes=[dict(\n",
    "            type='rect',\n",
    "            xref='x',\n",
    "            yref='paper',\n",
    "            x0=\"12:00\",\n",
    "            x1=\"23:00\",\n",
    "            y0=0,\n",
    "            y1=1,\n",
    "            fillcolor='rgb(122, 204, 255)',\n",
    "            layer='below',\n",
    "            line=dict(width=0)),\n",
    "        dict(\n",
    "            type='rect',\n",
    "            xref='x',\n",
    "            yref='paper',\n",
    "            x0=\"01:00\",\n",
    "            x1=\"12:00\",\n",
    "            y0=0,\n",
    "            y1=1,\n",
    "            fillcolor='rgb(218, 241, 255)',\n",
    "            layer='below',\n",
    "            line=dict(width=0)),\n",
    "    ]\n",
    ")\n",
    "\n",
    "fig.update_layout(\n",
    "    title='Activity graph by hour',\n",
    "    xaxis=dict(title='Time'),\n",
    "    yaxis=dict(title='Message Count'),\n",
    ")\n",
    "\n",
    "fig.show()\n",
    "# fig.write_image(\"./chats/{name}/graph/'Activity_by_hour.png\")"
   ]
  },
  {
   "cell_type": "markdown",
   "metadata": {},
   "source": [
    "### Mean len of messange"
   ]
  },
  {
   "cell_type": "code",
   "execution_count": null,
   "metadata": {},
   "outputs": [],
   "source": [
    "only_text=df.loc[df[\"len_mes\"]!=0, \"len_mes\"]\n",
    "mean_len=round(only_text.mean())"
   ]
  },
  {
   "cell_type": "code",
   "execution_count": null,
   "metadata": {},
   "outputs": [],
   "source": [
    "lmc = df.groupby(only_text).size().reset_index(name='len_count')"
   ]
  },
  {
   "cell_type": "code",
   "execution_count": null,
   "metadata": {},
   "outputs": [],
   "source": [
    "# самое первое сообщение длинной 1200+ символов, чтобы график сильно не растягивался, ограничил его до 100\n",
    "fig = go.Figure()\n",
    "fig.add_trace(\n",
    "    go.Scatter(x=lmc['len_mes'], \n",
    "               y=lmc['len_count'],\n",
    "               name=\"Сharacter count\")\n",
    ")\n",
    "\n",
    "fig.add_trace(go.Scatter(x=lmc['len_mes'],\n",
    "                         y=np.full(len(lmc['len_mes']), mean_len),\n",
    "                         name=\"Mean count\"))\n",
    "\n",
    "fig.update_layout(\n",
    "    title='Message character count',\n",
    "    xaxis=dict(title='Message count'),\n",
    "    yaxis=dict(title='Сharacter count'),\n",
    "    xaxis_range=[0,100]\n",
    ")\n",
    "\n",
    "fig.show()\n",
    "# fig.write_image(\"./chats/{name}/graph/'Message_character_count.png\")"
   ]
  },
  {
   "cell_type": "code",
   "execution_count": null,
   "metadata": {},
   "outputs": [],
   "source": [
    "create_profile_report(df=df, name=name)"
   ]
  },
  {
   "cell_type": "markdown",
   "metadata": {},
   "source": [
    "### Work with clusters"
   ]
  },
  {
   "cell_type": "code",
   "execution_count": null,
   "metadata": {},
   "outputs": [],
   "source": [
    "df_ml=df[[\"text/0\", \"from\"]]\n",
    "df_ml=df_ml.rename(columns={\"text/0\":\"text\"})"
   ]
  },
  {
   "cell_type": "code",
   "execution_count": null,
   "metadata": {},
   "outputs": [],
   "source": [
    "df_ml=df_ml[df_ml.text!= \"Missing\" ]"
   ]
  },
  {
   "cell_type": "code",
   "execution_count": null,
   "metadata": {},
   "outputs": [],
   "source": [
    "df_ml.to_csv (f'./chats/{name}/ml_{name}.csv', index= False )"
   ]
  }
 ],
 "metadata": {
  "kernelspec": {
   "display_name": "Python 3",
   "language": "python",
   "name": "python3"
  },
  "language_info": {
   "codemirror_mode": {
    "name": "ipython",
    "version": 3
   },
   "file_extension": ".py",
   "mimetype": "text/x-python",
   "name": "python",
   "nbconvert_exporter": "python",
   "pygments_lexer": "ipython3",
   "version": "3.10.0"
  }
 },
 "nbformat": 4,
 "nbformat_minor": 2
}
