{
 "cells": [
  {
   "cell_type": "markdown",
   "metadata": {},
   "source": [
    "### Import Files"
   ]
  },
  {
   "cell_type": "code",
   "execution_count": 25,
   "metadata": {},
   "outputs": [],
   "source": [
    "import numpy as np\n",
    "import pandas as pd\n",
    "import torch\n",
    "import os\n",
    "from tqdm import tqdm\n",
    "from sklearn.decomposition import PCA\n",
    "from sklearn.cluster import AgglomerativeClustering\n",
    "from torch.utils.data import Dataset, DataLoader\n",
    "from transformers import BertModel, BertTokenizer\n",
    "from sklearn.cluster import DBSCAN\n",
    "import math\n",
    "from sklearn.manifold import TSNE\n",
    "import string\n",
    "import nltk\n",
    "from nltk.corpus import stopwords\n",
    "from nltk.tokenize import word_tokenize"
   ]
  },
  {
   "cell_type": "code",
   "execution_count": 26,
   "metadata": {},
   "outputs": [],
   "source": [
    "path=os.getcwd()\n",
    "path=os.path.join(path, \"rubert_cased\")\n",
    "tokenizer = BertTokenizer.from_pretrained(path)\n",
    "model = BertModel.from_pretrained(path, output_hidden_states = True)"
   ]
  },
  {
   "cell_type": "code",
   "execution_count": 27,
   "metadata": {},
   "outputs": [],
   "source": [
    "# Сброс ограничений на количество выводимых рядов\n",
    "pd.set_option('display.max_rows', None)\n",
    " \n",
    "# Сброс ограничений на число столбцов\n",
    "pd.set_option('display.max_columns', None)\n",
    " \n",
    "# Сброс ограничений на количество символов в записи\n",
    "pd.set_option('display.max_colwidth', None)"
   ]
  },
  {
   "cell_type": "markdown",
   "metadata": {},
   "source": [
    "### Get DataBase"
   ]
  },
  {
   "cell_type": "code",
   "execution_count": 28,
   "metadata": {},
   "outputs": [
    {
     "name": "stderr",
     "output_type": "stream",
     "text": [
      "[nltk_data] Downloading package stopwords to\n",
      "[nltk_data]     C:\\Users\\Mchomak\\AppData\\Roaming\\nltk_data...\n",
      "[nltk_data]   Package stopwords is already up-to-date!\n",
      "[nltk_data] Downloading package punkt to\n",
      "[nltk_data]     C:\\Users\\Mchomak\\AppData\\Roaming\\nltk_data...\n",
      "[nltk_data]   Package punkt is already up-to-date!\n",
      "[nltk_data] Downloading package averaged_perceptron_tagger to\n",
      "[nltk_data]     C:\\Users\\Mchomak\\AppData\\Roaming\\nltk_data...\n",
      "[nltk_data]   Package averaged_perceptron_tagger is already up-to-\n",
      "[nltk_data]       date!\n",
      "[nltk_data] Downloading package universal_tagset to\n",
      "[nltk_data]     C:\\Users\\Mchomak\\AppData\\Roaming\\nltk_data...\n",
      "[nltk_data]   Package universal_tagset is already up-to-date!\n"
     ]
    }
   ],
   "source": [
    "name=\"Amalia\"\n",
    "df = pd.read_csv(f'./chats/{name}/ml_{name}.csv')  \n",
    "text_messages = df['text']  \n",
    "\n",
    "nltk.download('stopwords')\n",
    "nltk.download('punkt')\n",
    "nltk.download('averaged_perceptron_tagger')\n",
    "nltk.download('universal_tagset')\n",
    "\n",
    "stop_words = set(stopwords.words('russian'))\n",
    "\n",
    "def preprocess_text(text):\n",
    "    tokens = word_tokenize(text)\n",
    "    tokens = [word.lower() for word in tokens if word.isalpha() and word.lower() not in stop_words and word not in string.punctuation]\n",
    "    # tokens = [word.lower() for word in tokens if word.isalpha() and word.lower() and word not in string.punctuation]\n",
    "    return ' '.join(tokens)\n",
    "\n",
    "df['cleaned_text'] = df['text'].apply(preprocess_text)"
   ]
  },
  {
   "cell_type": "code",
   "execution_count": 29,
   "metadata": {},
   "outputs": [],
   "source": [
    "text=df[\"cleaned_text\"]"
   ]
  },
  {
   "cell_type": "code",
   "execution_count": 30,
   "metadata": {},
   "outputs": [
    {
     "data": {
      "text/plain": [
       "'парень выпал дед сносит'"
      ]
     },
     "execution_count": 30,
     "metadata": {},
     "output_type": "execute_result"
    }
   ],
   "source": [
    "text[0]"
   ]
  },
  {
   "cell_type": "markdown",
   "metadata": {},
   "source": [
    "### Tokenize data|"
   ]
  },
  {
   "cell_type": "code",
   "execution_count": 31,
   "metadata": {},
   "outputs": [],
   "source": [
    "class CustomDataset(Dataset):\n",
    "    # инициализируем полученные данные\n",
    "    def __init__(self, X):\n",
    "        self.text = X\n",
    "    # функция, которая превращает текст в токен pytorch\n",
    "    def tokenize(self, text):\n",
    "        return tokenizer(text, return_tensors='pt', padding='max_length', truncation=True, max_length=150)\n",
    "    # возвращает длину текста\n",
    "    def __len__(self):\n",
    "        return self.text.shape[0]\n",
    "    # по полученному индексу берет текст, токенизирует его и возвращает словарь с ним\n",
    "    def __getitem__(self, index):\n",
    "        output = self.text[index]\n",
    "        output = self.tokenize(output)\n",
    "        return {k: v.reshape(-1) for k, v in output.items()}\n",
    "\n",
    "\n",
    "eval_ds = CustomDataset(text)\n",
    "eval_dataloader = DataLoader(eval_ds, batch_size=10)"
   ]
  },
  {
   "cell_type": "markdown",
   "metadata": {},
   "source": [
    "### Get Embedвings"
   ]
  },
  {
   "cell_type": "code",
   "execution_count": 32,
   "metadata": {},
   "outputs": [],
   "source": [
    "# %pip install torch torchvision torchaudio --index-url https://download.pytorch.org/whl/cu118"
   ]
  },
  {
   "cell_type": "code",
   "execution_count": 33,
   "metadata": {},
   "outputs": [
    {
     "data": {
      "text/plain": [
       "True"
      ]
     },
     "execution_count": 33,
     "metadata": {},
     "output_type": "execute_result"
    }
   ],
   "source": [
    "torch.cuda.is_available()"
   ]
  },
  {
   "cell_type": "code",
   "execution_count": 34,
   "metadata": {},
   "outputs": [],
   "source": [
    "def mean_pooling(model_output, attention_mask):\n",
    "    token_embeddings = model_output['last_hidden_state']\n",
    "    input_mask_expanded = attention_mask.unsqueeze(-1).expand(token_embeddings.size()).float()\n",
    "    sum_embeddings = torch.sum(token_embeddings * input_mask_expanded, 1)\n",
    "    sum_mask = torch.clamp(input_mask_expanded.sum(1), min=1e-9)\n",
    "    return sum_embeddings / sum_mask"
   ]
  },
  {
   "cell_type": "code",
   "execution_count": 35,
   "metadata": {},
   "outputs": [
    {
     "name": "stderr",
     "output_type": "stream",
     "text": [
      "  0%|          | 0/7 [00:00<?, ?it/s]"
     ]
    },
    {
     "name": "stderr",
     "output_type": "stream",
     "text": [
      "100%|██████████| 7/7 [00:00<00:00, 22.18it/s]\n"
     ]
    }
   ],
   "source": [
    "device = torch.device(\"cuda\") if torch.cuda.is_available() else torch.device(\"cpu\")\n",
    "model.to(device)\n",
    "# переводит модель в режим оценки\n",
    "model.eval()\n",
    "\n",
    "# создает пустое вложение куда будут сохранятся данные\n",
    "embeddings = torch.Tensor().to(device)\n",
    "\n",
    "with torch.no_grad():\n",
    "    for n_batch, batch in enumerate(tqdm(eval_dataloader)):\n",
    "        # помещает каждый тензор в нужное место, gpu или cpu \n",
    "        batch = {k: v.to(device) for k, v in batch.items()}\n",
    "        outputs = model(**batch)\n",
    "        embeddings = torch.cat([embeddings, mean_pooling(outputs, batch['attention_mask'])])\n",
    "    embeddings = embeddings.cpu().numpy()"
   ]
  },
  {
   "cell_type": "markdown",
   "metadata": {},
   "source": [
    "### Clastering text"
   ]
  },
  {
   "cell_type": "code",
   "execution_count": 36,
   "metadata": {},
   "outputs": [
    {
     "name": "stderr",
     "output_type": "stream",
     "text": [
      "c:\\Users\\Mchomak\\AppData\\Local\\Programs\\Python\\Python310\\lib\\site-packages\\sklearn\\cluster\\_agglomerative.py:1006: FutureWarning:\n",
      "\n",
      "Attribute `affinity` was deprecated in version 1.2 and will be removed in 1.4. Use `metric` instead\n",
      "\n"
     ]
    }
   ],
   "source": [
    "clustering = AgglomerativeClustering(n_clusters=None, distance_threshold=0.4, affinity='cosine', linkage='average').fit(embeddings)"
   ]
  },
  {
   "cell_type": "code",
   "execution_count": 37,
   "metadata": {},
   "outputs": [],
   "source": [
    "# dbscan = DBSCAN(eps=0.1, min_samples=5)\n",
    "# df['cluster'] = dbscan.fit_predict(embeddings)"
   ]
  },
  {
   "cell_type": "code",
   "execution_count": 38,
   "metadata": {},
   "outputs": [],
   "source": [
    "# pca = PCA(n_components=2, random_state=42)\n",
    "# emb_2d = pd.DataFrame(pca.fit_transform(embeddings), columns=['x', 'y'])"
   ]
  },
  {
   "cell_type": "code",
   "execution_count": 39,
   "metadata": {},
   "outputs": [],
   "source": [
    "tsne = TSNE(n_components=2, random_state=42)\n",
    "emb_2d = tsne.fit_transform(embeddings)"
   ]
  },
  {
   "cell_type": "code",
   "execution_count": 40,
   "metadata": {},
   "outputs": [],
   "source": [
    "df[\"x\"]=emb_2d[:, 0]\n",
    "df[\"y\"]=emb_2d[:, 1]\n",
    "df['cluster'] = clustering.labels_"
   ]
  },
  {
   "cell_type": "markdown",
   "metadata": {},
   "source": [
    "### Visualise clasters"
   ]
  },
  {
   "cell_type": "code",
   "execution_count": 41,
   "metadata": {},
   "outputs": [],
   "source": [
    "df = df.sort_values(by='cluster')"
   ]
  },
  {
   "cell_type": "code",
   "execution_count": 42,
   "metadata": {},
   "outputs": [
    {
     "data": {
      "application/vnd.plotly.v1+json": {
       "config": {
        "plotlyServerURL": "https://plot.ly"
       },
       "data": [
        {
         "hovertemplate": "<b>%{hovertext}</b><br><br>x=%{x}<br>y=%{y}<br>cluster=%{marker.color}<extra></extra>",
         "hovertext": [
          "Будет хилить примерно по ",
          "Мммм... Да....\r\n\r\n",
          "Почта ",
          "Спасибо, что пользуетесь - ",
          "Спасибо, что пользуетесь - ",
          "Спасибо, что пользуетесь - ",
          "Спасибо, что пользуетесь - ",
          "Спасибо, что пользуетесь - ",
          "Спасибо, что пользуетесь - ",
          "Спасибо, что пользуетесь - ",
          "Спасибо, что пользуетесь - ",
          "Спасибо, что пользуетесь - ",
          "Спасибо, что пользуетесь - ",
          "Спасибо, что пользуетесь - ",
          "Спасибо, что пользуетесь - ",
          "Спасибо, что пользуетесь - ",
          "Спасибо, что пользуетесь - ",
          "Спасибо, что пользуетесь - ",
          "Спасибо, что пользуетесь - ",
          "Спасибо, что пользуетесь - ",
          "Спасибо, что пользуетесь - ",
          "Спасибо, что пользуетесь - ",
          "Спасибо, что пользуетесь - ",
          "Спасибо, что пользуетесь - ",
          "Спасибо, что пользуетесь - ",
          "Спасибо, что пользуетесь - ",
          "Спасибо, что пользуетесь - ",
          "Спасибо, что пользуетесь - ",
          "Спасибо, что пользуетесь - ",
          "Спасибо, что пользуетесь - ",
          "Спасибо, что пользуетесь - ",
          "Спасибо, что пользуетесь - ",
          "Спасибо, что пользуетесь - ",
          "Спасибо, что пользуетесь - ",
          "Спасибо, что пользуетесь - ",
          "Спасибо, что пользуетесь - ",
          "Ученики МОУ Кадетская школа \r\nК. Рамиль, К. Сергей, Д. Ярослав и О. Егор стали финалистами регионального трека Всероссийского конкурса научно-технологических проектов «Большие вызовы», в котором приняли участие более 800 школьников Московской области.\r\n\r\nРебята представили проект по направлению «Беспилотный транспорт и логистические системы» по теме «Автономная охрана общеобразовательных учреждений с помощью БПЛА» и стали участниками очной образовательной программы «Взлета», которая пройдёт в кампусе Гимназии Примакова.\r\n\r\nПоздравляем и гордимся нашими учениками и желаем им успеха в покорении следующих вершин!\r\n.\r\n.\r\n.\r\n.\r\n",
          "Рад был помочь! Ваш, ",
          "Рад был помочь! Ваш, ",
          "Рад был помочь! Ваш, ",
          "Рад был помочь! Ваш, ",
          "Рад был помочь! Ваш, ",
          "Рад был помочь! Ваш, ",
          "Рад был помочь! Ваш, ",
          "Рад был помочь! Ваш, ",
          "Рад был помочь! Ваш, ",
          "Рад был помочь! Ваш, ",
          "Рад был помочь! Ваш, ",
          "Рад был помочь! Ваш, ",
          "Рад был помочь! Ваш, ",
          "Рад был помочь! Ваш, ",
          "Рад был помочь! Ваш, ",
          "Рад был помочь! Ваш, ",
          "Рад был помочь! Ваш, ",
          "Рад был помочь! Ваш, ",
          "Рад был помочь! Ваш, ",
          "Дєхья против Гидро Слайма\r\n\r\n",
          "Фулл с Яэ и Баал вышел!! \r\nПока что есть только в таком качестве, приятного просмотра..)\r\n",
          "🔥Пользователь ТикТока swammyxo ",
          "🔷🔹",
          "Рейтинг персонажей для прохождения бездны на 17.01.2022\r\nИсточник: genshinlab\r\n\r\n",
          "Аль Хайтам в игре\r\n\r\n▫️Источник: Неизвестно \r\n\r\n",
          "Musou isshin в реальной жизни.\r\nВыглядит стильно⚡️\r\n\r\n",
          "Ubatcha подтвердил, что в первой половине будут Аято и Венти, во второй половине будет Аяка.\r\n\r\nUPD: Кадзухи не будет\r\n\r\n",
          "🥲 Эволюция Розарии\r\n\r\n🔖 ",
          "Мона брух момент\r\n\r\n",
          "🤔 С китайского форума, от инсайдера с хорошей репутацией:\r\n\r\n🔸 Оружейный баннер Итто в 2.7; Его сигна и Память о пыли.\r\n\r\n❗️",
          "мой парень когда ему выпал дед, а он не сносит ",
          "Мама! Присоединяйся\r\n\r\nПодпишись 👉 "
         ],
         "legendgroup": "",
         "marker": {
          "color": [
           0,
           0,
           0,
           1,
           1,
           1,
           1,
           1,
           1,
           1,
           1,
           1,
           1,
           1,
           1,
           1,
           1,
           1,
           1,
           1,
           1,
           1,
           1,
           1,
           1,
           1,
           1,
           1,
           1,
           1,
           1,
           1,
           1,
           1,
           1,
           1,
           2,
           3,
           3,
           3,
           3,
           3,
           3,
           3,
           3,
           3,
           3,
           3,
           3,
           3,
           3,
           3,
           3,
           3,
           3,
           3,
           4,
           5,
           6,
           7,
           8,
           9,
           10,
           11,
           12,
           13,
           14,
           15,
           16
          ],
          "coloraxis": "coloraxis",
          "size": 10,
          "symbol": "circle"
         },
         "mode": "markers",
         "name": "",
         "orientation": "v",
         "showlegend": false,
         "type": "scatter",
         "x": [
          -22.448978424072266,
          -139.5626220703125,
          56.93682098388672,
          14.243968963623047,
          300.9450988769531,
          14.243968963623047,
          277.2795104980469,
          277.2795104980469,
          277.2795104980469,
          277.2795104980469,
          277.2795104980469,
          14.243968963623047,
          14.243968963623047,
          14.243968963623047,
          14.243968963623047,
          14.243968963623047,
          277.2795104980469,
          277.2795104980469,
          277.2795104980469,
          277.2795104980469,
          277.2795104980469,
          14.243968963623047,
          100.18160247802734,
          100.18160247802734,
          100.18160247802734,
          300.9450988769531,
          14.243968963623047,
          14.243968963623047,
          -119.6911849975586,
          277.2795104980469,
          14.243968963623047,
          277.2795104980469,
          277.2795104980469,
          14.243968963623047,
          14.243968963623047,
          277.2795104980469,
          638.5582275390625,
          -195.82611083984375,
          -195.82611083984375,
          -405.0031433105469,
          -405.0031433105469,
          -405.0031433105469,
          -391.4146423339844,
          -391.4146423339844,
          -405.0031433105469,
          -195.82611083984375,
          -405.0031433105469,
          -405.0031433105469,
          -405.0031433105469,
          -195.82611083984375,
          -405.0031433105469,
          -195.82611083984375,
          -195.82611083984375,
          -195.82611083984375,
          -405.0031433105469,
          -405.0031433105469,
          197.6429901123047,
          -562.5135498046875,
          -130.42234802246094,
          122.0575180053711,
          -447.61444091796875,
          105.5156021118164,
          -659.4293212890625,
          681.0704345703125,
          341.27020263671875,
          80.7243881225586,
          544.6661376953125,
          333.6378173828125,
          581.3640747070312
         ],
         "xaxis": "x",
         "y": [
          132.2100372314453,
          31.385120391845703,
          351.9873962402344,
          -315.6843566894531,
          -562.0131225585938,
          -315.6843566894531,
          -179.49420166015625,
          -179.49420166015625,
          -179.49420166015625,
          -179.49420166015625,
          -179.49420166015625,
          -315.6843566894531,
          -315.6843566894531,
          -315.6843566894531,
          -315.6843566894531,
          -315.6843566894531,
          -179.49420166015625,
          -179.49420166015625,
          -179.49420166015625,
          -179.49420166015625,
          -179.49420166015625,
          -315.6843566894531,
          -648.5457763671875,
          -648.5457763671875,
          -648.5457763671875,
          -562.0131225585938,
          -315.6843566894531,
          -315.6843566894531,
          -610.8908081054688,
          -179.49420166015625,
          -315.6843566894531,
          -179.49420166015625,
          -179.49420166015625,
          -315.6843566894531,
          -315.6843566894531,
          -179.49420166015625,
          225.0640869140625,
          357.4419860839844,
          357.4419860839844,
          203.208984375,
          203.208984375,
          203.208984375,
          466.82757568359375,
          466.82757568359375,
          203.208984375,
          357.4419860839844,
          203.208984375,
          203.208984375,
          203.208984375,
          357.4419860839844,
          203.208984375,
          357.4419860839844,
          357.4419860839844,
          357.4419860839844,
          203.208984375,
          203.208984375,
          199.5329132080078,
          648.233154296875,
          704.273681640625,
          480.99066162109375,
          -187.39085388183594,
          679.61279296875,
          533.8154907226562,
          5.624707221984863,
          284.6988220214844,
          207.3673858642578,
          148.3813934326172,
          512.2194213867188,
          -363.0100402832031
         ],
         "yaxis": "y"
        }
       ],
       "layout": {
        "coloraxis": {
         "colorbar": {
          "title": {
           "text": "cluster"
          }
         },
         "colorscale": [
          [
           0,
           "#0d0887"
          ],
          [
           0.1111111111111111,
           "#46039f"
          ],
          [
           0.2222222222222222,
           "#7201a8"
          ],
          [
           0.3333333333333333,
           "#9c179e"
          ],
          [
           0.4444444444444444,
           "#bd3786"
          ],
          [
           0.5555555555555556,
           "#d8576b"
          ],
          [
           0.6666666666666666,
           "#ed7953"
          ],
          [
           0.7777777777777778,
           "#fb9f3a"
          ],
          [
           0.8888888888888888,
           "#fdca26"
          ],
          [
           1,
           "#f0f921"
          ]
         ]
        },
        "height": 1000,
        "legend": {
         "tracegroupgap": 0
        },
        "margin": {
         "t": 60
        },
        "template": {
         "data": {
          "bar": [
           {
            "error_x": {
             "color": "#2a3f5f"
            },
            "error_y": {
             "color": "#2a3f5f"
            },
            "marker": {
             "line": {
              "color": "#E5ECF6",
              "width": 0.5
             },
             "pattern": {
              "fillmode": "overlay",
              "size": 10,
              "solidity": 0.2
             }
            },
            "type": "bar"
           }
          ],
          "barpolar": [
           {
            "marker": {
             "line": {
              "color": "#E5ECF6",
              "width": 0.5
             },
             "pattern": {
              "fillmode": "overlay",
              "size": 10,
              "solidity": 0.2
             }
            },
            "type": "barpolar"
           }
          ],
          "carpet": [
           {
            "aaxis": {
             "endlinecolor": "#2a3f5f",
             "gridcolor": "white",
             "linecolor": "white",
             "minorgridcolor": "white",
             "startlinecolor": "#2a3f5f"
            },
            "baxis": {
             "endlinecolor": "#2a3f5f",
             "gridcolor": "white",
             "linecolor": "white",
             "minorgridcolor": "white",
             "startlinecolor": "#2a3f5f"
            },
            "type": "carpet"
           }
          ],
          "choropleth": [
           {
            "colorbar": {
             "outlinewidth": 0,
             "ticks": ""
            },
            "type": "choropleth"
           }
          ],
          "contour": [
           {
            "colorbar": {
             "outlinewidth": 0,
             "ticks": ""
            },
            "colorscale": [
             [
              0,
              "#0d0887"
             ],
             [
              0.1111111111111111,
              "#46039f"
             ],
             [
              0.2222222222222222,
              "#7201a8"
             ],
             [
              0.3333333333333333,
              "#9c179e"
             ],
             [
              0.4444444444444444,
              "#bd3786"
             ],
             [
              0.5555555555555556,
              "#d8576b"
             ],
             [
              0.6666666666666666,
              "#ed7953"
             ],
             [
              0.7777777777777778,
              "#fb9f3a"
             ],
             [
              0.8888888888888888,
              "#fdca26"
             ],
             [
              1,
              "#f0f921"
             ]
            ],
            "type": "contour"
           }
          ],
          "contourcarpet": [
           {
            "colorbar": {
             "outlinewidth": 0,
             "ticks": ""
            },
            "type": "contourcarpet"
           }
          ],
          "heatmap": [
           {
            "colorbar": {
             "outlinewidth": 0,
             "ticks": ""
            },
            "colorscale": [
             [
              0,
              "#0d0887"
             ],
             [
              0.1111111111111111,
              "#46039f"
             ],
             [
              0.2222222222222222,
              "#7201a8"
             ],
             [
              0.3333333333333333,
              "#9c179e"
             ],
             [
              0.4444444444444444,
              "#bd3786"
             ],
             [
              0.5555555555555556,
              "#d8576b"
             ],
             [
              0.6666666666666666,
              "#ed7953"
             ],
             [
              0.7777777777777778,
              "#fb9f3a"
             ],
             [
              0.8888888888888888,
              "#fdca26"
             ],
             [
              1,
              "#f0f921"
             ]
            ],
            "type": "heatmap"
           }
          ],
          "heatmapgl": [
           {
            "colorbar": {
             "outlinewidth": 0,
             "ticks": ""
            },
            "colorscale": [
             [
              0,
              "#0d0887"
             ],
             [
              0.1111111111111111,
              "#46039f"
             ],
             [
              0.2222222222222222,
              "#7201a8"
             ],
             [
              0.3333333333333333,
              "#9c179e"
             ],
             [
              0.4444444444444444,
              "#bd3786"
             ],
             [
              0.5555555555555556,
              "#d8576b"
             ],
             [
              0.6666666666666666,
              "#ed7953"
             ],
             [
              0.7777777777777778,
              "#fb9f3a"
             ],
             [
              0.8888888888888888,
              "#fdca26"
             ],
             [
              1,
              "#f0f921"
             ]
            ],
            "type": "heatmapgl"
           }
          ],
          "histogram": [
           {
            "marker": {
             "pattern": {
              "fillmode": "overlay",
              "size": 10,
              "solidity": 0.2
             }
            },
            "type": "histogram"
           }
          ],
          "histogram2d": [
           {
            "colorbar": {
             "outlinewidth": 0,
             "ticks": ""
            },
            "colorscale": [
             [
              0,
              "#0d0887"
             ],
             [
              0.1111111111111111,
              "#46039f"
             ],
             [
              0.2222222222222222,
              "#7201a8"
             ],
             [
              0.3333333333333333,
              "#9c179e"
             ],
             [
              0.4444444444444444,
              "#bd3786"
             ],
             [
              0.5555555555555556,
              "#d8576b"
             ],
             [
              0.6666666666666666,
              "#ed7953"
             ],
             [
              0.7777777777777778,
              "#fb9f3a"
             ],
             [
              0.8888888888888888,
              "#fdca26"
             ],
             [
              1,
              "#f0f921"
             ]
            ],
            "type": "histogram2d"
           }
          ],
          "histogram2dcontour": [
           {
            "colorbar": {
             "outlinewidth": 0,
             "ticks": ""
            },
            "colorscale": [
             [
              0,
              "#0d0887"
             ],
             [
              0.1111111111111111,
              "#46039f"
             ],
             [
              0.2222222222222222,
              "#7201a8"
             ],
             [
              0.3333333333333333,
              "#9c179e"
             ],
             [
              0.4444444444444444,
              "#bd3786"
             ],
             [
              0.5555555555555556,
              "#d8576b"
             ],
             [
              0.6666666666666666,
              "#ed7953"
             ],
             [
              0.7777777777777778,
              "#fb9f3a"
             ],
             [
              0.8888888888888888,
              "#fdca26"
             ],
             [
              1,
              "#f0f921"
             ]
            ],
            "type": "histogram2dcontour"
           }
          ],
          "mesh3d": [
           {
            "colorbar": {
             "outlinewidth": 0,
             "ticks": ""
            },
            "type": "mesh3d"
           }
          ],
          "parcoords": [
           {
            "line": {
             "colorbar": {
              "outlinewidth": 0,
              "ticks": ""
             }
            },
            "type": "parcoords"
           }
          ],
          "pie": [
           {
            "automargin": true,
            "type": "pie"
           }
          ],
          "scatter": [
           {
            "fillpattern": {
             "fillmode": "overlay",
             "size": 10,
             "solidity": 0.2
            },
            "type": "scatter"
           }
          ],
          "scatter3d": [
           {
            "line": {
             "colorbar": {
              "outlinewidth": 0,
              "ticks": ""
             }
            },
            "marker": {
             "colorbar": {
              "outlinewidth": 0,
              "ticks": ""
             }
            },
            "type": "scatter3d"
           }
          ],
          "scattercarpet": [
           {
            "marker": {
             "colorbar": {
              "outlinewidth": 0,
              "ticks": ""
             }
            },
            "type": "scattercarpet"
           }
          ],
          "scattergeo": [
           {
            "marker": {
             "colorbar": {
              "outlinewidth": 0,
              "ticks": ""
             }
            },
            "type": "scattergeo"
           }
          ],
          "scattergl": [
           {
            "marker": {
             "colorbar": {
              "outlinewidth": 0,
              "ticks": ""
             }
            },
            "type": "scattergl"
           }
          ],
          "scattermapbox": [
           {
            "marker": {
             "colorbar": {
              "outlinewidth": 0,
              "ticks": ""
             }
            },
            "type": "scattermapbox"
           }
          ],
          "scatterpolar": [
           {
            "marker": {
             "colorbar": {
              "outlinewidth": 0,
              "ticks": ""
             }
            },
            "type": "scatterpolar"
           }
          ],
          "scatterpolargl": [
           {
            "marker": {
             "colorbar": {
              "outlinewidth": 0,
              "ticks": ""
             }
            },
            "type": "scatterpolargl"
           }
          ],
          "scatterternary": [
           {
            "marker": {
             "colorbar": {
              "outlinewidth": 0,
              "ticks": ""
             }
            },
            "type": "scatterternary"
           }
          ],
          "surface": [
           {
            "colorbar": {
             "outlinewidth": 0,
             "ticks": ""
            },
            "colorscale": [
             [
              0,
              "#0d0887"
             ],
             [
              0.1111111111111111,
              "#46039f"
             ],
             [
              0.2222222222222222,
              "#7201a8"
             ],
             [
              0.3333333333333333,
              "#9c179e"
             ],
             [
              0.4444444444444444,
              "#bd3786"
             ],
             [
              0.5555555555555556,
              "#d8576b"
             ],
             [
              0.6666666666666666,
              "#ed7953"
             ],
             [
              0.7777777777777778,
              "#fb9f3a"
             ],
             [
              0.8888888888888888,
              "#fdca26"
             ],
             [
              1,
              "#f0f921"
             ]
            ],
            "type": "surface"
           }
          ],
          "table": [
           {
            "cells": {
             "fill": {
              "color": "#EBF0F8"
             },
             "line": {
              "color": "white"
             }
            },
            "header": {
             "fill": {
              "color": "#C8D4E3"
             },
             "line": {
              "color": "white"
             }
            },
            "type": "table"
           }
          ]
         },
         "layout": {
          "annotationdefaults": {
           "arrowcolor": "#2a3f5f",
           "arrowhead": 0,
           "arrowwidth": 1
          },
          "autotypenumbers": "strict",
          "coloraxis": {
           "colorbar": {
            "outlinewidth": 0,
            "ticks": ""
           }
          },
          "colorscale": {
           "diverging": [
            [
             0,
             "#8e0152"
            ],
            [
             0.1,
             "#c51b7d"
            ],
            [
             0.2,
             "#de77ae"
            ],
            [
             0.3,
             "#f1b6da"
            ],
            [
             0.4,
             "#fde0ef"
            ],
            [
             0.5,
             "#f7f7f7"
            ],
            [
             0.6,
             "#e6f5d0"
            ],
            [
             0.7,
             "#b8e186"
            ],
            [
             0.8,
             "#7fbc41"
            ],
            [
             0.9,
             "#4d9221"
            ],
            [
             1,
             "#276419"
            ]
           ],
           "sequential": [
            [
             0,
             "#0d0887"
            ],
            [
             0.1111111111111111,
             "#46039f"
            ],
            [
             0.2222222222222222,
             "#7201a8"
            ],
            [
             0.3333333333333333,
             "#9c179e"
            ],
            [
             0.4444444444444444,
             "#bd3786"
            ],
            [
             0.5555555555555556,
             "#d8576b"
            ],
            [
             0.6666666666666666,
             "#ed7953"
            ],
            [
             0.7777777777777778,
             "#fb9f3a"
            ],
            [
             0.8888888888888888,
             "#fdca26"
            ],
            [
             1,
             "#f0f921"
            ]
           ],
           "sequentialminus": [
            [
             0,
             "#0d0887"
            ],
            [
             0.1111111111111111,
             "#46039f"
            ],
            [
             0.2222222222222222,
             "#7201a8"
            ],
            [
             0.3333333333333333,
             "#9c179e"
            ],
            [
             0.4444444444444444,
             "#bd3786"
            ],
            [
             0.5555555555555556,
             "#d8576b"
            ],
            [
             0.6666666666666666,
             "#ed7953"
            ],
            [
             0.7777777777777778,
             "#fb9f3a"
            ],
            [
             0.8888888888888888,
             "#fdca26"
            ],
            [
             1,
             "#f0f921"
            ]
           ]
          },
          "colorway": [
           "#636efa",
           "#EF553B",
           "#00cc96",
           "#ab63fa",
           "#FFA15A",
           "#19d3f3",
           "#FF6692",
           "#B6E880",
           "#FF97FF",
           "#FECB52"
          ],
          "font": {
           "color": "#2a3f5f"
          },
          "geo": {
           "bgcolor": "white",
           "lakecolor": "white",
           "landcolor": "#E5ECF6",
           "showlakes": true,
           "showland": true,
           "subunitcolor": "white"
          },
          "hoverlabel": {
           "align": "left"
          },
          "hovermode": "closest",
          "mapbox": {
           "style": "light"
          },
          "paper_bgcolor": "white",
          "plot_bgcolor": "#E5ECF6",
          "polar": {
           "angularaxis": {
            "gridcolor": "white",
            "linecolor": "white",
            "ticks": ""
           },
           "bgcolor": "#E5ECF6",
           "radialaxis": {
            "gridcolor": "white",
            "linecolor": "white",
            "ticks": ""
           }
          },
          "scene": {
           "xaxis": {
            "backgroundcolor": "#E5ECF6",
            "gridcolor": "white",
            "gridwidth": 2,
            "linecolor": "white",
            "showbackground": true,
            "ticks": "",
            "zerolinecolor": "white"
           },
           "yaxis": {
            "backgroundcolor": "#E5ECF6",
            "gridcolor": "white",
            "gridwidth": 2,
            "linecolor": "white",
            "showbackground": true,
            "ticks": "",
            "zerolinecolor": "white"
           },
           "zaxis": {
            "backgroundcolor": "#E5ECF6",
            "gridcolor": "white",
            "gridwidth": 2,
            "linecolor": "white",
            "showbackground": true,
            "ticks": "",
            "zerolinecolor": "white"
           }
          },
          "shapedefaults": {
           "line": {
            "color": "#2a3f5f"
           }
          },
          "ternary": {
           "aaxis": {
            "gridcolor": "white",
            "linecolor": "white",
            "ticks": ""
           },
           "baxis": {
            "gridcolor": "white",
            "linecolor": "white",
            "ticks": ""
           },
           "bgcolor": "#E5ECF6",
           "caxis": {
            "gridcolor": "white",
            "linecolor": "white",
            "ticks": ""
           }
          },
          "title": {
           "x": 0.05
          },
          "xaxis": {
           "automargin": true,
           "gridcolor": "white",
           "linecolor": "white",
           "ticks": "",
           "title": {
            "standoff": 15
           },
           "zerolinecolor": "white",
           "zerolinewidth": 2
          },
          "yaxis": {
           "automargin": true,
           "gridcolor": "white",
           "linecolor": "white",
           "ticks": "",
           "title": {
            "standoff": 15
           },
           "zerolinecolor": "white",
           "zerolinewidth": 2
          }
         }
        },
        "width": 1000,
        "xaxis": {
         "anchor": "y",
         "domain": [
          0,
          1
         ],
         "title": {
          "text": "x"
         }
        },
        "yaxis": {
         "anchor": "x",
         "domain": [
          0,
          1
         ],
         "title": {
          "text": "y"
         }
        }
       }
      }
     },
     "metadata": {},
     "output_type": "display_data"
    }
   ],
   "source": [
    "import plotly.express as px\n",
    "fig = px.scatter(df, x='x', y='y', color='cluster', width=1000, height=1000,\n",
    "                 hover_name=\"text\", hover_data=[\"x\", \"y\"])\n",
    "\n",
    "fig.update_traces(marker=dict(size=10))\n",
    "\n",
    "fig.show()"
   ]
  },
  {
   "cell_type": "code",
   "execution_count": 43,
   "metadata": {},
   "outputs": [
    {
     "data": {
      "application/vnd.plotly.v1+json": {
       "config": {
        "plotlyServerURL": "https://plot.ly"
       },
       "data": [
        {
         "marker": {
          "color": 0,
          "line": {
           "color": "black",
           "width": 2
          },
          "size": 10
         },
         "mode": "markers",
         "name": "Cluster 0",
         "text": [
          "Будет хилить примерно по ",
          "Мммм... Да....\r\n\r\n",
          "Почта "
         ],
         "type": "scatter",
         "x": [
          -22.448978424072266,
          -139.5626220703125,
          56.93682098388672
         ],
         "y": [
          132.2100372314453,
          31.385120391845703,
          351.9873962402344
         ]
        },
        {
         "marker": {
          "color": 1,
          "line": {
           "color": "black",
           "width": 2
          },
          "size": 10
         },
         "mode": "markers",
         "name": "Cluster 1",
         "text": [
          "Спасибо, что пользуетесь - ",
          "Спасибо, что пользуетесь - ",
          "Спасибо, что пользуетесь - ",
          "Спасибо, что пользуетесь - ",
          "Спасибо, что пользуетесь - ",
          "Спасибо, что пользуетесь - ",
          "Спасибо, что пользуетесь - ",
          "Спасибо, что пользуетесь - ",
          "Спасибо, что пользуетесь - ",
          "Спасибо, что пользуетесь - ",
          "Спасибо, что пользуетесь - ",
          "Спасибо, что пользуетесь - ",
          "Спасибо, что пользуетесь - ",
          "Спасибо, что пользуетесь - ",
          "Спасибо, что пользуетесь - ",
          "Спасибо, что пользуетесь - ",
          "Спасибо, что пользуетесь - ",
          "Спасибо, что пользуетесь - ",
          "Спасибо, что пользуетесь - ",
          "Спасибо, что пользуетесь - ",
          "Спасибо, что пользуетесь - ",
          "Спасибо, что пользуетесь - ",
          "Спасибо, что пользуетесь - ",
          "Спасибо, что пользуетесь - ",
          "Спасибо, что пользуетесь - ",
          "Спасибо, что пользуетесь - ",
          "Спасибо, что пользуетесь - ",
          "Спасибо, что пользуетесь - ",
          "Спасибо, что пользуетесь - ",
          "Спасибо, что пользуетесь - ",
          "Спасибо, что пользуетесь - ",
          "Спасибо, что пользуетесь - ",
          "Спасибо, что пользуетесь - "
         ],
         "type": "scatter",
         "x": [
          14.243968963623047,
          300.9450988769531,
          14.243968963623047,
          277.2795104980469,
          277.2795104980469,
          277.2795104980469,
          277.2795104980469,
          277.2795104980469,
          14.243968963623047,
          14.243968963623047,
          14.243968963623047,
          14.243968963623047,
          14.243968963623047,
          277.2795104980469,
          277.2795104980469,
          277.2795104980469,
          277.2795104980469,
          277.2795104980469,
          14.243968963623047,
          100.18160247802734,
          100.18160247802734,
          100.18160247802734,
          300.9450988769531,
          14.243968963623047,
          14.243968963623047,
          -119.6911849975586,
          277.2795104980469,
          14.243968963623047,
          277.2795104980469,
          277.2795104980469,
          14.243968963623047,
          14.243968963623047,
          277.2795104980469
         ],
         "y": [
          -315.6843566894531,
          -562.0131225585938,
          -315.6843566894531,
          -179.49420166015625,
          -179.49420166015625,
          -179.49420166015625,
          -179.49420166015625,
          -179.49420166015625,
          -315.6843566894531,
          -315.6843566894531,
          -315.6843566894531,
          -315.6843566894531,
          -315.6843566894531,
          -179.49420166015625,
          -179.49420166015625,
          -179.49420166015625,
          -179.49420166015625,
          -179.49420166015625,
          -315.6843566894531,
          -648.5457763671875,
          -648.5457763671875,
          -648.5457763671875,
          -562.0131225585938,
          -315.6843566894531,
          -315.6843566894531,
          -610.8908081054688,
          -179.49420166015625,
          -315.6843566894531,
          -179.49420166015625,
          -179.49420166015625,
          -315.6843566894531,
          -315.6843566894531,
          -179.49420166015625
         ]
        },
        {
         "marker": {
          "color": 2,
          "line": {
           "color": "black",
           "width": 2
          },
          "size": 10
         },
         "mode": "markers",
         "name": "Cluster 2",
         "text": [
          "Ученики МОУ Кадетская школа \r\nК. Рамиль, К. Сергей, Д. Ярослав и О. Егор стали финалистами регионального трека Всероссийского конкурса научно-технологических проектов «Большие вызовы», в котором приняли участие более 800 школьников Московской области.\r\n\r\nРебята представили проект по направлению «Беспилотный транспорт и логистические системы» по теме «Автономная охрана общеобразовательных учреждений с помощью БПЛА» и стали участниками очной образовательной программы «Взлета», которая пройдёт в кампусе Гимназии Примакова.\r\n\r\nПоздравляем и гордимся нашими учениками и желаем им успеха в покорении следующих вершин!\r\n.\r\n.\r\n.\r\n.\r\n"
         ],
         "type": "scatter",
         "x": [
          638.5582275390625
         ],
         "y": [
          225.0640869140625
         ]
        },
        {
         "marker": {
          "color": 3,
          "line": {
           "color": "black",
           "width": 2
          },
          "size": 10
         },
         "mode": "markers",
         "name": "Cluster 3",
         "text": [
          "Рад был помочь! Ваш, ",
          "Рад был помочь! Ваш, ",
          "Рад был помочь! Ваш, ",
          "Рад был помочь! Ваш, ",
          "Рад был помочь! Ваш, ",
          "Рад был помочь! Ваш, ",
          "Рад был помочь! Ваш, ",
          "Рад был помочь! Ваш, ",
          "Рад был помочь! Ваш, ",
          "Рад был помочь! Ваш, ",
          "Рад был помочь! Ваш, ",
          "Рад был помочь! Ваш, ",
          "Рад был помочь! Ваш, ",
          "Рад был помочь! Ваш, ",
          "Рад был помочь! Ваш, ",
          "Рад был помочь! Ваш, ",
          "Рад был помочь! Ваш, ",
          "Рад был помочь! Ваш, ",
          "Рад был помочь! Ваш, "
         ],
         "type": "scatter",
         "x": [
          -195.82611083984375,
          -195.82611083984375,
          -405.0031433105469,
          -405.0031433105469,
          -405.0031433105469,
          -391.4146423339844,
          -391.4146423339844,
          -405.0031433105469,
          -195.82611083984375,
          -405.0031433105469,
          -405.0031433105469,
          -405.0031433105469,
          -195.82611083984375,
          -405.0031433105469,
          -195.82611083984375,
          -195.82611083984375,
          -195.82611083984375,
          -405.0031433105469,
          -405.0031433105469
         ],
         "y": [
          357.4419860839844,
          357.4419860839844,
          203.208984375,
          203.208984375,
          203.208984375,
          466.82757568359375,
          466.82757568359375,
          203.208984375,
          357.4419860839844,
          203.208984375,
          203.208984375,
          203.208984375,
          357.4419860839844,
          203.208984375,
          357.4419860839844,
          357.4419860839844,
          357.4419860839844,
          203.208984375,
          203.208984375
         ]
        },
        {
         "marker": {
          "color": 4,
          "line": {
           "color": "black",
           "width": 2
          },
          "size": 10
         },
         "mode": "markers",
         "name": "Cluster 4",
         "text": [
          "Дєхья против Гидро Слайма\r\n\r\n"
         ],
         "type": "scatter",
         "x": [
          197.6429901123047
         ],
         "y": [
          199.5329132080078
         ]
        },
        {
         "marker": {
          "color": 5,
          "line": {
           "color": "black",
           "width": 2
          },
          "size": 10
         },
         "mode": "markers",
         "name": "Cluster 5",
         "text": [
          "Фулл с Яэ и Баал вышел!! \r\nПока что есть только в таком качестве, приятного просмотра..)\r\n"
         ],
         "type": "scatter",
         "x": [
          -562.5135498046875
         ],
         "y": [
          648.233154296875
         ]
        },
        {
         "marker": {
          "color": 6,
          "line": {
           "color": "black",
           "width": 2
          },
          "size": 10
         },
         "mode": "markers",
         "name": "Cluster 6",
         "text": [
          "🔥Пользователь ТикТока swammyxo "
         ],
         "type": "scatter",
         "x": [
          -130.42234802246094
         ],
         "y": [
          704.273681640625
         ]
        },
        {
         "marker": {
          "color": 7,
          "line": {
           "color": "black",
           "width": 2
          },
          "size": 10
         },
         "mode": "markers",
         "name": "Cluster 7",
         "text": [
          "🔷🔹"
         ],
         "type": "scatter",
         "x": [
          122.0575180053711
         ],
         "y": [
          480.99066162109375
         ]
        },
        {
         "marker": {
          "color": 8,
          "line": {
           "color": "black",
           "width": 2
          },
          "size": 10
         },
         "mode": "markers",
         "name": "Cluster 8",
         "text": [
          "Рейтинг персонажей для прохождения бездны на 17.01.2022\r\nИсточник: genshinlab\r\n\r\n"
         ],
         "type": "scatter",
         "x": [
          -447.61444091796875
         ],
         "y": [
          -187.39085388183594
         ]
        },
        {
         "marker": {
          "color": 9,
          "line": {
           "color": "black",
           "width": 2
          },
          "size": 10
         },
         "mode": "markers",
         "name": "Cluster 9",
         "text": [
          "Аль Хайтам в игре\r\n\r\n▫️Источник: Неизвестно \r\n\r\n"
         ],
         "type": "scatter",
         "x": [
          105.5156021118164
         ],
         "y": [
          679.61279296875
         ]
        },
        {
         "marker": {
          "color": 10,
          "line": {
           "color": "black",
           "width": 2
          },
          "size": 10
         },
         "mode": "markers",
         "name": "Cluster 10",
         "text": [
          "Musou isshin в реальной жизни.\r\nВыглядит стильно⚡️\r\n\r\n"
         ],
         "type": "scatter",
         "x": [
          -659.4293212890625
         ],
         "y": [
          533.8154907226562
         ]
        },
        {
         "marker": {
          "color": 11,
          "line": {
           "color": "black",
           "width": 2
          },
          "size": 10
         },
         "mode": "markers",
         "name": "Cluster 11",
         "text": [
          "Ubatcha подтвердил, что в первой половине будут Аято и Венти, во второй половине будет Аяка.\r\n\r\nUPD: Кадзухи не будет\r\n\r\n"
         ],
         "type": "scatter",
         "x": [
          681.0704345703125
         ],
         "y": [
          5.624707221984863
         ]
        },
        {
         "marker": {
          "color": 12,
          "line": {
           "color": "black",
           "width": 2
          },
          "size": 10
         },
         "mode": "markers",
         "name": "Cluster 12",
         "text": [
          "🥲 Эволюция Розарии\r\n\r\n🔖 "
         ],
         "type": "scatter",
         "x": [
          341.27020263671875
         ],
         "y": [
          284.6988220214844
         ]
        },
        {
         "marker": {
          "color": 13,
          "line": {
           "color": "black",
           "width": 2
          },
          "size": 10
         },
         "mode": "markers",
         "name": "Cluster 13",
         "text": [
          "Мона брух момент\r\n\r\n"
         ],
         "type": "scatter",
         "x": [
          80.7243881225586
         ],
         "y": [
          207.3673858642578
         ]
        },
        {
         "marker": {
          "color": 14,
          "line": {
           "color": "black",
           "width": 2
          },
          "size": 10
         },
         "mode": "markers",
         "name": "Cluster 14",
         "text": [
          "🤔 С китайского форума, от инсайдера с хорошей репутацией:\r\n\r\n🔸 Оружейный баннер Итто в 2.7; Его сигна и Память о пыли.\r\n\r\n❗️"
         ],
         "type": "scatter",
         "x": [
          544.6661376953125
         ],
         "y": [
          148.3813934326172
         ]
        },
        {
         "marker": {
          "color": 15,
          "line": {
           "color": "black",
           "width": 2
          },
          "size": 10
         },
         "mode": "markers",
         "name": "Cluster 15",
         "text": [
          "мой парень когда ему выпал дед, а он не сносит "
         ],
         "type": "scatter",
         "x": [
          333.6378173828125
         ],
         "y": [
          512.2194213867188
         ]
        },
        {
         "marker": {
          "color": 16,
          "line": {
           "color": "black",
           "width": 2
          },
          "size": 10
         },
         "mode": "markers",
         "name": "Cluster 16",
         "text": [
          "Мама! Присоединяйся\r\n\r\nПодпишись 👉 "
         ],
         "type": "scatter",
         "x": [
          581.3640747070312
         ],
         "y": [
          -363.0100402832031
         ]
        }
       ],
       "layout": {
        "height": 1000,
        "hoverlabel": {
         "bgcolor": "white",
         "font": {
          "size": 12
         },
         "namelength": -1
        },
        "legend": {
         "orientation": "h",
         "title": {
          "text": "Clusters"
         },
         "x": 0.01,
         "xanchor": "left",
         "y": 1.02,
         "yanchor": "bottom"
        },
        "template": {
         "data": {
          "bar": [
           {
            "error_x": {
             "color": "#2a3f5f"
            },
            "error_y": {
             "color": "#2a3f5f"
            },
            "marker": {
             "line": {
              "color": "#E5ECF6",
              "width": 0.5
             },
             "pattern": {
              "fillmode": "overlay",
              "size": 10,
              "solidity": 0.2
             }
            },
            "type": "bar"
           }
          ],
          "barpolar": [
           {
            "marker": {
             "line": {
              "color": "#E5ECF6",
              "width": 0.5
             },
             "pattern": {
              "fillmode": "overlay",
              "size": 10,
              "solidity": 0.2
             }
            },
            "type": "barpolar"
           }
          ],
          "carpet": [
           {
            "aaxis": {
             "endlinecolor": "#2a3f5f",
             "gridcolor": "white",
             "linecolor": "white",
             "minorgridcolor": "white",
             "startlinecolor": "#2a3f5f"
            },
            "baxis": {
             "endlinecolor": "#2a3f5f",
             "gridcolor": "white",
             "linecolor": "white",
             "minorgridcolor": "white",
             "startlinecolor": "#2a3f5f"
            },
            "type": "carpet"
           }
          ],
          "choropleth": [
           {
            "colorbar": {
             "outlinewidth": 0,
             "ticks": ""
            },
            "type": "choropleth"
           }
          ],
          "contour": [
           {
            "colorbar": {
             "outlinewidth": 0,
             "ticks": ""
            },
            "colorscale": [
             [
              0,
              "#0d0887"
             ],
             [
              0.1111111111111111,
              "#46039f"
             ],
             [
              0.2222222222222222,
              "#7201a8"
             ],
             [
              0.3333333333333333,
              "#9c179e"
             ],
             [
              0.4444444444444444,
              "#bd3786"
             ],
             [
              0.5555555555555556,
              "#d8576b"
             ],
             [
              0.6666666666666666,
              "#ed7953"
             ],
             [
              0.7777777777777778,
              "#fb9f3a"
             ],
             [
              0.8888888888888888,
              "#fdca26"
             ],
             [
              1,
              "#f0f921"
             ]
            ],
            "type": "contour"
           }
          ],
          "contourcarpet": [
           {
            "colorbar": {
             "outlinewidth": 0,
             "ticks": ""
            },
            "type": "contourcarpet"
           }
          ],
          "heatmap": [
           {
            "colorbar": {
             "outlinewidth": 0,
             "ticks": ""
            },
            "colorscale": [
             [
              0,
              "#0d0887"
             ],
             [
              0.1111111111111111,
              "#46039f"
             ],
             [
              0.2222222222222222,
              "#7201a8"
             ],
             [
              0.3333333333333333,
              "#9c179e"
             ],
             [
              0.4444444444444444,
              "#bd3786"
             ],
             [
              0.5555555555555556,
              "#d8576b"
             ],
             [
              0.6666666666666666,
              "#ed7953"
             ],
             [
              0.7777777777777778,
              "#fb9f3a"
             ],
             [
              0.8888888888888888,
              "#fdca26"
             ],
             [
              1,
              "#f0f921"
             ]
            ],
            "type": "heatmap"
           }
          ],
          "heatmapgl": [
           {
            "colorbar": {
             "outlinewidth": 0,
             "ticks": ""
            },
            "colorscale": [
             [
              0,
              "#0d0887"
             ],
             [
              0.1111111111111111,
              "#46039f"
             ],
             [
              0.2222222222222222,
              "#7201a8"
             ],
             [
              0.3333333333333333,
              "#9c179e"
             ],
             [
              0.4444444444444444,
              "#bd3786"
             ],
             [
              0.5555555555555556,
              "#d8576b"
             ],
             [
              0.6666666666666666,
              "#ed7953"
             ],
             [
              0.7777777777777778,
              "#fb9f3a"
             ],
             [
              0.8888888888888888,
              "#fdca26"
             ],
             [
              1,
              "#f0f921"
             ]
            ],
            "type": "heatmapgl"
           }
          ],
          "histogram": [
           {
            "marker": {
             "pattern": {
              "fillmode": "overlay",
              "size": 10,
              "solidity": 0.2
             }
            },
            "type": "histogram"
           }
          ],
          "histogram2d": [
           {
            "colorbar": {
             "outlinewidth": 0,
             "ticks": ""
            },
            "colorscale": [
             [
              0,
              "#0d0887"
             ],
             [
              0.1111111111111111,
              "#46039f"
             ],
             [
              0.2222222222222222,
              "#7201a8"
             ],
             [
              0.3333333333333333,
              "#9c179e"
             ],
             [
              0.4444444444444444,
              "#bd3786"
             ],
             [
              0.5555555555555556,
              "#d8576b"
             ],
             [
              0.6666666666666666,
              "#ed7953"
             ],
             [
              0.7777777777777778,
              "#fb9f3a"
             ],
             [
              0.8888888888888888,
              "#fdca26"
             ],
             [
              1,
              "#f0f921"
             ]
            ],
            "type": "histogram2d"
           }
          ],
          "histogram2dcontour": [
           {
            "colorbar": {
             "outlinewidth": 0,
             "ticks": ""
            },
            "colorscale": [
             [
              0,
              "#0d0887"
             ],
             [
              0.1111111111111111,
              "#46039f"
             ],
             [
              0.2222222222222222,
              "#7201a8"
             ],
             [
              0.3333333333333333,
              "#9c179e"
             ],
             [
              0.4444444444444444,
              "#bd3786"
             ],
             [
              0.5555555555555556,
              "#d8576b"
             ],
             [
              0.6666666666666666,
              "#ed7953"
             ],
             [
              0.7777777777777778,
              "#fb9f3a"
             ],
             [
              0.8888888888888888,
              "#fdca26"
             ],
             [
              1,
              "#f0f921"
             ]
            ],
            "type": "histogram2dcontour"
           }
          ],
          "mesh3d": [
           {
            "colorbar": {
             "outlinewidth": 0,
             "ticks": ""
            },
            "type": "mesh3d"
           }
          ],
          "parcoords": [
           {
            "line": {
             "colorbar": {
              "outlinewidth": 0,
              "ticks": ""
             }
            },
            "type": "parcoords"
           }
          ],
          "pie": [
           {
            "automargin": true,
            "type": "pie"
           }
          ],
          "scatter": [
           {
            "fillpattern": {
             "fillmode": "overlay",
             "size": 10,
             "solidity": 0.2
            },
            "type": "scatter"
           }
          ],
          "scatter3d": [
           {
            "line": {
             "colorbar": {
              "outlinewidth": 0,
              "ticks": ""
             }
            },
            "marker": {
             "colorbar": {
              "outlinewidth": 0,
              "ticks": ""
             }
            },
            "type": "scatter3d"
           }
          ],
          "scattercarpet": [
           {
            "marker": {
             "colorbar": {
              "outlinewidth": 0,
              "ticks": ""
             }
            },
            "type": "scattercarpet"
           }
          ],
          "scattergeo": [
           {
            "marker": {
             "colorbar": {
              "outlinewidth": 0,
              "ticks": ""
             }
            },
            "type": "scattergeo"
           }
          ],
          "scattergl": [
           {
            "marker": {
             "colorbar": {
              "outlinewidth": 0,
              "ticks": ""
             }
            },
            "type": "scattergl"
           }
          ],
          "scattermapbox": [
           {
            "marker": {
             "colorbar": {
              "outlinewidth": 0,
              "ticks": ""
             }
            },
            "type": "scattermapbox"
           }
          ],
          "scatterpolar": [
           {
            "marker": {
             "colorbar": {
              "outlinewidth": 0,
              "ticks": ""
             }
            },
            "type": "scatterpolar"
           }
          ],
          "scatterpolargl": [
           {
            "marker": {
             "colorbar": {
              "outlinewidth": 0,
              "ticks": ""
             }
            },
            "type": "scatterpolargl"
           }
          ],
          "scatterternary": [
           {
            "marker": {
             "colorbar": {
              "outlinewidth": 0,
              "ticks": ""
             }
            },
            "type": "scatterternary"
           }
          ],
          "surface": [
           {
            "colorbar": {
             "outlinewidth": 0,
             "ticks": ""
            },
            "colorscale": [
             [
              0,
              "#0d0887"
             ],
             [
              0.1111111111111111,
              "#46039f"
             ],
             [
              0.2222222222222222,
              "#7201a8"
             ],
             [
              0.3333333333333333,
              "#9c179e"
             ],
             [
              0.4444444444444444,
              "#bd3786"
             ],
             [
              0.5555555555555556,
              "#d8576b"
             ],
             [
              0.6666666666666666,
              "#ed7953"
             ],
             [
              0.7777777777777778,
              "#fb9f3a"
             ],
             [
              0.8888888888888888,
              "#fdca26"
             ],
             [
              1,
              "#f0f921"
             ]
            ],
            "type": "surface"
           }
          ],
          "table": [
           {
            "cells": {
             "fill": {
              "color": "#EBF0F8"
             },
             "line": {
              "color": "white"
             }
            },
            "header": {
             "fill": {
              "color": "#C8D4E3"
             },
             "line": {
              "color": "white"
             }
            },
            "type": "table"
           }
          ]
         },
         "layout": {
          "annotationdefaults": {
           "arrowcolor": "#2a3f5f",
           "arrowhead": 0,
           "arrowwidth": 1
          },
          "autotypenumbers": "strict",
          "coloraxis": {
           "colorbar": {
            "outlinewidth": 0,
            "ticks": ""
           }
          },
          "colorscale": {
           "diverging": [
            [
             0,
             "#8e0152"
            ],
            [
             0.1,
             "#c51b7d"
            ],
            [
             0.2,
             "#de77ae"
            ],
            [
             0.3,
             "#f1b6da"
            ],
            [
             0.4,
             "#fde0ef"
            ],
            [
             0.5,
             "#f7f7f7"
            ],
            [
             0.6,
             "#e6f5d0"
            ],
            [
             0.7,
             "#b8e186"
            ],
            [
             0.8,
             "#7fbc41"
            ],
            [
             0.9,
             "#4d9221"
            ],
            [
             1,
             "#276419"
            ]
           ],
           "sequential": [
            [
             0,
             "#0d0887"
            ],
            [
             0.1111111111111111,
             "#46039f"
            ],
            [
             0.2222222222222222,
             "#7201a8"
            ],
            [
             0.3333333333333333,
             "#9c179e"
            ],
            [
             0.4444444444444444,
             "#bd3786"
            ],
            [
             0.5555555555555556,
             "#d8576b"
            ],
            [
             0.6666666666666666,
             "#ed7953"
            ],
            [
             0.7777777777777778,
             "#fb9f3a"
            ],
            [
             0.8888888888888888,
             "#fdca26"
            ],
            [
             1,
             "#f0f921"
            ]
           ],
           "sequentialminus": [
            [
             0,
             "#0d0887"
            ],
            [
             0.1111111111111111,
             "#46039f"
            ],
            [
             0.2222222222222222,
             "#7201a8"
            ],
            [
             0.3333333333333333,
             "#9c179e"
            ],
            [
             0.4444444444444444,
             "#bd3786"
            ],
            [
             0.5555555555555556,
             "#d8576b"
            ],
            [
             0.6666666666666666,
             "#ed7953"
            ],
            [
             0.7777777777777778,
             "#fb9f3a"
            ],
            [
             0.8888888888888888,
             "#fdca26"
            ],
            [
             1,
             "#f0f921"
            ]
           ]
          },
          "colorway": [
           "#636efa",
           "#EF553B",
           "#00cc96",
           "#ab63fa",
           "#FFA15A",
           "#19d3f3",
           "#FF6692",
           "#B6E880",
           "#FF97FF",
           "#FECB52"
          ],
          "font": {
           "color": "#2a3f5f"
          },
          "geo": {
           "bgcolor": "white",
           "lakecolor": "white",
           "landcolor": "#E5ECF6",
           "showlakes": true,
           "showland": true,
           "subunitcolor": "white"
          },
          "hoverlabel": {
           "align": "left"
          },
          "hovermode": "closest",
          "mapbox": {
           "style": "light"
          },
          "paper_bgcolor": "white",
          "plot_bgcolor": "#E5ECF6",
          "polar": {
           "angularaxis": {
            "gridcolor": "white",
            "linecolor": "white",
            "ticks": ""
           },
           "bgcolor": "#E5ECF6",
           "radialaxis": {
            "gridcolor": "white",
            "linecolor": "white",
            "ticks": ""
           }
          },
          "scene": {
           "xaxis": {
            "backgroundcolor": "#E5ECF6",
            "gridcolor": "white",
            "gridwidth": 2,
            "linecolor": "white",
            "showbackground": true,
            "ticks": "",
            "zerolinecolor": "white"
           },
           "yaxis": {
            "backgroundcolor": "#E5ECF6",
            "gridcolor": "white",
            "gridwidth": 2,
            "linecolor": "white",
            "showbackground": true,
            "ticks": "",
            "zerolinecolor": "white"
           },
           "zaxis": {
            "backgroundcolor": "#E5ECF6",
            "gridcolor": "white",
            "gridwidth": 2,
            "linecolor": "white",
            "showbackground": true,
            "ticks": "",
            "zerolinecolor": "white"
           }
          },
          "shapedefaults": {
           "line": {
            "color": "#2a3f5f"
           }
          },
          "ternary": {
           "aaxis": {
            "gridcolor": "white",
            "linecolor": "white",
            "ticks": ""
           },
           "baxis": {
            "gridcolor": "white",
            "linecolor": "white",
            "ticks": ""
           },
           "bgcolor": "#E5ECF6",
           "caxis": {
            "gridcolor": "white",
            "linecolor": "white",
            "ticks": ""
           }
          },
          "title": {
           "x": 0.05
          },
          "xaxis": {
           "automargin": true,
           "gridcolor": "white",
           "linecolor": "white",
           "ticks": "",
           "title": {
            "standoff": 15
           },
           "zerolinecolor": "white",
           "zerolinewidth": 2
          },
          "yaxis": {
           "automargin": true,
           "gridcolor": "white",
           "linecolor": "white",
           "ticks": "",
           "title": {
            "standoff": 15
           },
           "zerolinecolor": "white",
           "zerolinewidth": 2
          }
         }
        },
        "width": 1000,
        "xaxis": {
         "title": {
          "text": "X"
         }
        },
        "yaxis": {
         "title": {
          "text": "Y"
         }
        }
       }
      }
     },
     "metadata": {},
     "output_type": "display_data"
    }
   ],
   "source": [
    "import plotly.graph_objects as go\n",
    "fig = go.Figure()\n",
    "\n",
    "for cluster in df['cluster'].unique():\n",
    "    # cluster=23\n",
    "    cluster_data = df[df['cluster'] == cluster]\n",
    "    fig.add_trace(go.Scatter(\n",
    "        x=cluster_data['x'],\n",
    "        y=cluster_data['y'],\n",
    "        mode='markers',\n",
    "        marker=dict(color=cluster, size=10, line=dict(color='black', width=2)),  \n",
    "        text=cluster_data['text'],\n",
    "        name=f'Cluster {cluster}'\n",
    "        ))\n",
    "\n",
    "fig.update_layout(\n",
    "    xaxis_title='X',\n",
    "    yaxis_title='Y',\n",
    "    legend=dict(title='Clusters', orientation=\"h\", yanchor=\"bottom\", y=1.02, xanchor=\"left\", x=0.01),\n",
    "    hoverlabel=dict(bgcolor=\"white\", font_size=12, namelength=-1),\n",
    "    width=1000, height=1000\n",
    ")\n",
    "\n",
    "fig.show()"
   ]
  },
  {
   "cell_type": "markdown",
   "metadata": {},
   "source": [
    "### Watch all clasters text"
   ]
  },
  {
   "cell_type": "code",
   "execution_count": 44,
   "metadata": {},
   "outputs": [
    {
     "data": {
      "text/html": [
       "<div>\n",
       "<style scoped>\n",
       "    .dataframe tbody tr th:only-of-type {\n",
       "        vertical-align: middle;\n",
       "    }\n",
       "\n",
       "    .dataframe tbody tr th {\n",
       "        vertical-align: top;\n",
       "    }\n",
       "\n",
       "    .dataframe thead th {\n",
       "        text-align: right;\n",
       "    }\n",
       "</style>\n",
       "<table border=\"1\" class=\"dataframe\">\n",
       "  <thead>\n",
       "    <tr style=\"text-align: right;\">\n",
       "      <th></th>\n",
       "      <th>text</th>\n",
       "      <th>from</th>\n",
       "      <th>cleaned_text</th>\n",
       "      <th>x</th>\n",
       "      <th>y</th>\n",
       "      <th>cluster</th>\n",
       "    </tr>\n",
       "  </thead>\n",
       "  <tbody>\n",
       "    <tr>\n",
       "      <th>58</th>\n",
       "      <td>Будет хилить примерно по</td>\n",
       "      <td>McHomak</td>\n",
       "      <td>хилить примерно</td>\n",
       "      <td>-22.448978</td>\n",
       "      <td>132.210037</td>\n",
       "      <td>0</td>\n",
       "    </tr>\n",
       "    <tr>\n",
       "      <th>19</th>\n",
       "      <td>Мммм... Да....\\r\\n\\r\\n</td>\n",
       "      <td>Амалия</td>\n",
       "      <td>мммм</td>\n",
       "      <td>-139.562622</td>\n",
       "      <td>31.385120</td>\n",
       "      <td>0</td>\n",
       "    </tr>\n",
       "    <tr>\n",
       "      <th>18</th>\n",
       "      <td>Почта</td>\n",
       "      <td>McHomak</td>\n",
       "      <td>почта</td>\n",
       "      <td>56.936821</td>\n",
       "      <td>351.987396</td>\n",
       "      <td>0</td>\n",
       "    </tr>\n",
       "    <tr>\n",
       "      <th>34</th>\n",
       "      <td>Спасибо, что пользуетесь -</td>\n",
       "      <td>Амалия</td>\n",
       "      <td>спасибо пользуетесь</td>\n",
       "      <td>14.243969</td>\n",
       "      <td>-315.684357</td>\n",
       "      <td>1</td>\n",
       "    </tr>\n",
       "    <tr>\n",
       "      <th>67</th>\n",
       "      <td>Спасибо, что пользуетесь -</td>\n",
       "      <td>McHomak</td>\n",
       "      <td>спасибо пользуетесь</td>\n",
       "      <td>300.945099</td>\n",
       "      <td>-562.013123</td>\n",
       "      <td>1</td>\n",
       "    </tr>\n",
       "    <tr>\n",
       "      <th>35</th>\n",
       "      <td>Спасибо, что пользуетесь -</td>\n",
       "      <td>McHomak</td>\n",
       "      <td>спасибо пользуетесь</td>\n",
       "      <td>14.243969</td>\n",
       "      <td>-315.684357</td>\n",
       "      <td>1</td>\n",
       "    </tr>\n",
       "    <tr>\n",
       "      <th>37</th>\n",
       "      <td>Спасибо, что пользуетесь -</td>\n",
       "      <td>McHomak</td>\n",
       "      <td>спасибо пользуетесь</td>\n",
       "      <td>277.279510</td>\n",
       "      <td>-179.494202</td>\n",
       "      <td>1</td>\n",
       "    </tr>\n",
       "    <tr>\n",
       "      <th>38</th>\n",
       "      <td>Спасибо, что пользуетесь -</td>\n",
       "      <td>McHomak</td>\n",
       "      <td>спасибо пользуетесь</td>\n",
       "      <td>277.279510</td>\n",
       "      <td>-179.494202</td>\n",
       "      <td>1</td>\n",
       "    </tr>\n",
       "    <tr>\n",
       "      <th>39</th>\n",
       "      <td>Спасибо, что пользуетесь -</td>\n",
       "      <td>McHomak</td>\n",
       "      <td>спасибо пользуетесь</td>\n",
       "      <td>277.279510</td>\n",
       "      <td>-179.494202</td>\n",
       "      <td>1</td>\n",
       "    </tr>\n",
       "    <tr>\n",
       "      <th>40</th>\n",
       "      <td>Спасибо, что пользуетесь -</td>\n",
       "      <td>McHomak</td>\n",
       "      <td>спасибо пользуетесь</td>\n",
       "      <td>277.279510</td>\n",
       "      <td>-179.494202</td>\n",
       "      <td>1</td>\n",
       "    </tr>\n",
       "  </tbody>\n",
       "</table>\n",
       "</div>"
      ],
      "text/plain": [
       "                           text     from         cleaned_text           x  \\\n",
       "58    Будет хилить примерно по   McHomak      хилить примерно  -22.448978   \n",
       "19       Мммм... Да....\\r\\n\\r\\n   Амалия                 мммм -139.562622   \n",
       "18                       Почта   McHomak                почта   56.936821   \n",
       "34  Спасибо, что пользуетесь -    Амалия  спасибо пользуетесь   14.243969   \n",
       "67  Спасибо, что пользуетесь -   McHomak  спасибо пользуетесь  300.945099   \n",
       "35  Спасибо, что пользуетесь -   McHomak  спасибо пользуетесь   14.243969   \n",
       "37  Спасибо, что пользуетесь -   McHomak  спасибо пользуетесь  277.279510   \n",
       "38  Спасибо, что пользуетесь -   McHomak  спасибо пользуетесь  277.279510   \n",
       "39  Спасибо, что пользуетесь -   McHomak  спасибо пользуетесь  277.279510   \n",
       "40  Спасибо, что пользуетесь -   McHomak  спасибо пользуетесь  277.279510   \n",
       "\n",
       "             y  cluster  \n",
       "58  132.210037        0  \n",
       "19   31.385120        0  \n",
       "18  351.987396        0  \n",
       "34 -315.684357        1  \n",
       "67 -562.013123        1  \n",
       "35 -315.684357        1  \n",
       "37 -179.494202        1  \n",
       "38 -179.494202        1  \n",
       "39 -179.494202        1  \n",
       "40 -179.494202        1  "
      ]
     },
     "execution_count": 44,
     "metadata": {},
     "output_type": "execute_result"
    }
   ],
   "source": [
    "df.head(10)"
   ]
  },
  {
   "cell_type": "code",
   "execution_count": 45,
   "metadata": {},
   "outputs": [
    {
     "name": "stdout",
     "output_type": "stream",
     "text": [
      "Total number of clusters: 17\n"
     ]
    }
   ],
   "source": [
    "# количество кластеров\n",
    "print(f\"Total number of clusters: {len(df['cluster'].unique())}\")"
   ]
  },
  {
   "cell_type": "code",
   "execution_count": 46,
   "metadata": {},
   "outputs": [],
   "source": [
    "text_distance=pd.DataFrame(columns=[\"text\", \"cluster\", \"distance\"])\n",
    "for cluster_id in df['cluster'].unique():\n",
    "    cluster_data = df[df['cluster'] == cluster_id]\n",
    "    x_mean=cluster_data[\"x\"].mean()\n",
    "    y_mean=cluster_data[\"y\"].mean()\n",
    "\n",
    "    for index, row in cluster_data.iterrows(): \n",
    "        distance=math.sqrt((row[\"x\"]-x_mean)**2 + (row[\"y\"]-y_mean)**2)\n",
    "        text_distance.loc[len(text_distance.index)] = [row[\"text\"],cluster_id, distance]"
   ]
  },
  {
   "cell_type": "code",
   "execution_count": 47,
   "metadata": {},
   "outputs": [
    {
     "name": "stdout",
     "output_type": "stream",
     "text": [
      "Claster 0 has len: 3\n",
      "Claster 1 has len: 33\n",
      "Claster 2 has len: 1\n",
      "Claster 3 has len: 19\n",
      "Claster 4 has len: 1\n",
      "Claster 5 has len: 1\n",
      "Claster 6 has len: 1\n",
      "Claster 7 has len: 1\n",
      "Claster 8 has len: 1\n",
      "Claster 9 has len: 1\n",
      "Claster 10 has len: 1\n",
      "Claster 11 has len: 1\n",
      "Claster 12 has len: 1\n",
      "Claster 13 has len: 1\n",
      "Claster 14 has len: 1\n",
      "Claster 15 has len: 1\n",
      "Claster 16 has len: 1\n"
     ]
    }
   ],
   "source": [
    "for cluster_id in df['cluster'].unique():\n",
    "    print(f\"Claster {cluster_id} has len: {len(df[df['cluster'] == cluster_id])}\")"
   ]
  },
  {
   "cell_type": "code",
   "execution_count": 48,
   "metadata": {},
   "outputs": [
    {
     "data": {
      "text/html": [
       "<div>\n",
       "<style scoped>\n",
       "    .dataframe tbody tr th:only-of-type {\n",
       "        vertical-align: middle;\n",
       "    }\n",
       "\n",
       "    .dataframe tbody tr th {\n",
       "        vertical-align: top;\n",
       "    }\n",
       "\n",
       "    .dataframe thead th {\n",
       "        text-align: right;\n",
       "    }\n",
       "</style>\n",
       "<table border=\"1\" class=\"dataframe\">\n",
       "  <thead>\n",
       "    <tr style=\"text-align: right;\">\n",
       "      <th></th>\n",
       "      <th>text</th>\n",
       "      <th>cluster</th>\n",
       "      <th>distance</th>\n",
       "    </tr>\n",
       "  </thead>\n",
       "  <tbody>\n",
       "    <tr>\n",
       "      <th>0</th>\n",
       "      <td>Будет хилить примерно по</td>\n",
       "      <td>0</td>\n",
       "      <td>41.597363</td>\n",
       "    </tr>\n",
       "    <tr>\n",
       "      <th>1</th>\n",
       "      <td>Мммм... Да....\\r\\n\\r\\n</td>\n",
       "      <td>0</td>\n",
       "      <td>175.104420</td>\n",
       "    </tr>\n",
       "    <tr>\n",
       "      <th>2</th>\n",
       "      <td>Почта</td>\n",
       "      <td>0</td>\n",
       "      <td>202.243762</td>\n",
       "    </tr>\n",
       "    <tr>\n",
       "      <th>3</th>\n",
       "      <td>Спасибо, что пользуетесь -</td>\n",
       "      <td>1</td>\n",
       "      <td>132.770508</td>\n",
       "    </tr>\n",
       "    <tr>\n",
       "      <th>4</th>\n",
       "      <td>Спасибо, что пользуетесь -</td>\n",
       "      <td>1</td>\n",
       "      <td>132.770508</td>\n",
       "    </tr>\n",
       "    <tr>\n",
       "      <th>5</th>\n",
       "      <td>Спасибо, что пользуетесь -</td>\n",
       "      <td>1</td>\n",
       "      <td>132.770508</td>\n",
       "    </tr>\n",
       "    <tr>\n",
       "      <th>6</th>\n",
       "      <td>Спасибо, что пользуетесь -</td>\n",
       "      <td>1</td>\n",
       "      <td>132.770508</td>\n",
       "    </tr>\n",
       "    <tr>\n",
       "      <th>7</th>\n",
       "      <td>Спасибо, что пользуетесь -</td>\n",
       "      <td>1</td>\n",
       "      <td>132.770508</td>\n",
       "    </tr>\n",
       "    <tr>\n",
       "      <th>8</th>\n",
       "      <td>Ученики МОУ Кадетская школа \\r\\nК. Рамиль, К. Сергей, Д. Ярослав и О. Егор стали финалистами регионального трека Всероссийского конкурса научно-технологических проектов «Большие вызовы», в котором приняли участие более 800 школьников Московской области.\\r\\n\\r\\nРебята представили проект по направлению «Беспилотный транспорт и логистические системы» по теме «Автономная охрана общеобразовательных учреждений с помощью БПЛА» и стали участниками очной образовательной программы «Взлета», которая пройдёт в кампусе Гимназии Примакова.\\r\\n\\r\\nПоздравляем и гордимся нашими учениками и желаем им успеха в покорении следующих вершин!\\r\\n.\\r\\n.\\r\\n.\\r\\n.\\r\\n</td>\n",
       "      <td>2</td>\n",
       "      <td>0.000000</td>\n",
       "    </tr>\n",
       "    <tr>\n",
       "      <th>9</th>\n",
       "      <td>Рад был помочь! Ваш,</td>\n",
       "      <td>3</td>\n",
       "      <td>115.386229</td>\n",
       "    </tr>\n",
       "    <tr>\n",
       "      <th>10</th>\n",
       "      <td>Рад был помочь! Ваш,</td>\n",
       "      <td>3</td>\n",
       "      <td>115.386229</td>\n",
       "    </tr>\n",
       "    <tr>\n",
       "      <th>11</th>\n",
       "      <td>Рад был помочь! Ваш,</td>\n",
       "      <td>3</td>\n",
       "      <td>115.386229</td>\n",
       "    </tr>\n",
       "    <tr>\n",
       "      <th>12</th>\n",
       "      <td>Рад был помочь! Ваш,</td>\n",
       "      <td>3</td>\n",
       "      <td>115.386229</td>\n",
       "    </tr>\n",
       "    <tr>\n",
       "      <th>13</th>\n",
       "      <td>Рад был помочь! Ваш,</td>\n",
       "      <td>3</td>\n",
       "      <td>115.386229</td>\n",
       "    </tr>\n",
       "    <tr>\n",
       "      <th>14</th>\n",
       "      <td>Дєхья против Гидро Слайма\\r\\n\\r\\n</td>\n",
       "      <td>4</td>\n",
       "      <td>0.000000</td>\n",
       "    </tr>\n",
       "    <tr>\n",
       "      <th>15</th>\n",
       "      <td>Фулл с Яэ и Баал вышел!! \\r\\nПока что есть только в таком качестве, приятного просмотра..)\\r\\n</td>\n",
       "      <td>5</td>\n",
       "      <td>0.000000</td>\n",
       "    </tr>\n",
       "    <tr>\n",
       "      <th>16</th>\n",
       "      <td>🔥Пользователь ТикТока swammyxo</td>\n",
       "      <td>6</td>\n",
       "      <td>0.000000</td>\n",
       "    </tr>\n",
       "    <tr>\n",
       "      <th>17</th>\n",
       "      <td>🔷🔹</td>\n",
       "      <td>7</td>\n",
       "      <td>0.000000</td>\n",
       "    </tr>\n",
       "    <tr>\n",
       "      <th>18</th>\n",
       "      <td>Рейтинг персонажей для прохождения бездны на 17.01.2022\\r\\nИсточник: genshinlab\\r\\n\\r\\n</td>\n",
       "      <td>8</td>\n",
       "      <td>0.000000</td>\n",
       "    </tr>\n",
       "    <tr>\n",
       "      <th>19</th>\n",
       "      <td>Аль Хайтам в игре\\r\\n\\r\\n▫️Источник: Неизвестно \\r\\n\\r\\n</td>\n",
       "      <td>9</td>\n",
       "      <td>0.000000</td>\n",
       "    </tr>\n",
       "    <tr>\n",
       "      <th>20</th>\n",
       "      <td>Musou isshin в реальной жизни.\\r\\nВыглядит стильно⚡️\\r\\n\\r\\n</td>\n",
       "      <td>10</td>\n",
       "      <td>0.000000</td>\n",
       "    </tr>\n",
       "    <tr>\n",
       "      <th>21</th>\n",
       "      <td>Ubatcha подтвердил, что в первой половине будут Аято и Венти, во второй половине будет Аяка.\\r\\n\\r\\nUPD: Кадзухи не будет\\r\\n\\r\\n</td>\n",
       "      <td>11</td>\n",
       "      <td>0.000000</td>\n",
       "    </tr>\n",
       "    <tr>\n",
       "      <th>22</th>\n",
       "      <td>🥲 Эволюция Розарии\\r\\n\\r\\n🔖</td>\n",
       "      <td>12</td>\n",
       "      <td>0.000000</td>\n",
       "    </tr>\n",
       "    <tr>\n",
       "      <th>23</th>\n",
       "      <td>Мона брух момент\\r\\n\\r\\n</td>\n",
       "      <td>13</td>\n",
       "      <td>0.000000</td>\n",
       "    </tr>\n",
       "    <tr>\n",
       "      <th>24</th>\n",
       "      <td>🤔 С китайского форума, от инсайдера с хорошей репутацией:\\r\\n\\r\\n🔸 Оружейный баннер Итто в 2.7; Его сигна и Память о пыли.\\r\\n\\r\\n❗️</td>\n",
       "      <td>14</td>\n",
       "      <td>0.000000</td>\n",
       "    </tr>\n",
       "    <tr>\n",
       "      <th>25</th>\n",
       "      <td>мой парень когда ему выпал дед, а он не сносит</td>\n",
       "      <td>15</td>\n",
       "      <td>0.000000</td>\n",
       "    </tr>\n",
       "    <tr>\n",
       "      <th>26</th>\n",
       "      <td>Мама! Присоединяйся\\r\\n\\r\\nПодпишись 👉</td>\n",
       "      <td>16</td>\n",
       "      <td>0.000000</td>\n",
       "    </tr>\n",
       "  </tbody>\n",
       "</table>\n",
       "</div>"
      ],
      "text/plain": [
       "                                                                                                                                                                                                                                                                                                                                                                                                                                                                                                                                                                                                                                                                           text  \\\n",
       "0                                                                                                                                                                                                                                                                                                                                                                                                                                                                                                                                                                                                                                                     Будет хилить примерно по    \n",
       "1                                                                                                                                                                                                                                                                                                                                                                                                                                                                                                                                                                                                                                                        Мммм... Да....\\r\\n\\r\\n   \n",
       "2                                                                                                                                                                                                                                                                                                                                                                                                                                                                                                                                                                                                                                                                        Почта    \n",
       "3                                                                                                                                                                                                                                                                                                                                                                                                                                                                                                                                                                                                                                                   Спасибо, что пользуетесь -    \n",
       "4                                                                                                                                                                                                                                                                                                                                                                                                                                                                                                                                                                                                                                                   Спасибо, что пользуетесь -    \n",
       "5                                                                                                                                                                                                                                                                                                                                                                                                                                                                                                                                                                                                                                                   Спасибо, что пользуетесь -    \n",
       "6                                                                                                                                                                                                                                                                                                                                                                                                                                                                                                                                                                                                                                                   Спасибо, что пользуетесь -    \n",
       "7                                                                                                                                                                                                                                                                                                                                                                                                                                                                                                                                                                                                                                                   Спасибо, что пользуетесь -    \n",
       "8   Ученики МОУ Кадетская школа \\r\\nК. Рамиль, К. Сергей, Д. Ярослав и О. Егор стали финалистами регионального трека Всероссийского конкурса научно-технологических проектов «Большие вызовы», в котором приняли участие более 800 школьников Московской области.\\r\\n\\r\\nРебята представили проект по направлению «Беспилотный транспорт и логистические системы» по теме «Автономная охрана общеобразовательных учреждений с помощью БПЛА» и стали участниками очной образовательной программы «Взлета», которая пройдёт в кампусе Гимназии Примакова.\\r\\n\\r\\nПоздравляем и гордимся нашими учениками и желаем им успеха в покорении следующих вершин!\\r\\n.\\r\\n.\\r\\n.\\r\\n.\\r\\n   \n",
       "9                                                                                                                                                                                                                                                                                                                                                                                                                                                                                                                                                                                                                                                         Рад был помочь! Ваш,    \n",
       "10                                                                                                                                                                                                                                                                                                                                                                                                                                                                                                                                                                                                                                                        Рад был помочь! Ваш,    \n",
       "11                                                                                                                                                                                                                                                                                                                                                                                                                                                                                                                                                                                                                                                        Рад был помочь! Ваш,    \n",
       "12                                                                                                                                                                                                                                                                                                                                                                                                                                                                                                                                                                                                                                                        Рад был помочь! Ваш,    \n",
       "13                                                                                                                                                                                                                                                                                                                                                                                                                                                                                                                                                                                                                                                        Рад был помочь! Ваш,    \n",
       "14                                                                                                                                                                                                                                                                                                                                                                                                                                                                                                                                                                                                                                            Дєхья против Гидро Слайма\\r\\n\\r\\n   \n",
       "15                                                                                                                                                                                                                                                                                                                                                                                                                                                                                                                                                                               Фулл с Яэ и Баал вышел!! \\r\\nПока что есть только в таком качестве, приятного просмотра..)\\r\\n   \n",
       "16                                                                                                                                                                                                                                                                                                                                                                                                                                                                                                                                                                                                                                              🔥Пользователь ТикТока swammyxo    \n",
       "17                                                                                                                                                                                                                                                                                                                                                                                                                                                                                                                                                                                                                                                                           🔷🔹   \n",
       "18                                                                                                                                                                                                                                                                                                                                                                                                                                                                                                                                                                                      Рейтинг персонажей для прохождения бездны на 17.01.2022\\r\\nИсточник: genshinlab\\r\\n\\r\\n   \n",
       "19                                                                                                                                                                                                                                                                                                                                                                                                                                                                                                                                                                                                                     Аль Хайтам в игре\\r\\n\\r\\n▫️Источник: Неизвестно \\r\\n\\r\\n   \n",
       "20                                                                                                                                                                                                                                                                                                                                                                                                                                                                                                                                                                                                                 Musou isshin в реальной жизни.\\r\\nВыглядит стильно⚡️\\r\\n\\r\\n   \n",
       "21                                                                                                                                                                                                                                                                                                                                                                                                                                                                                                                                            Ubatcha подтвердил, что в первой половине будут Аято и Венти, во второй половине будет Аяка.\\r\\n\\r\\nUPD: Кадзухи не будет\\r\\n\\r\\n   \n",
       "22                                                                                                                                                                                                                                                                                                                                                                                                                                                                                                                                                                                                                                                 🥲 Эволюция Розарии\\r\\n\\r\\n🔖    \n",
       "23                                                                                                                                                                                                                                                                                                                                                                                                                                                                                                                                                                                                                                                     Мона брух момент\\r\\n\\r\\n   \n",
       "24                                                                                                                                                                                                                                                                                                                                                                                                                                                                                                                                         🤔 С китайского форума, от инсайдера с хорошей репутацией:\\r\\n\\r\\n🔸 Оружейный баннер Итто в 2.7; Его сигна и Память о пыли.\\r\\n\\r\\n❗️   \n",
       "25                                                                                                                                                                                                                                                                                                                                                                                                                                                                                                                                                                                                                              мой парень когда ему выпал дед, а он не сносит    \n",
       "26                                                                                                                                                                                                                                                                                                                                                                                                                                                                                                                                                                                                                                      Мама! Присоединяйся\\r\\n\\r\\nПодпишись 👉    \n",
       "\n",
       "    cluster    distance  \n",
       "0         0   41.597363  \n",
       "1         0  175.104420  \n",
       "2         0  202.243762  \n",
       "3         1  132.770508  \n",
       "4         1  132.770508  \n",
       "5         1  132.770508  \n",
       "6         1  132.770508  \n",
       "7         1  132.770508  \n",
       "8         2    0.000000  \n",
       "9         3  115.386229  \n",
       "10        3  115.386229  \n",
       "11        3  115.386229  \n",
       "12        3  115.386229  \n",
       "13        3  115.386229  \n",
       "14        4    0.000000  \n",
       "15        5    0.000000  \n",
       "16        6    0.000000  \n",
       "17        7    0.000000  \n",
       "18        8    0.000000  \n",
       "19        9    0.000000  \n",
       "20       10    0.000000  \n",
       "21       11    0.000000  \n",
       "22       12    0.000000  \n",
       "23       13    0.000000  \n",
       "24       14    0.000000  \n",
       "25       15    0.000000  \n",
       "26       16    0.000000  "
      ]
     },
     "execution_count": 48,
     "metadata": {},
     "output_type": "execute_result"
    }
   ],
   "source": [
    "text_distance = text_distance.sort_values(by=[\"cluster\", 'distance'])\n",
    "text_distance.groupby('cluster').head(5).reset_index(drop= True )"
   ]
  },
  {
   "cell_type": "code",
   "execution_count": null,
   "metadata": {},
   "outputs": [],
   "source": []
  }
 ],
 "metadata": {
  "kernelspec": {
   "display_name": "Python 3",
   "language": "python",
   "name": "python3"
  },
  "language_info": {
   "codemirror_mode": {
    "name": "ipython",
    "version": 3
   },
   "file_extension": ".py",
   "mimetype": "text/x-python",
   "name": "python",
   "nbconvert_exporter": "python",
   "pygments_lexer": "ipython3",
   "version": "3.10.0"
  }
 },
 "nbformat": 4,
 "nbformat_minor": 2
}
