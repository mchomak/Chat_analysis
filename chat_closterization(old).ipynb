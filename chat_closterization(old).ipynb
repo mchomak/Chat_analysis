{
 "cells": [
  {
   "cell_type": "markdown",
   "metadata": {},
   "source": [
    "### Work with ML data"
   ]
  },
  {
   "cell_type": "code",
   "execution_count": 1,
   "metadata": {},
   "outputs": [],
   "source": [
    "import plotly.express as px\n",
    "import pandas as pd\n",
    "import nltk\n",
    "from nltk.corpus import stopwords\n",
    "from nltk.tokenize import word_tokenize\n",
    "import string\n",
    "from sklearn.feature_extraction.text import TfidfVectorizer\n",
    "from sklearn.cluster import DBSCAN\n",
    "from sklearn.metrics import silhouette_score\n",
    "import numpy as np\n",
    "from sklearn.manifold import TSNE"
   ]
  },
  {
   "cell_type": "code",
   "execution_count": 2,
   "metadata": {},
   "outputs": [],
   "source": [
    "# Сброс ограничений на количество выводимых рядов\n",
    "pd.set_option('display.max_rows', None)\n",
    " \n",
    "# Сброс ограничений на число столбцов\n",
    "pd.set_option('display.max_columns', None)\n",
    " \n",
    "# Сброс ограничений на количество символов в записи\n",
    "pd.set_option('display.max_colwidth', None)"
   ]
  },
  {
   "cell_type": "markdown",
   "metadata": {},
   "source": [
    "### Step 1: Data Preprocessing"
   ]
  },
  {
   "cell_type": "code",
   "execution_count": 3,
   "metadata": {},
   "outputs": [
    {
     "name": "stderr",
     "output_type": "stream",
     "text": [
      "[nltk_data] Downloading package stopwords to\n",
      "[nltk_data]     C:\\Users\\Mchomak\\AppData\\Roaming\\nltk_data...\n",
      "[nltk_data]   Package stopwords is already up-to-date!\n",
      "[nltk_data] Downloading package punkt to\n",
      "[nltk_data]     C:\\Users\\Mchomak\\AppData\\Roaming\\nltk_data...\n",
      "[nltk_data]   Package punkt is already up-to-date!\n",
      "[nltk_data] Downloading package averaged_perceptron_tagger to\n",
      "[nltk_data]     C:\\Users\\Mchomak\\AppData\\Roaming\\nltk_data...\n",
      "[nltk_data]   Package averaged_perceptron_tagger is already up-to-\n",
      "[nltk_data]       date!\n",
      "[nltk_data] Downloading package universal_tagset to\n",
      "[nltk_data]     C:\\Users\\Mchomak\\AppData\\Roaming\\nltk_data...\n",
      "[nltk_data]   Package universal_tagset is already up-to-date!\n"
     ]
    }
   ],
   "source": [
    "df = pd.read_csv('ml_data.csv')  \n",
    "text_messages = df['text']  \n",
    "\n",
    "nltk.download('stopwords')\n",
    "nltk.download('punkt')\n",
    "nltk.download('averaged_perceptron_tagger')\n",
    "nltk.download('universal_tagset')\n",
    "\n",
    "stop_words = set(stopwords.words('russian'))\n",
    "\n",
    "def preprocess_text(text):\n",
    "    tokens = word_tokenize(text)\n",
    "    tokens = [word.lower() for word in tokens if word.isalpha() and word.lower() not in stop_words and word not in string.punctuation]\n",
    "    # tokens = [word.lower() for word in tokens if word.isalpha() and word.lower() and word not in string.punctuation]\n",
    "    return ' '.join(tokens)\n",
    "\n",
    "df['cleaned_text'] = df['text'].apply(preprocess_text)"
   ]
  },
  {
   "cell_type": "markdown",
   "metadata": {},
   "source": [
    "### Step 2: Feature Extraction"
   ]
  },
  {
   "cell_type": "code",
   "execution_count": 4,
   "metadata": {},
   "outputs": [],
   "source": [
    "stop_words=list(stop_words)\n",
    "\n",
    "tfidf_vectorizer = TfidfVectorizer(max_features=5000, stop_words=stop_words) \n",
    "tfidf_matrix = tfidf_vectorizer.fit_transform(df['cleaned_text'])"
   ]
  },
  {
   "cell_type": "markdown",
   "metadata": {},
   "source": [
    "### Step 3: Train DBSCAN model\n"
   ]
  },
  {
   "cell_type": "code",
   "execution_count": 5,
   "metadata": {},
   "outputs": [
    {
     "name": "stdout",
     "output_type": "stream",
     "text": [
      "Epsilon: 0.01, Silhouette Score: -0.16521308480305497\n",
      "Epsilon: 0.06, Silhouette Score: -0.16521308480305497\n",
      "Epsilon: 0.11, Silhouette Score: -0.16521308480305497\n",
      "Epsilon: 0.16, Silhouette Score: -0.16521308480305497\n",
      "Epsilon: 0.21, Silhouette Score: -0.16521308480305497\n",
      "Epsilon: 0.26, Silhouette Score: -0.16521308480305497\n",
      "Epsilon: 0.31, Silhouette Score: -0.16521308480305497\n",
      "Epsilon: 0.36, Silhouette Score: -0.16521308480305497\n",
      "Epsilon: 0.41, Silhouette Score: -0.16521308480305497\n",
      "Epsilon: 0.46, Silhouette Score: -0.16521308480305497\n",
      "Epsilon: 0.51, Silhouette Score: -0.16521308480305497\n",
      "Epsilon: 0.56, Silhouette Score: -0.16521308480305497\n",
      "Epsilon: 0.61, Silhouette Score: -0.16521308480305497\n",
      "Epsilon: 0.66, Silhouette Score: -0.16521308480305497\n",
      "Epsilon: 0.71, Silhouette Score: -0.16521308480305497\n",
      "Epsilon: 0.76, Silhouette Score: -0.15562996742108248\n",
      "Epsilon: 0.81, Silhouette Score: -0.1621166126850712\n",
      "Epsilon: 0.86, Silhouette Score: -0.16343128592699774\n",
      "Epsilon: 0.91, Silhouette Score: -0.15520688918482162\n",
      "Epsilon: 0.96, Silhouette Score: -0.153598017212698\n",
      "Epsilon: 1.01, Silhouette Score: N/A (Single Cluster)\n",
      "Epsilon: 1.06, Silhouette Score: N/A (Single Cluster)\n"
     ]
    }
   ],
   "source": [
    "for eps in range(1, 110, 5):  # Adjust the range as needed\n",
    "    eps=eps/100\n",
    "    dbscan = DBSCAN(eps=eps, min_samples=5)\n",
    "    cluster_labels = dbscan.fit_predict(tfidf_matrix)\n",
    "    if len(np.unique(cluster_labels)) > 1:  # silhouette_score requires at least 2 clusters\n",
    "        silhouette_avg = silhouette_score(tfidf_matrix, cluster_labels)\n",
    "        print(f\"Epsilon: {eps}, Silhouette Score: {silhouette_avg}\")\n",
    "    else:\n",
    "        print(f\"Epsilon: {eps}, Silhouette Score: N/A (Single Cluster)\")"
   ]
  },
  {
   "cell_type": "code",
   "execution_count": 6,
   "metadata": {},
   "outputs": [],
   "source": [
    "eps = 0.97\n",
    "min_samples = 5 \n",
    "\n",
    "dbscan = DBSCAN(eps=eps, min_samples=min_samples)\n",
    "df['cluster'] = dbscan.fit_predict(tfidf_matrix)"
   ]
  },
  {
   "cell_type": "markdown",
   "metadata": {},
   "source": [
    "### Step 4: Dimensionality Reduction with t-SNE"
   ]
  },
  {
   "cell_type": "code",
   "execution_count": 7,
   "metadata": {},
   "outputs": [],
   "source": [
    "tsne = TSNE(n_components=2, random_state=42)\n",
    "reduced_features_tsne = tsne.fit_transform(tfidf_matrix.toarray())"
   ]
  },
  {
   "cell_type": "markdown",
   "metadata": {},
   "source": [
    "### Step 5: visualization with plotly"
   ]
  },
  {
   "cell_type": "code",
   "execution_count": 8,
   "metadata": {},
   "outputs": [
    {
     "data": {
      "application/vnd.plotly.v1+json": {
       "config": {
        "plotlyServerURL": "https://plot.ly"
       },
       "data": [
        {
         "customdata": [
          [
           -1
          ],
          [
           -1
          ],
          [
           -1
          ],
          [
           -1
          ],
          [
           -1
          ],
          [
           -1
          ],
          [
           -1
          ],
          [
           -1
          ],
          [
           -1
          ],
          [
           -1
          ],
          [
           -1
          ],
          [
           -1
          ],
          [
           0
          ],
          [
           -1
          ],
          [
           -1
          ],
          [
           -1
          ],
          [
           -1
          ],
          [
           -1
          ],
          [
           -1
          ],
          [
           -1
          ],
          [
           -1
          ],
          [
           -1
          ],
          [
           1
          ],
          [
           -1
          ],
          [
           -1
          ],
          [
           2
          ],
          [
           3
          ],
          [
           -1
          ],
          [
           -1
          ],
          [
           -1
          ],
          [
           -1
          ],
          [
           1
          ],
          [
           -1
          ],
          [
           -1
          ],
          [
           1
          ],
          [
           -1
          ],
          [
           -1
          ],
          [
           1
          ],
          [
           -1
          ],
          [
           -1
          ],
          [
           -1
          ],
          [
           -1
          ],
          [
           -1
          ],
          [
           -1
          ],
          [
           1
          ],
          [
           -1
          ],
          [
           1
          ],
          [
           0
          ],
          [
           -1
          ],
          [
           -1
          ],
          [
           -1
          ],
          [
           -1
          ],
          [
           -1
          ],
          [
           -1
          ],
          [
           -1
          ],
          [
           -1
          ],
          [
           -1
          ],
          [
           -1
          ],
          [
           3
          ],
          [
           -1
          ],
          [
           3
          ],
          [
           -1
          ],
          [
           -1
          ],
          [
           -1
          ],
          [
           4
          ],
          [
           -1
          ],
          [
           -1
          ],
          [
           -1
          ],
          [
           -1
          ],
          [
           -1
          ],
          [
           -1
          ],
          [
           -1
          ],
          [
           -1
          ],
          [
           4
          ],
          [
           1
          ],
          [
           -1
          ],
          [
           -1
          ],
          [
           -1
          ],
          [
           -1
          ],
          [
           -1
          ],
          [
           -1
          ],
          [
           4
          ],
          [
           -1
          ],
          [
           -1
          ],
          [
           -1
          ],
          [
           -1
          ],
          [
           -1
          ],
          [
           -1
          ],
          [
           -1
          ],
          [
           -1
          ],
          [
           -1
          ],
          [
           -1
          ],
          [
           1
          ],
          [
           -1
          ],
          [
           -1
          ],
          [
           -1
          ],
          [
           -1
          ],
          [
           -1
          ],
          [
           -1
          ],
          [
           -1
          ],
          [
           -1
          ],
          [
           -1
          ],
          [
           -1
          ],
          [
           -1
          ],
          [
           -1
          ],
          [
           -1
          ],
          [
           -1
          ],
          [
           -1
          ],
          [
           -1
          ],
          [
           -1
          ],
          [
           -1
          ],
          [
           -1
          ],
          [
           -1
          ],
          [
           -1
          ],
          [
           -1
          ],
          [
           -1
          ],
          [
           -1
          ],
          [
           -1
          ],
          [
           -1
          ],
          [
           -1
          ],
          [
           -1
          ],
          [
           -1
          ],
          [
           -1
          ],
          [
           -1
          ],
          [
           -1
          ],
          [
           -1
          ],
          [
           -1
          ],
          [
           -1
          ],
          [
           -1
          ],
          [
           -1
          ],
          [
           -1
          ],
          [
           -1
          ],
          [
           -1
          ],
          [
           11
          ],
          [
           -1
          ],
          [
           -1
          ],
          [
           -1
          ],
          [
           -1
          ],
          [
           -1
          ],
          [
           -1
          ],
          [
           -1
          ],
          [
           -1
          ],
          [
           -1
          ],
          [
           -1
          ],
          [
           -1
          ],
          [
           -1
          ],
          [
           -1
          ],
          [
           -1
          ],
          [
           -1
          ],
          [
           -1
          ],
          [
           -1
          ],
          [
           -1
          ],
          [
           -1
          ],
          [
           -1
          ],
          [
           2
          ],
          [
           -1
          ],
          [
           -1
          ],
          [
           -1
          ],
          [
           -1
          ],
          [
           -1
          ],
          [
           -1
          ],
          [
           -1
          ],
          [
           -1
          ],
          [
           1
          ],
          [
           -1
          ],
          [
           -1
          ],
          [
           -1
          ],
          [
           -1
          ],
          [
           -1
          ],
          [
           -1
          ],
          [
           -1
          ],
          [
           -1
          ],
          [
           -1
          ],
          [
           -1
          ],
          [
           -1
          ],
          [
           -1
          ],
          [
           -1
          ],
          [
           -1
          ],
          [
           5
          ],
          [
           -1
          ],
          [
           -1
          ],
          [
           -1
          ],
          [
           -1
          ],
          [
           -1
          ],
          [
           -1
          ],
          [
           -1
          ],
          [
           -1
          ],
          [
           -1
          ],
          [
           -1
          ],
          [
           -1
          ],
          [
           -1
          ],
          [
           -1
          ],
          [
           -1
          ],
          [
           -1
          ],
          [
           5
          ],
          [
           -1
          ],
          [
           -1
          ],
          [
           -1
          ],
          [
           -1
          ],
          [
           -1
          ],
          [
           -1
          ],
          [
           -1
          ],
          [
           -1
          ],
          [
           -1
          ],
          [
           -1
          ],
          [
           -1
          ],
          [
           0
          ],
          [
           -1
          ],
          [
           -1
          ],
          [
           -1
          ],
          [
           -1
          ],
          [
           -1
          ],
          [
           -1
          ],
          [
           -1
          ],
          [
           -1
          ],
          [
           -1
          ],
          [
           -1
          ],
          [
           -1
          ],
          [
           -1
          ],
          [
           -1
          ],
          [
           -1
          ],
          [
           13
          ],
          [
           10
          ],
          [
           -1
          ],
          [
           -1
          ],
          [
           -1
          ],
          [
           -1
          ],
          [
           -1
          ],
          [
           -1
          ],
          [
           -1
          ],
          [
           -1
          ],
          [
           -1
          ],
          [
           -1
          ],
          [
           13
          ],
          [
           -1
          ],
          [
           -1
          ],
          [
           -1
          ],
          [
           -1
          ],
          [
           -1
          ],
          [
           2
          ],
          [
           -1
          ],
          [
           -1
          ],
          [
           -1
          ],
          [
           -1
          ],
          [
           -1
          ],
          [
           1
          ],
          [
           -1
          ],
          [
           -1
          ],
          [
           -1
          ],
          [
           -1
          ],
          [
           1
          ],
          [
           -1
          ],
          [
           -1
          ],
          [
           6
          ],
          [
           5
          ],
          [
           -1
          ],
          [
           -1
          ],
          [
           -1
          ],
          [
           -1
          ],
          [
           -1
          ],
          [
           -1
          ],
          [
           7
          ],
          [
           -1
          ],
          [
           -1
          ],
          [
           -1
          ],
          [
           1
          ],
          [
           -1
          ],
          [
           -1
          ],
          [
           -1
          ],
          [
           -1
          ],
          [
           -1
          ],
          [
           -1
          ],
          [
           -1
          ],
          [
           8
          ],
          [
           -1
          ],
          [
           -1
          ],
          [
           -1
          ],
          [
           -1
          ],
          [
           -1
          ],
          [
           -1
          ],
          [
           -1
          ],
          [
           1
          ],
          [
           -1
          ],
          [
           -1
          ],
          [
           -1
          ],
          [
           -1
          ],
          [
           -1
          ],
          [
           1
          ],
          [
           -1
          ],
          [
           -1
          ],
          [
           -1
          ],
          [
           -1
          ],
          [
           -1
          ],
          [
           1
          ],
          [
           -1
          ],
          [
           -1
          ],
          [
           -1
          ],
          [
           -1
          ],
          [
           -1
          ],
          [
           -1
          ],
          [
           0
          ],
          [
           -1
          ],
          [
           -1
          ],
          [
           -1
          ],
          [
           -1
          ],
          [
           -1
          ],
          [
           -1
          ],
          [
           -1
          ],
          [
           1
          ],
          [
           8
          ],
          [
           -1
          ],
          [
           1
          ],
          [
           -1
          ],
          [
           -1
          ],
          [
           -1
          ],
          [
           8
          ],
          [
           -1
          ],
          [
           7
          ],
          [
           -1
          ],
          [
           -1
          ],
          [
           -1
          ],
          [
           1
          ],
          [
           -1
          ],
          [
           -1
          ],
          [
           -1
          ],
          [
           -1
          ],
          [
           -1
          ],
          [
           -1
          ],
          [
           -1
          ],
          [
           -1
          ],
          [
           -1
          ],
          [
           -1
          ],
          [
           -1
          ],
          [
           -1
          ],
          [
           -1
          ],
          [
           -1
          ],
          [
           -1
          ],
          [
           -1
          ],
          [
           -1
          ],
          [
           -1
          ],
          [
           -1
          ],
          [
           -1
          ],
          [
           -1
          ],
          [
           -1
          ],
          [
           -1
          ],
          [
           -1
          ],
          [
           -1
          ],
          [
           -1
          ],
          [
           -1
          ],
          [
           -1
          ],
          [
           -1
          ],
          [
           -1
          ],
          [
           3
          ],
          [
           -1
          ],
          [
           1
          ],
          [
           -1
          ],
          [
           -1
          ],
          [
           -1
          ],
          [
           -1
          ],
          [
           -1
          ],
          [
           -1
          ],
          [
           -1
          ],
          [
           -1
          ],
          [
           -1
          ],
          [
           2
          ],
          [
           -1
          ],
          [
           2
          ],
          [
           -1
          ],
          [
           13
          ],
          [
           -1
          ],
          [
           1
          ],
          [
           -1
          ],
          [
           -1
          ],
          [
           -1
          ],
          [
           9
          ],
          [
           1
          ],
          [
           -1
          ],
          [
           9
          ],
          [
           3
          ],
          [
           -1
          ],
          [
           -1
          ],
          [
           -1
          ],
          [
           -1
          ],
          [
           -1
          ],
          [
           -1
          ],
          [
           -1
          ],
          [
           -1
          ],
          [
           -1
          ],
          [
           -1
          ],
          [
           -1
          ],
          [
           -1
          ],
          [
           -1
          ],
          [
           -1
          ],
          [
           -1
          ],
          [
           -1
          ],
          [
           -1
          ],
          [
           -1
          ],
          [
           -1
          ],
          [
           -1
          ],
          [
           -1
          ],
          [
           -1
          ],
          [
           1
          ],
          [
           11
          ],
          [
           -1
          ],
          [
           -1
          ],
          [
           -1
          ],
          [
           -1
          ],
          [
           -1
          ],
          [
           -1
          ],
          [
           -1
          ],
          [
           -1
          ],
          [
           -1
          ],
          [
           -1
          ],
          [
           2
          ],
          [
           -1
          ],
          [
           6
          ],
          [
           8
          ],
          [
           1
          ],
          [
           6
          ],
          [
           -1
          ],
          [
           -1
          ],
          [
           -1
          ],
          [
           -1
          ],
          [
           1
          ],
          [
           7
          ],
          [
           -1
          ],
          [
           -1
          ],
          [
           -1
          ],
          [
           2
          ],
          [
           -1
          ],
          [
           -1
          ],
          [
           -1
          ],
          [
           5
          ],
          [
           -1
          ],
          [
           -1
          ],
          [
           -1
          ],
          [
           -1
          ],
          [
           3
          ],
          [
           -1
          ],
          [
           -1
          ],
          [
           -1
          ],
          [
           -1
          ],
          [
           -1
          ],
          [
           -1
          ],
          [
           -1
          ],
          [
           -1
          ],
          [
           -1
          ],
          [
           -1
          ],
          [
           -1
          ],
          [
           1
          ],
          [
           -1
          ],
          [
           -1
          ],
          [
           -1
          ],
          [
           -1
          ],
          [
           -1
          ],
          [
           -1
          ],
          [
           -1
          ],
          [
           1
          ],
          [
           -1
          ],
          [
           -1
          ],
          [
           -1
          ],
          [
           -1
          ],
          [
           -1
          ],
          [
           -1
          ],
          [
           -1
          ],
          [
           -1
          ],
          [
           -1
          ],
          [
           -1
          ],
          [
           -1
          ],
          [
           -1
          ],
          [
           -1
          ],
          [
           -1
          ],
          [
           -1
          ],
          [
           -1
          ],
          [
           -1
          ],
          [
           -1
          ],
          [
           -1
          ],
          [
           1
          ],
          [
           -1
          ],
          [
           -1
          ],
          [
           -1
          ],
          [
           -1
          ],
          [
           1
          ],
          [
           -1
          ],
          [
           -1
          ],
          [
           -1
          ],
          [
           -1
          ],
          [
           -1
          ],
          [
           -1
          ],
          [
           -1
          ],
          [
           -1
          ],
          [
           -1
          ],
          [
           -1
          ],
          [
           -1
          ],
          [
           2
          ],
          [
           -1
          ],
          [
           9
          ],
          [
           9
          ],
          [
           -1
          ],
          [
           -1
          ],
          [
           -1
          ],
          [
           -1
          ],
          [
           -1
          ],
          [
           -1
          ],
          [
           -1
          ],
          [
           -1
          ],
          [
           -1
          ],
          [
           -1
          ],
          [
           -1
          ],
          [
           -1
          ],
          [
           -1
          ],
          [
           -1
          ],
          [
           -1
          ],
          [
           -1
          ],
          [
           -1
          ],
          [
           -1
          ],
          [
           -1
          ],
          [
           -1
          ],
          [
           -1
          ],
          [
           -1
          ],
          [
           -1
          ],
          [
           -1
          ],
          [
           -1
          ],
          [
           -1
          ],
          [
           -1
          ],
          [
           -1
          ],
          [
           -1
          ],
          [
           -1
          ],
          [
           -1
          ],
          [
           -1
          ],
          [
           -1
          ],
          [
           2
          ],
          [
           -1
          ],
          [
           -1
          ],
          [
           -1
          ],
          [
           1
          ],
          [
           -1
          ],
          [
           -1
          ],
          [
           -1
          ],
          [
           -1
          ],
          [
           -1
          ],
          [
           -1
          ],
          [
           -1
          ],
          [
           -1
          ],
          [
           -1
          ],
          [
           -1
          ],
          [
           -1
          ],
          [
           -1
          ],
          [
           4
          ],
          [
           8
          ],
          [
           -1
          ],
          [
           1
          ],
          [
           -1
          ],
          [
           -1
          ],
          [
           -1
          ],
          [
           -1
          ],
          [
           -1
          ],
          [
           -1
          ],
          [
           -1
          ],
          [
           9
          ],
          [
           -1
          ],
          [
           10
          ],
          [
           -1
          ],
          [
           -1
          ],
          [
           -1
          ],
          [
           -1
          ],
          [
           -1
          ],
          [
           2
          ],
          [
           -1
          ],
          [
           -1
          ],
          [
           -1
          ],
          [
           11
          ],
          [
           -1
          ],
          [
           -1
          ],
          [
           -1
          ],
          [
           -1
          ],
          [
           -1
          ],
          [
           -1
          ],
          [
           -1
          ],
          [
           -1
          ],
          [
           -1
          ],
          [
           -1
          ],
          [
           -1
          ],
          [
           -1
          ],
          [
           1
          ],
          [
           -1
          ],
          [
           -1
          ],
          [
           -1
          ],
          [
           -1
          ],
          [
           5
          ],
          [
           -1
          ],
          [
           9
          ],
          [
           7
          ],
          [
           -1
          ],
          [
           11
          ],
          [
           -1
          ],
          [
           -1
          ],
          [
           -1
          ],
          [
           1
          ],
          [
           -1
          ],
          [
           -1
          ],
          [
           -1
          ],
          [
           -1
          ],
          [
           -1
          ],
          [
           -1
          ],
          [
           -1
          ],
          [
           -1
          ],
          [
           -1
          ],
          [
           -1
          ],
          [
           -1
          ],
          [
           -1
          ],
          [
           -1
          ],
          [
           -1
          ],
          [
           -1
          ],
          [
           -1
          ],
          [
           -1
          ],
          [
           -1
          ],
          [
           -1
          ],
          [
           -1
          ],
          [
           -1
          ],
          [
           1
          ],
          [
           -1
          ],
          [
           -1
          ],
          [
           -1
          ],
          [
           -1
          ],
          [
           -1
          ],
          [
           -1
          ],
          [
           -1
          ],
          [
           1
          ],
          [
           -1
          ],
          [
           -1
          ],
          [
           -1
          ],
          [
           -1
          ],
          [
           0
          ],
          [
           3
          ],
          [
           -1
          ],
          [
           -1
          ],
          [
           -1
          ],
          [
           13
          ],
          [
           -1
          ],
          [
           -1
          ],
          [
           -1
          ],
          [
           -1
          ],
          [
           -1
          ],
          [
           -1
          ],
          [
           -1
          ],
          [
           1
          ],
          [
           -1
          ],
          [
           5
          ],
          [
           -1
          ],
          [
           -1
          ],
          [
           -1
          ],
          [
           -1
          ],
          [
           -1
          ],
          [
           -1
          ],
          [
           -1
          ],
          [
           2
          ],
          [
           -1
          ],
          [
           -1
          ],
          [
           5
          ],
          [
           -1
          ],
          [
           -1
          ],
          [
           -1
          ],
          [
           2
          ],
          [
           -1
          ],
          [
           -1
          ],
          [
           -1
          ],
          [
           -1
          ],
          [
           -1
          ],
          [
           -1
          ],
          [
           6
          ],
          [
           -1
          ],
          [
           -1
          ],
          [
           -1
          ],
          [
           -1
          ],
          [
           -1
          ],
          [
           -1
          ],
          [
           -1
          ],
          [
           -1
          ],
          [
           -1
          ],
          [
           -1
          ],
          [
           -1
          ],
          [
           1
          ],
          [
           11
          ],
          [
           -1
          ],
          [
           -1
          ],
          [
           -1
          ],
          [
           1
          ],
          [
           -1
          ],
          [
           -1
          ],
          [
           -1
          ],
          [
           -1
          ],
          [
           -1
          ],
          [
           -1
          ],
          [
           -1
          ],
          [
           -1
          ],
          [
           -1
          ],
          [
           -1
          ],
          [
           -1
          ],
          [
           -1
          ],
          [
           -1
          ],
          [
           -1
          ],
          [
           -1
          ],
          [
           -1
          ],
          [
           -1
          ],
          [
           0
          ],
          [
           -1
          ],
          [
           -1
          ],
          [
           -1
          ],
          [
           -1
          ],
          [
           -1
          ],
          [
           -1
          ],
          [
           -1
          ],
          [
           -1
          ],
          [
           -1
          ],
          [
           -1
          ],
          [
           -1
          ],
          [
           -1
          ],
          [
           -1
          ],
          [
           -1
          ],
          [
           -1
          ],
          [
           -1
          ],
          [
           -1
          ],
          [
           -1
          ],
          [
           -1
          ],
          [
           -1
          ],
          [
           12
          ],
          [
           -1
          ],
          [
           -1
          ],
          [
           -1
          ],
          [
           -1
          ],
          [
           6
          ],
          [
           -1
          ],
          [
           -1
          ],
          [
           -1
          ],
          [
           -1
          ],
          [
           -1
          ],
          [
           -1
          ],
          [
           -1
          ],
          [
           -1
          ],
          [
           -1
          ],
          [
           -1
          ],
          [
           -1
          ],
          [
           -1
          ],
          [
           -1
          ],
          [
           -1
          ],
          [
           -1
          ],
          [
           -1
          ],
          [
           -1
          ],
          [
           -1
          ],
          [
           -1
          ],
          [
           1
          ],
          [
           -1
          ],
          [
           -1
          ],
          [
           -1
          ],
          [
           -1
          ],
          [
           1
          ],
          [
           -1
          ],
          [
           -1
          ],
          [
           4
          ],
          [
           -1
          ],
          [
           -1
          ],
          [
           -1
          ],
          [
           -1
          ],
          [
           -1
          ],
          [
           -1
          ],
          [
           -1
          ],
          [
           -1
          ],
          [
           -1
          ],
          [
           -1
          ],
          [
           -1
          ],
          [
           -1
          ],
          [
           1
          ],
          [
           -1
          ],
          [
           9
          ],
          [
           -1
          ],
          [
           -1
          ],
          [
           -1
          ],
          [
           -1
          ],
          [
           -1
          ],
          [
           -1
          ],
          [
           -1
          ],
          [
           -1
          ],
          [
           -1
          ],
          [
           -1
          ],
          [
           -1
          ],
          [
           -1
          ],
          [
           -1
          ],
          [
           12
          ],
          [
           -1
          ],
          [
           -1
          ],
          [
           -1
          ],
          [
           -1
          ],
          [
           13
          ],
          [
           -1
          ],
          [
           -1
          ],
          [
           1
          ],
          [
           9
          ],
          [
           -1
          ],
          [
           0
          ],
          [
           -1
          ],
          [
           -1
          ],
          [
           -1
          ],
          [
           2
          ],
          [
           -1
          ],
          [
           -1
          ],
          [
           -1
          ],
          [
           13
          ],
          [
           -1
          ],
          [
           -1
          ],
          [
           -1
          ],
          [
           12
          ],
          [
           -1
          ],
          [
           -1
          ],
          [
           -1
          ],
          [
           -1
          ],
          [
           -1
          ],
          [
           -1
          ],
          [
           4
          ],
          [
           -1
          ],
          [
           5
          ],
          [
           -1
          ],
          [
           -1
          ],
          [
           -1
          ],
          [
           -1
          ],
          [
           1
          ],
          [
           1
          ],
          [
           12
          ],
          [
           -1
          ],
          [
           -1
          ],
          [
           -1
          ],
          [
           -1
          ],
          [
           -1
          ],
          [
           -1
          ],
          [
           -1
          ],
          [
           -1
          ],
          [
           -1
          ],
          [
           -1
          ],
          [
           1
          ],
          [
           -1
          ],
          [
           -1
          ],
          [
           -1
          ],
          [
           -1
          ],
          [
           1
          ],
          [
           -1
          ],
          [
           -1
          ],
          [
           -1
          ],
          [
           12
          ],
          [
           -1
          ],
          [
           -1
          ],
          [
           -1
          ],
          [
           -1
          ],
          [
           -1
          ],
          [
           -1
          ],
          [
           1
          ],
          [
           -1
          ],
          [
           -1
          ],
          [
           -1
          ],
          [
           -1
          ],
          [
           -1
          ],
          [
           -1
          ],
          [
           -1
          ],
          [
           -1
          ],
          [
           -1
          ],
          [
           -1
          ],
          [
           -1
          ],
          [
           -1
          ],
          [
           -1
          ],
          [
           -1
          ],
          [
           -1
          ],
          [
           -1
          ],
          [
           -1
          ],
          [
           -1
          ],
          [
           -1
          ],
          [
           -1
          ],
          [
           -1
          ],
          [
           -1
          ],
          [
           -1
          ],
          [
           -1
          ],
          [
           -1
          ],
          [
           -1
          ],
          [
           -1
          ],
          [
           -1
          ],
          [
           -1
          ],
          [
           -1
          ],
          [
           -1
          ],
          [
           10
          ],
          [
           -1
          ],
          [
           -1
          ],
          [
           -1
          ],
          [
           1
          ],
          [
           -1
          ],
          [
           -1
          ],
          [
           -1
          ],
          [
           -1
          ],
          [
           -1
          ],
          [
           -1
          ],
          [
           -1
          ],
          [
           -1
          ],
          [
           -1
          ],
          [
           -1
          ],
          [
           -1
          ],
          [
           4
          ],
          [
           -1
          ],
          [
           -1
          ],
          [
           -1
          ],
          [
           6
          ],
          [
           -1
          ],
          [
           -1
          ],
          [
           -1
          ],
          [
           -1
          ],
          [
           -1
          ],
          [
           -1
          ],
          [
           1
          ],
          [
           5
          ],
          [
           -1
          ],
          [
           3
          ],
          [
           -1
          ],
          [
           -1
          ],
          [
           2
          ],
          [
           -1
          ],
          [
           -1
          ],
          [
           -1
          ],
          [
           -1
          ],
          [
           1
          ],
          [
           -1
          ],
          [
           -1
          ],
          [
           5
          ],
          [
           0
          ],
          [
           6
          ],
          [
           3
          ],
          [
           -1
          ],
          [
           -1
          ],
          [
           -1
          ],
          [
           -1
          ],
          [
           -1
          ],
          [
           2
          ],
          [
           -1
          ],
          [
           1
          ],
          [
           9
          ],
          [
           -1
          ],
          [
           -1
          ],
          [
           -1
          ],
          [
           -1
          ],
          [
           -1
          ],
          [
           -1
          ],
          [
           10
          ],
          [
           1
          ],
          [
           -1
          ],
          [
           -1
          ],
          [
           -1
          ],
          [
           -1
          ],
          [
           0
          ],
          [
           2
          ],
          [
           -1
          ],
          [
           -1
          ],
          [
           1
          ],
          [
           8
          ],
          [
           1
          ],
          [
           -1
          ],
          [
           -1
          ],
          [
           -1
          ],
          [
           -1
          ],
          [
           -1
          ],
          [
           -1
          ],
          [
           -1
          ],
          [
           -1
          ],
          [
           -1
          ],
          [
           -1
          ],
          [
           7
          ],
          [
           -1
          ],
          [
           -1
          ],
          [
           -1
          ],
          [
           -1
          ],
          [
           -1
          ],
          [
           -1
          ],
          [
           -1
          ],
          [
           10
          ],
          [
           -1
          ],
          [
           -1
          ],
          [
           -1
          ],
          [
           -1
          ],
          [
           -1
          ],
          [
           -1
          ],
          [
           -1
          ],
          [
           1
          ],
          [
           -1
          ],
          [
           1
          ],
          [
           1
          ],
          [
           -1
          ],
          [
           -1
          ],
          [
           -1
          ],
          [
           -1
          ],
          [
           -1
          ],
          [
           -1
          ],
          [
           -1
          ],
          [
           -1
          ],
          [
           -1
          ],
          [
           1
          ],
          [
           -1
          ],
          [
           3
          ],
          [
           3
          ],
          [
           -1
          ],
          [
           3
          ],
          [
           -1
          ],
          [
           3
          ],
          [
           -1
          ],
          [
           -1
          ],
          [
           -1
          ],
          [
           12
          ],
          [
           -1
          ],
          [
           -1
          ],
          [
           1
          ],
          [
           -1
          ],
          [
           -1
          ],
          [
           9
          ],
          [
           -1
          ],
          [
           14
          ],
          [
           14
          ],
          [
           14
          ],
          [
           14
          ],
          [
           14
          ],
          [
           -1
          ],
          [
           14
          ]
         ],
         "hovertemplate": "<b>%{hovertext}</b><br><br>t-SNE Component 1=%{x}<br>t-SNE Component 2=%{y}<br>cluster=%{marker.color}<extra></extra>",
         "hovertext": [
          "Добрый день! Да, мы командой обсуждали чем хотели бы заняться на смене и наши интересы сошлись, поэтому у каждого участника ответ сообщение будет одинаковый)\r\n   Команда хотела бы остаться в области разработки беспилотного транспорта, и есть одна задумка, за разработку которой мы не осмелились взяться самостоятельно.\r\n   Это конвертоплан -  винтокрылый летательный аппарат с поворотными двигателями, которые на взлёте и при посадке работают как несущие винты, а в горизонтальном полёте — как тянущие или толкающие.\r\n   Такое решение, позволит эффективней использовать ресурс двигателей и заряд аккумулятора. Дрон сможет летать на дальние расстояния, а закрытый корпус обеспечит защиту от плохих погодных условий – перечислять все преимущества можно долго.\r\n   Лучшие характеристики – лучший функционал и клиентоориентированность. Дрон будет интересен широкому кругу пользователей, сможет патрулировать труднодоступные объекты и делать это качественней.\r\n   Для работы нам потребуется принтеры для PETG и ABS пластика большей площади печати, расходные материалы (пенопласт и т.д.), лучшая плата (например, Raspberry Pi), GPS датчик, антенны и прочая электроника, работающая на большом расстоянии.\r\n   Надеемся, что попадем на смену, а Сириус поможет нам в осуществлении задуманного!",
          "Дерматолог и micro usb, пожалуйста",
          "Дерматолог и micro usb, пожалуйста",
          "Пасибо большое",
          "Не отвечай сегодня егору",
          "Игнорим",
          "окей а пул ап",
          "У тебя есть пена дома глянул",
          "Запасная?",
          "У меня если есть то большая",
          "Мб у тебя есть небольшая",
          "Ладно я беру забей",
          "Ладно",
          "Сережа берет гель 3в1",
          "Все, укомплектованы",
          "Тоесть шампунь тоже",
          "Ну да, какая-то смесь",
          "Понятно",
          "Я только буду щас собираться",
          "Я коптер мы утром показать будем ?",
          "Или вы уже все взяли",
          "Мы все упаковали",
          "Хорошо",
          "К слову кто будет сидеть спереди",
          "Может Егора туда хуйнуть а самим троем сзади",
          "Ага",
          "Окей",
          "Она погасла",
          "Не работает",
          "Как ее включить обратно ?",
          "Включи",
          "Как",
          "Там кнопка спереди",
          "Ничего не происходит",
          "А не",
          "Иди на улицу",
          "Тогда хз",
          "Ты где ?",
          "Если пойдешь снимать егора",
          "То скажи ему чтобы бегал не только вправо и влево",
          "Но и от окна и к окну",
          "А сам меняй ракурс иногда",
          "Рамиль, Сережа рядом?",
          "Скажи ему чтоб то чекнул",
          "Что то",
          "Ладно когда увижу скажу",
          "Да все не надо",
          "Ладно",
          "ярик можешь скинут фотку твоего варианта",
          "и ты случаем не знаешь из какого сборника она брала варианты",
          "а то я свой егэшник не сфоткал",
          "Спасибо",
          "Аккуратно только",
          "Там уравнение с ошибкой блять",
          "Ряльно",
          "В инете никто с таким условием на ответ не вышел",
          "Там где-то одна цифра не та",
          "Погуглиш кароч",
          "Окей",
          "Привет, я сегодня поеду на лекцию к 7 мб увидимся",
          "Окей",
          "Ну я не знаю",
          "Я тут на учёт встаю",
          "Не знаю сколько это займет может я устану и забью просто",
          "Апхапхап, бывает",
          "Не волнуйся мне сказали, что тех кто из других вузов будут ждать на входе",
          "Я просто по думал, если ты будешь в вузе то можно увидеться",
          "Победа",
          "Хахаха",
          "Ты как съездил то",
          "Я завтра то есть уже сегодня разбирать думаю начну",
          "у меня не получилось(",
          "надеюсь в след раз смогу приехать",
          "Бывает",
          "Ну ничего",
          "Я всю неделю ложился в 23",
          "Сегодня зашёл в Кибербанк",
          "машина",
          "Вот результат",
          "Удалил нахуй",
          "ну ошибочка вышла",
          "бывает",
          "Это пиздец конечно, я никогда в игры не играл особо, но затягивает очень сильно",
          "Особенно такая сюжетная штука как ьам",
          "не представляешь насколько...",
          "Когда с каждым часом ещё интереснее",
          "Становится",
          "Не работает эта фигня как отдых",
          "а ты думал",
          "Ладно, если я завтра разберу корзину",
          "То напишу тебе",
          "мозги напрягаются постоянно",
          "Да",
          "у меня просто было записано что ты хотел мне написать в субботу",
          "ну я часика на 2 опоздал",
          "Ну ладно, 11 потерял суммарно за играми, хватит",
          "Лучше тридешкой и нейронами заниматься",
          "Ладно, надеюсь встану хоть в 9 завьра",
          "вот это правильный подход",
          "Доброй ночи",
          "я надеюсь на 10",
          "и тебе)",
          "Думал я седня вечером разобрать корзину",
          "Но написал одногрупник",
          "И мы вместе 3 часа проект по проге пилили",
          "Так что я седня если успею то только организовать все доски",
          "Кстати у jetbrains, той компании что pycharm сделала",
          "Если дофига ide для всех языков",
          "И если купить лицензию, то есть штука как code with me",
          "Когда можно компанией над одним файлом одновременно работать",
          "Короче имба",
          "590 рублей на полгода на Авито стоит",
          "Стоит того если нужна",
          "звучит прикольно",
          "но помоему в больших компаниях просто через гит работают",
          "хотя на несколько человек должно быть удобней чем гит",
          "я кстати с пайчарма на мы code перешел, который синенький такой",
          "Ну мы так вдвоем в дискорде просто силели",
          "Обсуждали писали",
          "Ясно",
          "Ну я теперь на clion теперь",
          "Раз лицензия есть",
          "нифига себе",
          "первый раз слышу",
          "В целом оч похоже на пайчарм",
          "что то на богатом",
          "Ну меня одногрупник забайтил",
          "ясно",
          "Я подавал пойду трело заведу по всем правилам",
          "какими правилами ?",
          "ну как вотяков скажет",
          "там же корзину разбирать по спискам",
          "такие дела",
          "ааа понял",
          "ну главное не откладывать надолго",
          "а то потом совсем  в падлу станет",
          "да я поствил установку месяц тестить гтд и потом отчет сделаю",
          "работает или нет",
          "я тоже подмал какое время потестить",
          "думал потом с тобой обсудить",
          "Просто корзина есть на 247 строк у меня",
          "Это норм объем",
          "Мб что-то повторяется",
          "200 нормальных будет",
          "Это долго разьирать",
          "ну у меня было на 170 с лишним",
          "Ну я долго собирал",
          "Так что да, больше всего пришло в голову",
          "Мб там ного неактульного",
          "Но я сегодня дополнил и вроде норм",
          "я думаю еще раз пересмотрю его веб",
          "чтобы разщобрать когда нибудь потом",
          "на всякий",
          "чтобы убедится что я точно все правильно делаю",
          "Ага",
          "Ну на бумаге эта штука делает нас миллионерами",
          "Автооматом",
          "уже чувствую как с каждой записанноq карточкой в корзину я богатею",
          "Ну эта штука просто должнпа помочь не проебывать время в таком объеме",
          "У меня такие надежды",
          "аналагично",
          "Ну тогда забиваемся",
          "13 декабря я тебе пишу можем потом обсудить гтд опыт",
          "Так",
          "Ну я эту неделю все разбирал корзину хаха",
          "Такая тема, стоит только копнуть и ещё какие-то вебы посмотреть хочется",
          "Сегодня вечером думаю точно ее доразберу, пользоваться вроде тоже начал",
          "Ощущения непривычные",
          "Правильно он говорил, что из головы многое выбрасываешь",
          "И перед глазами все самое актуальное",
          "Да я у него кучу вебов уже просмотрел",
          "Затягивает не на шутку",
          "Да это во многом помогает",
          "Да у мен там вообще был проект поставить цели на жизнь",
          "И это надо было целый веб смотреть по целям",
          "Хахах потом подумать, поставить хах",
          "Короче времени ушло довольно много, но верю что не зря",
          "Мне кажется одна из главных фишек ГТД это проекты, казалось бы одношаговое действие, а если подумать можно в проект расписать многоступенчатый и так становится легче работать",
          "Да факты",
          "Это прям кайф",
          "И ещё в целом веб по тому как ставит цели по smart хороший",
          "Ну и критерий завершения имба тоже",
          "Надо будет тоже чекнуть",
          "Ну там на 4 часа",
          "Я посмотрел только 2",
          "Штуку про ценности и принципы я скинул пока что",
          "Я про привычки начал смотреть",
          "О, это у меня в текущих действиях",
          "Мне кста супер умный чел с потока",
          "Посоветовал книгу atomic habits",
          "Говорит крутая ебнешься",
          "Я вот ща в метро начинаю читать",
          "Надо добавить в когда нибудь потом",
          "В раздел прочитать",
          "Да бро",
          "Кста на телефон трело можно скачать из китайского гугл плэя",
          "Который гет аппс",
          "Не знал",
          "А то через браузер постоянно заходить не удобно",
          "кстати ярик ты не помнишь какого числа у сереги др ?",
          "я хочу в календарь внести",
          "Бля",
          "Сейчас и не вспомню",
          "ты записывал куда нибудь ?",
          "но это был день когда мы паковали вещи на отъезд",
          "да я помню",
          "ладно у него сам спрошу",
          "Сука я только что почистил телефон",
          "мне сказало так гтд",
          "я сделал",
          "да ща я вспонмю найду",
          "сек",
          "ок",
          "Значит 15го?",
          "Думаю да",
          "апхахп",
          "раскрыли тайну",
          "Звучит как правда",
          "отсрортиролвал когда нибудь потом",
          "дофига колонок вышло, но да ладно.",
          "у меня тоже там куча  колонок",
          "Блин вроде гтд",
          "А пока что голова кипит все равно",
          "Ну мне кажется это пройдет",
          "Наверное пока вводишь",
          "нжно просто привыкнуть все туда записывать",
          "и доставать инфу от туда вовремя",
          "Я хз просто вот есть проект избавится от хуйни голове, частью которого является ввести гтд, а частью проекта ввести гтд является задача досмотреть вебы по гтд",
          "И вот такая иерархия",
          "Нездоровая",
          "наверное надо досмотреть вебы по гтд",
          "Надо разбить этот дурацкий избавиться от хуйни на мелкие",
          "и будет норм",
          "там вроде 3 части да ?",
          "Хаха у меня в корзине это первым лежало",
          "Да, но там ещё куча смежных",
          "И я как-то расписал",
          "Ну там третий про перепоручение",
          "Первые 2 я глянул",
          "Так и сделаю хаха",
          "я 3 тоже посмотрел, теперь жестко перепоручаю",
          "Просто я неделю уже без тридэ с разбором этой корзины и привитие себе системы",
          "Ну месяц я ей даю железно, в целом она меня сушит по рутине пока что",
          "Я столько фигни переделал",
          "Которую давно надо было",
          "Но все потом да потом",
          "Теперь там по вузу надо решить вопросв",
          "Видимо, сейчас это важне, раз так говорит гтд хаха",
          "Ещё блять на ДР каждый родственник просит подарок",
          "Ну и надо ещё отписать все чего мне надо хаха",
          "+",
          "можешь мне тоже написать впринципе",
          "Хахах это в корзину",
          "Я спать",
          "Завтра разберу бро",
          "такая же фигня нужно сначала все нынешние вопросы закрыть, чтобы было легче вводить систему",
          "Сережа кста купил у меня аппаратуру",
          "Хочет встретиться в др передать подарок",
          "Я в ахуе",
          "Для дрона ту",
          "я ему написал начет этого",
          "Хахахаха",
          "он сказал посмотрим ближе к чт",
          "Насчет моего др?",
          "я тебе уже 2 дня подарок выбитраю",
          "да",
          "Так, я постараюсь отписать тогда как придёт что в голову",
          "Пойду я спать, неделю ложился в 10, сегодня дал слабину",
          "Ну ниче",
          "а когда он тебе написал что придет",
          "Пока мы не решили когда",
          "Я предложил встретиться в среду",
          "уже снизил с 11 до 10",
          "Не не не завтра опять в 10",
          "Седня считай первый гтд день",
          "Хоть корзина ещё и не была разобрана",
          "Седня вот вечером прям хотел разобрать до конца",
          "А как говорил АР часто нужно поступать в соответствии со своими хотелками",
          "Так что шах и мат",
          "вот он тру фан АРа",
          "Я с ним ботал ЕГЭ год",
          "Ты о чем",
          "Правда, я тогда не собрался ввести гтд",
          "Ну зато теперь тру фан",
          "осталось только все вебы помотреть",
          "По факту, там блин до жопы",
          "Но это инвестиция в себя, да-да",
          "Так что можно",
          "они еще и по тысячу часов все",
          "Я хоть и х2 смотрю все равно довольно долго",
          "АР гений",
          "Навязал всем гтд",
          "Чтобы у всех появился в гтд проект посмотреть все вебы",
          "я x1/5",
          "Думаю про финансы будет полезно",
          "Я пока что просто записал в когда нибудь потом понять деньги",
          "Разбогатеть",
          "Но так отказался от булочек/шоколадок после вуза",
          "Решил пока сейвить и не тратить без необходимости",
          "Пока что норм стратегия на ближайшие 2-3 недели",
          "Ладно я точно теперь спать бб",
          "Бля я вообще не знаю чего хочу",
          "Мне как будто из каких-то мелочей и ничего не надо",
          "Честно посидел",
          "Не знаю я, и тете че говорить тоже не знаю хаха",
          "тогда я задействую свои наработки",
          "и подарю то что сам придумал",
          "мы встречаемся в четверг вечером ?",
          "да",
          "Тогда мы как завтра",
          "Собираемся посидеть где-то",
          "Или как",
          "Как скажешь, если у тебя завтра есть время с нами посидеть то отлично",
          "Я завтра примерно с 6 свободен",
          "Кстати говоря",
          "У меня завтра будет свободно",
          "Так что если ты хочешь можем опять у меня посидеть",
          "Хахахаха",
          "Удачно кстати",
          "Хотя я думал в хинкальной",
          "Там у метро Жулебино есть хорошая",
          "можно",
          "Я Серёже написал",
          "Ну Сережа не отвечает",
          "База",
          "13 часов прошло",
          "И в итоге я не знаю бронировать столик или нет",
          "Хаха, так что может ещё и у тебя собремся",
          "Кстати мне он довольно быстро отвечал",
          "Пару дней назад",
          "Ну мне тоже когда написал что аппаратуру покупает",
          "Я ему уже смайлик скинул",
          "Спит что ли",
          "Я вчера глянул веб по перепоручению",
          "И жёстко перепоручил презу по истории на Workzilla",
          "хорош",
          "И мне уже седня сделали",
          "да там быстро делают",
          "и не дорого",
          "И реально важно дать задачу так, как по советовал",
          "Я прям по алгоритму прошелся",
          "И действительно помогло",
          "Хорошая получилась задача",
          "И ещё это с одногруппником пополам поделил",
          "Вообще копейки",
          "Рамильдо",
          "Скинь адрес",
          "Я на зарядке",
          "98 дом 3 подъезд",
          "Я на зарядке",
          "Могу заказывать",
          "17 этаж квартира и домофон 189",
          "Окей",
          "я заказал уже",
          "А",
          "Ну тогда скажи сколько",
          "Или ты выбрал оплату при получении",
          "я не помню...",
          "Ну скидывай как проверишь сколько",
          "3 с лишним +-",
          "3130 у меня корзина",
          "3 больше на тонком",
          "угу",
          "Тебе по номеру можно?",
          "ага",
          "желательно на тинькоф",
          "Ага",
          "А за прошлый раз ещё сколько с меня",
          "ты же вроде кидал мне",
          "Неа",
          "1000",
          "Лови",
          "Rize app",
          "Рекомендую \"Rizee - The Perfect Guide\"\r\n",
          "Это ?",
          "Не",
          "В браузере",
          "Это на пк",
          "Окей",
          "Ярик это МегаХайп",
          "Короче я как ар сказал лег пораньше, в 11 провалялся наверное часик",
          "Уснул, и проснулся в 8+- без будильника",
          "Чувствую себя выспавшийся и довольным)",
          "Кто бы мог подумать, что это легче чем кажется",
          "Я ещё книгу перед сном почитал кстати)",
          "Megahype bro",
          "ВТБ, у меня днюха 23",
          "Можно без опозданий",
          "Я вообще без стипендии...",
          "Я сегодня с кайфом залутал баллы по истории",
          "Делегация прошла успешно",
          "Ар хуйни не посоветует)",
          "Rize app имба",
          "Казалось бы он тупа трекает время что ты в фокусе",
          "не могу не согласится",
          "А потом суммирует",
          "я тоже его скачал",
          "Но блять я сегодня так хорошо в фокусе был",
          "мегахайп",
          "В вуз съездил",
          "На эту матешу для гениев",
          "и как ?",
          "Ну седня я хоть чето понял",
          "В прошлый раз совсем калл какой-то",
          "А так порешали предельчики",
          "Такие интересные",
          "И она ещё файл дала домой на неделю",
          "нихуево",
          "Вообще получается как репетиторство",
          "читы или матан, выбор для гениев",
          "Ибо там только она, я, и ещё 2 чела",
          "Сидим за одним столом",
          "Бесплатно хахп",
          "Хаха ну да",
          "Ладно похожу, если сильно будет напрягать то оставлю это дело",
          "Я спать",
          "Завтра с утра гтд",
          "я в 11",
          "спать",
          "Надо 3 презентации перепоручить",
          "и в 8 подяем",
          "Харош",
          "Только саморазвитие, только вперёд",
          "Да",
          "Хахахаха",
          "я живу только ради цифр",
          "кстати довольно мотивирующую вещь",
          "посмотрел и прям доволен собой",
          "Ага",
          "Бля ну эти 3 часа отдыха пугают",
          "А так заебись",
          "надо уметь отдыхать бро)",
          "Факты",
          "Попробую когда у меня весь день будет строго 15/45 ебашить",
          "А сегодня я то 5 то 15 то 10",
          "То эта штука ебет ряльно",
          "Ты садишься за комп и она такая твой перерыв закончился 5 минут назад",
          "Давай фокус",
          "апххапхапхахп",
          "есть такое",
          "Вот день и сложился",
          "11 с половиной часов",
          "ты себе на день сколько выделил времени в телефоне",
          "я пока 3 часа поставил",
          "А можно глобально ставить?",
          "У меня просто таймеры на месседжеры",
          "я просто лимит на день поставил",
          "ну и на ютуб отдельно",
          "А я не нашел такого",
          "У меня так",
          "что ты в хроме 40 минту делал",
          "Я ебу",
          "и в заметках",
          "Заметки я с телефона записываю слова которые не знаю",
          "Пока читаю",
          "А потом там же и повторяю их",
          "хм прикольно",
          "Ну все",
          "Занес",
          "Так должно быть понятно что когда",
          "Все в одном месте",
          "Bruh",
          "Это ты 2 часа просыпался хаха",
          "Теперь на день всего час остался(",
          "Bruh",
          "все пизда",
          "райз требует подписку",
          "дает только таймер ставить",
          "сук",
          "bruh",
          "а скоклько она стоит",
          "16 баксов",
          "В месяц",
          "Я в ахуе",
          "И десять если на год купит",
          "В месяц",
          "То есть 120 баксов",
          "12к",
          "я подавися аж",
          "Но бля я как наркоман ебаный",
          "Сука",
          "подсадили на иглу",
          "Да",
          "Ты прикинь он ещё с Гугл календаря подсасывает твои события",
          "мб можно скачать где нибудь взломку с торента",
          "И все в одном место",
          "Ну надеюсь",
          "Пизда",
          "Я расстроен",
          "да видел",
          "Бля пидоры",
          "Сколько я сегодня был в фокусе я хочу узнать",
          "апхахпа",
          "469 минут фокуса ебать я могу хаха мне нужно хвастаться",
          "ты тоже можешь хаха",
          "тоесть все таки показывает время ?",
          "или ты не про это говорил ?",
          "только это",
          "без графиков и распиания",
          "грустно",
          "но хотя бы что то",
          "только это окно",
          "Во какую штуку сделал, она еще анимированная но мне лень рендерть",
          "Выглядит потрясно",
          "пасибо пасибо",
          "нравится мне хвастаться",
          "я как свою задачку дорешаю тоже похвастаюсь)",
          "обяхательно",
          "тогда не овлекаю больше",
          "называется поставил на обучение",
          "у пк щас взорвется",
          "Аххаахха",
          "А видюха",
          "Блять пришлось с телефона писать",
          "ТГ на ПК завис ахпах",
          "Ей похуй это же не картинки",
          "У меня просто таблица на 300 столбцов)",
          "А я думал на видюхе все обучается",
          "Ну надо себе cuda ядра подключить",
          "От Nvidia и тогда на видюхе все будет",
          "Ну у тебя наверное видюха пошустрее проца будет",
          "Видимо)",
          "Я то вокруг проца собирал потому что в Гудини много просчётов в процессе работы только на цп",
          "И рендер в основном на цп",
          "На видюхе тоже можно, но пока с рядом ограничений",
          "Поэтому в серьезных студиях там тоже на цп упор в работе",
          "Понятно понятно",
          "Райз присылает на почту письма кста",
          "И вроде это без подписки тоже работает",
          "Так что живём живем",
          "Которые с твоим дневным отчётом ?",
          "Ага",
          "Как и обещал",
          "Чё это",
          "Задачка?",
          ".",
          "А что ща сайт",
          "типа лит кода, но для програмитсов больших данных",
          "тут на каждую задачку можно выложить свой результат",
          "и посмотреть на каком ты месте",
          "Харош",
          "Первый шаг сделан",
          "2 шаг",
          "У меня седня говнодень в вузе",
          "По сравнению с той средой блин вообще ниче не успеваю считай хаха",
          "Вчера тоже так себе",
          "Но ниче выходные отыграемся",
          "Ща английский",
          "бывает",
          "мне завтра в 6 вставать...",
          "надеюсь я встану",
          "😬",
          "Ахахах телега на гг уже смайлик подсказывает",
          "На хайпе",
          "Блин теперь надо привычку заводить",
          "Решать задачки по дополнительной математике",
          "ахах",
          "Каждый день по часику",
          "так жестко ?",
          "Не просто много",
          "и если решать 3-5 часов подряд",
          "то голова кипит и тильт какой-то",
          "да с матаном всегда так",
          "а так растянуть на неделю было бы славно",
          "я седня еще разок съездил, через 2 недели уже какой-то конурс",
          "или отборочный тур на олимпиавду",
          "на олимпиадную матешу ?",
          "ага",
          "как там читы ?",
          "да пошел он нахуй",
          "ахахпа",
          "понял принял",
          "делать хочу что нравится",
          "тебе не зашло ?",
          "я поглядел что люди в гудини делают",
          "плюсы совсем не пошли",
          "мне пиздец учить там",
          "и замотивировался",
          "не ну нормально, просто я понимаю что читы очень time-consuming",
          "и мотвация у меня только деньги",
          "похуй на деньги",
          "о вы from england",
          "есть где жить, что поесть, есть комп",
          "могу делать что нравится",
          "я об этом же",
          "пока можно надо учится",
          "и вышмат делать",
          "чтобы потом по ляму зашибать",
          "по факту",
          "бро тут только факты",
          "потому что пару отборов пройду если, то там сборная рэу по матеше",
          "это просто +репутация",
          "хахахаха",
          "а матешу тебе в кайф решать ?",
          "понял",
          "ну АР же говорил что олимпиадная матеша это всем полезно",
          "я с ним не спорю как бы",
          "все по АРу",
          "+",
          "никто не спорит...",
          "хахах я блин знаешь что",
          "я неделю гтд не трогал",
          "я хз почему",
          "блять ярик",
          "и все опять странно ощущается",
          "ебано",
          "быстро сел и разобрал корзину",
          "опять я сел и хуйня по делам",
          "так точно, погнал тогда я",
          "мне надо привести дела в порядок",
          "я еще посмотрел у АР веб по Zettelkasten",
          "и его тоже теперь внедряю",
          "а то я веду себя не как взрослый совем блин",
          "вроде прикольная штука",
          "а че это",
          "ну ты прям как ребенок себя ведешь)",
          "посмотри веб)",
          "запиши в когда нибудь потом",
          "отправляю в корзину...",
          "хахаха",
          "о",
          "все прям щас сажусь",
          "у меня нейронка дотренилась",
          "нужно 2-3 презентации заказать на воркзилле",
          "дохуя всего",
          "хайп",
          "1186 место по 3 задаче",
          "ща допилю",
          "и еще лучше будет",
          "красава",
          "я пошел гтд делать",
          "мне еще книжка по привычкам дел подкидывает",
          "надо тоже пару заданий сделать",
          "ладно бб",
          "давай",
          "еще трабл",
          "вот есть задача",
          "по типу дорешать семинар пол матеше",
          "она вроде отноразовая",
          "одношаголвая тосчнее",
          "то блин я то там то тут порешал, не дорешал, но время то потратил",
          "надо вдими конретику вносить",
          "порешать там-то и столько-то часов",
          "да поподробнее распиши задачу",
          "а всеь файл внести в проект",
          "наверное так",
          "да",
          "пасибо",
          "обращайся бро",
          "и думаю ноут мне таки нужен",
          "ну я недавно родился, так что деньги есть",
          "в целом в гудини не обязатель всегда ебанутые сетапы рендерить",
          "можно просто идею продумывать, делать чероновик-заготовку",
          "так что буду брать",
          "наверное на и5/рузен5 16гб оперативки норм будет",
          "чтобы в унике тоже гудинить ?",
          "ага",
          "блять эта каорзина которую ты не разбираешь это пизда просто",
          "за то теперь ты знаешь как болезненно переставать ее разбирать)",
          "факты",
          "ща сек",
          "Общаюсь с женщинами только по делу👌",
          "Сережа бы не одобрил",
          "хаха",
          "короче пизда",
          "я еще не все раобрал",
          "ну как корзину всю",
          "но куча рутины одношаговой в текущих действиях",
          "Я прям офигел чето, очень очень больно было сегодня",
          "сделай перерыв",
          "Да я спать уже",
          "Пора",
          "спокойной",
          "Очень долго, но чувство классное",
          "Дела делаются",
          "это главное",
          "Добавил еще метки по проектам",
          "Чтобы по цветам различать с кайфом",
          "у тебя какие, по важности или по продолжительности",
          "или ты подругому их фильтруешь",
          "По проектам",
          "Чтобы я знал что часть чего",
          "а",
          "понял",
          "я просто капсом пишу ОРГ или ОФИС или ПРОГА",
          "А то раньше терялся к чему же это было, а теперь у похожих проектов похожие метки",
          "чтобы сразу в глаза бросалось",
          "У меня так теперь",
          "звучит как идея которую надо спиздить)",
          "ну я видел ща секунду",
          "НАДО ПОЧИТАТЬ",
          "Во чел вот такие обложки сделал",
          "Ну можно самому сделать",
          "ПРИКОЛЬНО",
          "ой",
          "И прикреплял к карточкам",
          "Ну да ладно, пока так, теперь на неделю цель разбирать корзину on the daily basis",
          "Understand?",
          "yes",
          "bro its hype",
          "Good N8",
          "кстати осталось 10 дней",
          "Да, я как раз успею потестить",
          "Всю систему, я завел доску для ежедневных мыслей по гтд",
          "Как раз соберу",
          "Все бб",
          "Ну перепоручать конечно я вчера задолбался",
          "Наверное часа полтора думал на задачей",
          "Ибо там целая Ворд таблица требований к презентации",
          "Ну вроде все подробно расписал",
          "Черновики коплю, потом должно быть быстрее",
          "Я для своей хуйни один раз заморочился шаблон расписал",
          "Теперь просто файлик с заданием меняю",
          "Надо бы тоже сделать такое",
          "У меня как раз Некст работа на воркзиллу это офисный калл",
          "ГТА 6 трейлер вышел лол",
          "Ща чай заварю",
          "Пойду смотреть",
          "Седня с утра тренировочку бахнул",
          "Разъебал ноги",
          "С кайфом",
          "Глянул  трейлер, выходит все слухи оправдались",
          "Про вайс сити и двух героев, один из которых - женщина",
          "Ну теперь можно забыть нахуй до 25 года",
          "Надо нафармить денег на пс5 к этому времени",
          "И с кайфом поиграем",
          "Нихуя ты",
          "Я в 5 то толком не играл",
          "не то что эти ваши шевцовы",
          "Я собираю данные",
          "Когда мы соберемся их будет достаточно",
          "Ладно, погнал я спать.",
          "Спокойной",
          "Видимо сегодня первый раз когда я приеду на пару заранее",
          "Я перепутал время и выехал на пол часа раньше",
          "Я думал я уже опаздал",
          "За то я первый пииеду",
          "И сдам все лабы нахуй",
          "Харош",
          "У меня все стабильно, хочется уже что-то новое слушать",
          "Это 18 суток без перерыва слушать",
          "Ахуеть",
          "Ну у меня могло быть даже больше",
          "Но я перестал же последний месяц фоном слушать музыку",
          "И на коме считай не включаю",
          "Я обычно на ПК включаю, немного слушаю, появляется задача которая требует 100% моего внимания, я стоплю музыку и дальше сижу без музыки, потому что забываю включить ее обратно",
          "Вопрос как быстро такая задача появится",
          "Все я седня составил шаблон для отчёта ежедневного",
          "Теперь они буду структурированные и связанные даже друг с другом",
          "И он туда же",
          "Хахаах",
          "И что там?",
          "Не играйте в гта, вводите гтд,  ботайте ЕГЭ?",
          "Сижу смотрю",
          "Просто я не дома а на телефоне заблочен ютуб",
          "Короче он фантазирует на сколько крутой будет гта",
          "А",
          "Ну он тоже реьенок",
          "Ахахах",
          "Апхапхап",
          "Нейросети там",
          "Город большой",
          "Все мы внутри хотим гта врум врум на танке",
          "Кстати если они из добавят, то будет разъебалово",
          "2 года есть еще",
          "Я ради этого даже готов купить ее",
          "А не скачивать пиратку",
          "Так как ты на пс скачаешь",
          "Пиратку",
          "Ее на ПК не будет первый год - два",
          "Как это с пятой было",
          "А она только на пс",
          "...",
          "И на хбох",
          "Я потому и говорил про пс 5",
          "Что за хуйня",
          "Я пекарь",
          "Сто это единственная причина купить ее",
          "Думаю оптимизация",
          "Вот именно",
          "Делать игру под 2 вида железа проще чем мод тысячи конфигураций на винде",
          "Bruh",
          "Просто гта 5 вышла на пс3 вообще",
          "Понимаешь",
          "Пс 3 это консоль 7 года",
          "Я за это деньги заплачу вообще то.....",
          "2007 года блять",
          "А на ней идёт гта",
          "Нихуя",
          "Так давно",
          "Что они из 5 выжмут",
          "Какую графику",
          "Ладно сколько там эти ваши плойки стоят",
          "50к вроде",
          "Хз",
          "В любом случае это купить и продать сразу же",
          "Да уж",
          "Ну это когда будет",
          "Пока что похуй",
          "Ладно",
          "Мало ли я в 25 уже милионаром буду",
          "И похуй тогда",
          "Из когда нибудь потом появится задача разбогатеть",
          "Ага хаха",
          "У меня до сих пор лежит",
          "В гараже",
          "Фига",
          "Рабочая даже вроде",
          "А у меня бокс 360",
          "Все продать хотел",
          "Взломанный",
          "Нихуя",
          "На пиратском софте",
          "Игры с торрентов сюда",
          "Но - онлайн режим",
          "Вот и оставляй потом Серёжу одного с хбоксом",
          "Ахахаха",
          "Хотя сосни точно выпустят пс5 про к тому времени",
          "Апхапхап",
          "Сосни",
          "Спасибо бро",
          "Ну потому что сосноль",
          "Сосни",
          "И она будет ещё дороже хаха",
          "Как это с четверкой было",
          "А была 4 про",
          "Да",
          "Нихуя",
          "И была 4 слим",
          "Типо тонкая",
          "Я знаю есть 5 без дисковода и с ним",
          "Ну кстати в Америке уже есть пс5 слим",
          "Нифига",
          "Беременная консоль",
          "ура я в истории",
          "Ирина петровна проснулась хаха",
          "все нормально ирина петровна",
          "ты что она скучает",
          "(((((",
          "ей грустно(",
          "Ну ее ваня развлек достойно",
          "на пенсии видимо скучно",
          "на завде пашет",
          "так не",
          "\"пашет\"",
          "она ж написала в мск работет",
          "ааа",
          "нихуя",
          "в вузе без долгов",
          "в гору пошел пацанг",
          "я так понял это там где дом сережт",
          "около того перекрестка",
          "а бля она еще настрочила сообщений",
          "хзахаа у тебя тоже без звука",
          "конечно",
          "у меня впринципе вотсап без звука",
          "у меня без звука группа",
          "ибо бабушка там еще мне пишет",
          "и это надо отвечать",
          "придешь на вечер в школу ?",
          "неа",
          "я же сказал",
          "3+ года",
          "вычеркнул школу из сердца ?",
          "по факту",
          "новая шкодла",
          "высшая школа кибертехнологий математики и статистики",
          "рэу им г в плеханова",
          "хахах я на этой неделе рассказал 2 презентации с воркзиллы",
          "я 4 подряд сдал",
          "как и планировал",
          "и ща еще какието тесты делать по советам попросил тетю",
          "по ответам",
          "а вообще странный седня день чето",
          "я еще у одногрупнитсы заказал англ сдлеать весь",
          "че так",
          "хахаахах",
          "ну встал в 8:30 хоть лег в 23",
          "потом вроде треню ебнул на бицепс и спину",
          "мащина",
          "а потом чето порешал эту доп матешу,",
          "поехал на доп матешу",
          "вернулся",
          "сел есть за компом ибо батя крутил фарш на кухне",
          "и пизда",
          "- час",
          "тильт",
          "а я целый день пишу документацию для проекта на 30+ страниц",
          "это по вузу?",
          "тот на распознавание лиц?",
          "да",
          "защита в пн",
          "ясно",
          "я посмотрел вебчик по ораторскому искусству",
          "we FH",
          "бля",
          "У АР",
          "у меня в пн выходной но чувствую полдня на матешу уйжет ибо зачет скоро",
          "ну коросе странный день, потом вроде 2 часа провел в фокусе над трехмеркой",
          "и фот хуй знает",
          "стал я седня на 1 проуент лучше",
          "ну если лягу вовремя, то наверное да",
          "да бывает",
          "ну завтра god bless все время мое",
          "и я триде хочу с утра до вечера",
          "пойду накалякаю выводы про сегодняшний день",
          "и спать",
          "седня математичка показла кстати на допах наши баллы по вступительному егэ в начале сентября",
          "и у нее прям таблица после каждой фамилии балл егэ и балл егэ в сентябре",
          "у меня там тупа Дубовиков    84    24",
          "с кайфом",
          "хайп",
          "мы получается на следующих выходных уже встречаемся",
          "или как ?",
          "да факты",
          "го тогда в субботу",
          "давай",
          "вдвоем же",
          "чисто гтд обсудть",
          "ага",
          "тогда смотри у меня 11:50 - 13:20 будет эта матеша",
          "то есть в 14:30 должен быть на котлах",
          "у меня все равно в сб уник утром",
          "я где то к 3 домой приеду",
          "во",
          "тогда го тогда соберемся если тебе удобно",
          "тогда заношу в календарь бро",
          "я тоже бро",
          "тогда бб",
          "пошел я спать",
          "давай",
          "спокойной",
          "казалось бы просто костер",
          "а я с ним ебался часов 5",
          "и еще не закончил",
          "у меня так описание любого проекта начинается",
          "хаха",
          "МегаХайп",
          "???",
          "Что это",
          "Это термос",
          "И там на фильтре sus написано",
          "Прикол",
          "Бля",
          "Мы сегодня в нашей ленинской аудитории сидели 4 часа",
          "Решали задачи эти олипиадные по командам",
          "Опять тильт",
          "да уж",
          "может тебе лучше кинуть эту хуйню",
          "скижишь училке что устроился на стражировку какую нибудь\r\nтипа времени нет",
          "Да это хотя бы вместо пар было",
          "Так бы я 4 пары бы в другом месте сидел",
          "тогда еще ладно",
          "Ага",
          "Но тяжко",
          "Тяжко идет",
          "ну еще бы",
          "Завтра в 15?",
          "ну да +-",
          "Окец",
          "я как приеду тебе напишу",
          "Окец",
          "Завтра на пару спешить не надо",
          "Меня снегом засыпало",
          "Ну 30 минут +-",
          "это препод по линалу",
          "это мегахайп",
          "могу на полчаса больше поспать",
          "больше АРа меня мотивирует только разрешение на опоздание...",
          "Хахахаха",
          "Легенда",
          "Я на котлах",
          "В Смысле приехал с вуза или ты из дома пришел и ждёшь меня ?",
          "А мы в милю пойдем или куда",
          "У меня сегодня занято",
          "С вуза пришел",
          "Иду в твою сторону",
          "Тильт",
          "Ща у меня просто на телефоне 3 процента",
          "Он чуть чуть подзарядиться",
          "А где тогда будем реально",
          "Мда",
          "У меня минус телефон тоже хаха",
          "Сейчас в Дикси который около твоего дома",
          "Я как-то не очень хочу в милю или ещё куда",
          "У меня тоже все",
          "Можно только если в моей комнате",
          "Что тоже так себе",
          "Ты сам где сейчас?",
          "Может тогда соберёмся когда у когото свободно будет, сегодня уже не будем",
          "Просто в ТЦ будет неуютно",
          "Сорян я разговаривал",
          "Ну как скажешь",
          "Просто у меня пока не нет ближайшего дня когда дома будет пусто",
          "Так что хуй знает",
          "Модем на Некст неделе",
          "Либо в крайнем на новогодних",
          "Ну можем ко мне также в комнате зайти посмдеть",
          "А ты где сейчас",
          "Дома...",
          "Не, давай сегодня скип",
          "Окей",
          "Тогда на следующей?",
          "Давай",
          "Если свободно не будет то решим где",
          "Окей, давай",
          "У нас же вуз в субботу",
          "В мск каворкинг",
          "Какоцн",
          "Нихуя",
          "Звучит круто",
          "Мне кажется идея",
          "Все тогда",
          "До субботы ищем",
          "Мб седня на часик в дискорде соберёмся, а на следующей неделе уже вживую",
          "Да не, это не то",
          "согл",
          "https://prostopay.online",
          "https://vk.com/reu_ds_club",
          "https://play.google.com/store/apps/details?id=in.rizee.mylearningplus",
          "https://habr.com/ru/articles/511446/",
          "https://youtu.be/HOhoft6HHi8?si=c4zPijOomsnSZREL",
          "\r\nВот он, по настоящему самый первый обзор",
          "https://youtu.be/FUPOFgDJm38?si=yQPwKclQI67PhaPW"
         ],
         "legendgroup": "",
         "marker": {
          "color": [
           -1,
           -1,
           -1,
           -1,
           -1,
           -1,
           -1,
           -1,
           -1,
           -1,
           -1,
           -1,
           0,
           -1,
           -1,
           -1,
           -1,
           -1,
           -1,
           -1,
           -1,
           -1,
           1,
           -1,
           -1,
           2,
           3,
           -1,
           -1,
           -1,
           -1,
           1,
           -1,
           -1,
           1,
           -1,
           -1,
           1,
           -1,
           -1,
           -1,
           -1,
           -1,
           -1,
           1,
           -1,
           1,
           0,
           -1,
           -1,
           -1,
           -1,
           -1,
           -1,
           -1,
           -1,
           -1,
           -1,
           3,
           -1,
           3,
           -1,
           -1,
           -1,
           4,
           -1,
           -1,
           -1,
           -1,
           -1,
           -1,
           -1,
           -1,
           4,
           1,
           -1,
           -1,
           -1,
           -1,
           -1,
           -1,
           4,
           -1,
           -1,
           -1,
           -1,
           -1,
           -1,
           -1,
           -1,
           -1,
           -1,
           1,
           -1,
           -1,
           -1,
           -1,
           -1,
           -1,
           -1,
           -1,
           -1,
           -1,
           -1,
           -1,
           -1,
           -1,
           -1,
           -1,
           -1,
           -1,
           -1,
           -1,
           -1,
           -1,
           -1,
           -1,
           -1,
           -1,
           -1,
           -1,
           -1,
           -1,
           -1,
           -1,
           -1,
           -1,
           -1,
           -1,
           -1,
           -1,
           -1,
           -1,
           11,
           -1,
           -1,
           -1,
           -1,
           -1,
           -1,
           -1,
           -1,
           -1,
           -1,
           -1,
           -1,
           -1,
           -1,
           -1,
           -1,
           -1,
           -1,
           -1,
           -1,
           2,
           -1,
           -1,
           -1,
           -1,
           -1,
           -1,
           -1,
           -1,
           1,
           -1,
           -1,
           -1,
           -1,
           -1,
           -1,
           -1,
           -1,
           -1,
           -1,
           -1,
           -1,
           -1,
           -1,
           5,
           -1,
           -1,
           -1,
           -1,
           -1,
           -1,
           -1,
           -1,
           -1,
           -1,
           -1,
           -1,
           -1,
           -1,
           -1,
           5,
           -1,
           -1,
           -1,
           -1,
           -1,
           -1,
           -1,
           -1,
           -1,
           -1,
           -1,
           0,
           -1,
           -1,
           -1,
           -1,
           -1,
           -1,
           -1,
           -1,
           -1,
           -1,
           -1,
           -1,
           -1,
           -1,
           13,
           10,
           -1,
           -1,
           -1,
           -1,
           -1,
           -1,
           -1,
           -1,
           -1,
           -1,
           13,
           -1,
           -1,
           -1,
           -1,
           -1,
           2,
           -1,
           -1,
           -1,
           -1,
           -1,
           1,
           -1,
           -1,
           -1,
           -1,
           1,
           -1,
           -1,
           6,
           5,
           -1,
           -1,
           -1,
           -1,
           -1,
           -1,
           7,
           -1,
           -1,
           -1,
           1,
           -1,
           -1,
           -1,
           -1,
           -1,
           -1,
           -1,
           8,
           -1,
           -1,
           -1,
           -1,
           -1,
           -1,
           -1,
           1,
           -1,
           -1,
           -1,
           -1,
           -1,
           1,
           -1,
           -1,
           -1,
           -1,
           -1,
           1,
           -1,
           -1,
           -1,
           -1,
           -1,
           -1,
           0,
           -1,
           -1,
           -1,
           -1,
           -1,
           -1,
           -1,
           1,
           8,
           -1,
           1,
           -1,
           -1,
           -1,
           8,
           -1,
           7,
           -1,
           -1,
           -1,
           1,
           -1,
           -1,
           -1,
           -1,
           -1,
           -1,
           -1,
           -1,
           -1,
           -1,
           -1,
           -1,
           -1,
           -1,
           -1,
           -1,
           -1,
           -1,
           -1,
           -1,
           -1,
           -1,
           -1,
           -1,
           -1,
           -1,
           -1,
           -1,
           -1,
           -1,
           3,
           -1,
           1,
           -1,
           -1,
           -1,
           -1,
           -1,
           -1,
           -1,
           -1,
           -1,
           2,
           -1,
           2,
           -1,
           13,
           -1,
           1,
           -1,
           -1,
           -1,
           9,
           1,
           -1,
           9,
           3,
           -1,
           -1,
           -1,
           -1,
           -1,
           -1,
           -1,
           -1,
           -1,
           -1,
           -1,
           -1,
           -1,
           -1,
           -1,
           -1,
           -1,
           -1,
           -1,
           -1,
           -1,
           -1,
           1,
           11,
           -1,
           -1,
           -1,
           -1,
           -1,
           -1,
           -1,
           -1,
           -1,
           -1,
           2,
           -1,
           6,
           8,
           1,
           6,
           -1,
           -1,
           -1,
           -1,
           1,
           7,
           -1,
           -1,
           -1,
           2,
           -1,
           -1,
           -1,
           5,
           -1,
           -1,
           -1,
           -1,
           3,
           -1,
           -1,
           -1,
           -1,
           -1,
           -1,
           -1,
           -1,
           -1,
           -1,
           -1,
           1,
           -1,
           -1,
           -1,
           -1,
           -1,
           -1,
           -1,
           1,
           -1,
           -1,
           -1,
           -1,
           -1,
           -1,
           -1,
           -1,
           -1,
           -1,
           -1,
           -1,
           -1,
           -1,
           -1,
           -1,
           -1,
           -1,
           -1,
           1,
           -1,
           -1,
           -1,
           -1,
           1,
           -1,
           -1,
           -1,
           -1,
           -1,
           -1,
           -1,
           -1,
           -1,
           -1,
           -1,
           2,
           -1,
           9,
           9,
           -1,
           -1,
           -1,
           -1,
           -1,
           -1,
           -1,
           -1,
           -1,
           -1,
           -1,
           -1,
           -1,
           -1,
           -1,
           -1,
           -1,
           -1,
           -1,
           -1,
           -1,
           -1,
           -1,
           -1,
           -1,
           -1,
           -1,
           -1,
           -1,
           -1,
           -1,
           -1,
           -1,
           2,
           -1,
           -1,
           -1,
           1,
           -1,
           -1,
           -1,
           -1,
           -1,
           -1,
           -1,
           -1,
           -1,
           -1,
           -1,
           -1,
           4,
           8,
           -1,
           1,
           -1,
           -1,
           -1,
           -1,
           -1,
           -1,
           -1,
           9,
           -1,
           10,
           -1,
           -1,
           -1,
           -1,
           -1,
           2,
           -1,
           -1,
           -1,
           11,
           -1,
           -1,
           -1,
           -1,
           -1,
           -1,
           -1,
           -1,
           -1,
           -1,
           -1,
           -1,
           1,
           -1,
           -1,
           -1,
           -1,
           5,
           -1,
           9,
           7,
           -1,
           11,
           -1,
           -1,
           -1,
           1,
           -1,
           -1,
           -1,
           -1,
           -1,
           -1,
           -1,
           -1,
           -1,
           -1,
           -1,
           -1,
           -1,
           -1,
           -1,
           -1,
           -1,
           -1,
           -1,
           -1,
           -1,
           1,
           -1,
           -1,
           -1,
           -1,
           -1,
           -1,
           -1,
           1,
           -1,
           -1,
           -1,
           -1,
           0,
           3,
           -1,
           -1,
           -1,
           13,
           -1,
           -1,
           -1,
           -1,
           -1,
           -1,
           -1,
           1,
           -1,
           5,
           -1,
           -1,
           -1,
           -1,
           -1,
           -1,
           -1,
           2,
           -1,
           -1,
           5,
           -1,
           -1,
           -1,
           2,
           -1,
           -1,
           -1,
           -1,
           -1,
           -1,
           6,
           -1,
           -1,
           -1,
           -1,
           -1,
           -1,
           -1,
           -1,
           -1,
           -1,
           -1,
           1,
           11,
           -1,
           -1,
           -1,
           1,
           -1,
           -1,
           -1,
           -1,
           -1,
           -1,
           -1,
           -1,
           -1,
           -1,
           -1,
           -1,
           -1,
           -1,
           -1,
           -1,
           -1,
           0,
           -1,
           -1,
           -1,
           -1,
           -1,
           -1,
           -1,
           -1,
           -1,
           -1,
           -1,
           -1,
           -1,
           -1,
           -1,
           -1,
           -1,
           -1,
           -1,
           -1,
           12,
           -1,
           -1,
           -1,
           -1,
           6,
           -1,
           -1,
           -1,
           -1,
           -1,
           -1,
           -1,
           -1,
           -1,
           -1,
           -1,
           -1,
           -1,
           -1,
           -1,
           -1,
           -1,
           -1,
           -1,
           1,
           -1,
           -1,
           -1,
           -1,
           1,
           -1,
           -1,
           4,
           -1,
           -1,
           -1,
           -1,
           -1,
           -1,
           -1,
           -1,
           -1,
           -1,
           -1,
           -1,
           1,
           -1,
           9,
           -1,
           -1,
           -1,
           -1,
           -1,
           -1,
           -1,
           -1,
           -1,
           -1,
           -1,
           -1,
           -1,
           12,
           -1,
           -1,
           -1,
           -1,
           13,
           -1,
           -1,
           1,
           9,
           -1,
           0,
           -1,
           -1,
           -1,
           2,
           -1,
           -1,
           -1,
           13,
           -1,
           -1,
           -1,
           12,
           -1,
           -1,
           -1,
           -1,
           -1,
           -1,
           4,
           -1,
           5,
           -1,
           -1,
           -1,
           -1,
           1,
           1,
           12,
           -1,
           -1,
           -1,
           -1,
           -1,
           -1,
           -1,
           -1,
           -1,
           -1,
           1,
           -1,
           -1,
           -1,
           -1,
           1,
           -1,
           -1,
           -1,
           12,
           -1,
           -1,
           -1,
           -1,
           -1,
           -1,
           1,
           -1,
           -1,
           -1,
           -1,
           -1,
           -1,
           -1,
           -1,
           -1,
           -1,
           -1,
           -1,
           -1,
           -1,
           -1,
           -1,
           -1,
           -1,
           -1,
           -1,
           -1,
           -1,
           -1,
           -1,
           -1,
           -1,
           -1,
           -1,
           -1,
           -1,
           -1,
           10,
           -1,
           -1,
           -1,
           1,
           -1,
           -1,
           -1,
           -1,
           -1,
           -1,
           -1,
           -1,
           -1,
           -1,
           -1,
           4,
           -1,
           -1,
           -1,
           6,
           -1,
           -1,
           -1,
           -1,
           -1,
           -1,
           1,
           5,
           -1,
           3,
           -1,
           -1,
           2,
           -1,
           -1,
           -1,
           -1,
           1,
           -1,
           -1,
           5,
           0,
           6,
           3,
           -1,
           -1,
           -1,
           -1,
           -1,
           2,
           -1,
           1,
           9,
           -1,
           -1,
           -1,
           -1,
           -1,
           -1,
           10,
           1,
           -1,
           -1,
           -1,
           -1,
           0,
           2,
           -1,
           -1,
           1,
           8,
           1,
           -1,
           -1,
           -1,
           -1,
           -1,
           -1,
           -1,
           -1,
           -1,
           -1,
           7,
           -1,
           -1,
           -1,
           -1,
           -1,
           -1,
           -1,
           10,
           -1,
           -1,
           -1,
           -1,
           -1,
           -1,
           -1,
           1,
           -1,
           1,
           1,
           -1,
           -1,
           -1,
           -1,
           -1,
           -1,
           -1,
           -1,
           -1,
           1,
           -1,
           3,
           3,
           -1,
           3,
           -1,
           3,
           -1,
           -1,
           -1,
           12,
           -1,
           -1,
           1,
           -1,
           -1,
           9,
           -1,
           14,
           14,
           14,
           14,
           14,
           -1,
           14
          ],
          "coloraxis": "coloraxis",
          "symbol": "circle"
         },
         "mode": "markers",
         "name": "",
         "showlegend": false,
         "textposition": "top center",
         "type": "scattergl",
         "x": [
          -61.527374267578125,
          -94.43905639648438,
          -94.43905639648438,
          -29.47844696044922,
          38.077789306640625,
          14.164117813110352,
          76.50756072998047,
          -78.69554138183594,
          52.38932418823242,
          14.164117813110352,
          -27.53496551513672,
          89.33035278320312,
          57.04475402832031,
          14.164117813110352,
          14.164117813110352,
          86.801513671875,
          52.38932418823242,
          -67.61433410644531,
          27.54129409790039,
          27.54129409790039,
          14.164117813110352,
          14.164117813110352,
          -1.2844687700271606,
          52.38932418823242,
          14.164117813110352,
          122.30614471435547,
          -119.18719482421875,
          14.164117813110352,
          -32.22060012817383,
          14.164117813110352,
          14.164117813110352,
          -1.2844687700271606,
          14.164117813110352,
          14.164117813110352,
          -1.2844687700271606,
          35.39316940307617,
          -16.252986907958984,
          -1.2844687700271606,
          14.164117813110352,
          52.38932418823242,
          39.60401916503906,
          32.505859375,
          52.38932418823242,
          -86.73684692382812,
          -1.2844687700271606,
          43.010807037353516,
          -1.2844687700271606,
          58.71974182128906,
          -18.14384651184082,
          52.38932418823242,
          27.54129409790039,
          -61.23026657104492,
          14.164117813110352,
          19.00388526916504,
          -72.00328063964844,
          23.35001564025879,
          14.164117813110352,
          39.66375732421875,
          -120.74919128417969,
          72.37959289550781,
          -115.9372787475586,
          54.40012741088867,
          -32.09464645385742,
          17.635652542114258,
          -44.07358169555664,
          12.27812671661377,
          80.58132934570312,
          14.164117813110352,
          -98.2849349975586,
          6.873945236206055,
          51.786537170410156,
          27.54129409790039,
          -8.310134887695312,
          -52.43062973022461,
          -1.2844687700271606,
          -83.5180435180664,
          35.87236022949219,
          14.164117813110352,
          14.164117813110352,
          -32.75155258178711,
          14.164117813110352,
          -52.43062973022461,
          14.164117813110352,
          14.164117813110352,
          -34.49946594238281,
          -34.39060974121094,
          27.54129409790039,
          3.802295684814453,
          -13.637453079223633,
          -42.03569030761719,
          -47.28532028198242,
          14.164117813110352,
          -1.2844687700271606,
          33.93992614746094,
          -24.608598709106445,
          -46.71704864501953,
          14.164117813110352,
          78.88654327392578,
          28.477970123291016,
          43.742305755615234,
          82.21601104736328,
          -49.41802978515625,
          -91.10176849365234,
          -66.346435546875,
          -27.342239379882812,
          -35.90758514404297,
          -53.087345123291016,
          14.164117813110352,
          14.164117813110352,
          14.164117813110352,
          -15.669088363647461,
          -45.35207748413086,
          14.164117813110352,
          -22.1954402923584,
          15.264714241027832,
          -20.37920570373535,
          -45.697265625,
          68.62401580810547,
          14.164117813110352,
          -82.99376678466797,
          14.164117813110352,
          14.164117813110352,
          -59.86270523071289,
          -61.76013946533203,
          14.164117813110352,
          14.164117813110352,
          -66.346435546875,
          -82.99376678466797,
          14.164117813110352,
          -22.1345157623291,
          44.695777893066406,
          -13.655064582824707,
          14.164117813110352,
          32.890167236328125,
          14.164117813110352,
          52.17271041870117,
          -4.169200897216797,
          -32.22060012817383,
          14.164117813110352,
          -9.57375717163086,
          90.5224380493164,
          44.652435302734375,
          -33.14092254638672,
          14.164117813110352,
          61.79026412963867,
          -89.4338607788086,
          14.164117813110352,
          14.164117813110352,
          14.164117813110352,
          43.496212005615234,
          26.315765380859375,
          14.164117813110352,
          14.164117813110352,
          -22.630809783935547,
          128.31527709960938,
          14.164117813110352,
          14.164117813110352,
          69.74761962890625,
          -18.73382568359375,
          14.164117813110352,
          14.164117813110352,
          14.164117813110352,
          -24.21554183959961,
          -1.2844687700271606,
          86.67191314697266,
          26.339160919189453,
          -50.66721725463867,
          -0.9276540279388428,
          -11.446166038513184,
          14.164117813110352,
          14.164117813110352,
          14.164117813110352,
          19.93189239501953,
          14.164117813110352,
          14.164117813110352,
          -46.446781158447266,
          7.928966522216797,
          90.84130859375,
          -77.6222152709961,
          17.063669204711914,
          -57.735633850097656,
          4.071164131164551,
          14.164117813110352,
          57.301448822021484,
          38.63283920288086,
          -7.194965362548828,
          14.164117813110352,
          71.7682113647461,
          14.164117813110352,
          14.164117813110352,
          14.164117813110352,
          -12.147664070129395,
          14.164117813110352,
          91.57704162597656,
          -60.439788818359375,
          -54.812259674072266,
          14.164117813110352,
          -101.2349624633789,
          14.164117813110352,
          -36.921043395996094,
          -16.241071701049805,
          0.38844308257102966,
          14.164117813110352,
          14.164117813110352,
          -57.59380340576172,
          12.376484870910645,
          52.38130187988281,
          100.7327880859375,
          -25.429519653320312,
          14.164117813110352,
          -25.58841896057129,
          34.447914123535156,
          14.164117813110352,
          14.164117813110352,
          22.016698837280273,
          14.164117813110352,
          -60.356990814208984,
          -39.58686828613281,
          14.164117813110352,
          60.69615173339844,
          92.52501678466797,
          39.964134216308594,
          1.4408081769943237,
          58.43015670776367,
          24.138132095336914,
          13.66042709350586,
          14.164117813110352,
          0.5055863261222839,
          79.62838745117188,
          14.164117813110352,
          6.295010566711426,
          14.164117813110352,
          42.28485870361328,
          31.20694351196289,
          63.99900817871094,
          -44.806827545166016,
          82.32860565185547,
          -44.32070541381836,
          42.60641860961914,
          119.50251770019531,
          42.434471130371094,
          -8.309629440307617,
          2.1600215435028076,
          14.164117813110352,
          103.5887680053711,
          -1.2844687700271606,
          14.164117813110352,
          81.46367645263672,
          -0.4621520936489105,
          108.98656463623047,
          -1.2844687700271606,
          45.9145393371582,
          -6.653387546539307,
          -112.08689880371094,
          -44.84256362915039,
          14.164117813110352,
          14.164117813110352,
          -39.575462341308594,
          -49.68870544433594,
          70.21432495117188,
          61.9455680847168,
          120.52466583251953,
          14.164117813110352,
          14.164117813110352,
          -22.18636131286621,
          -1.2844687700271606,
          14.164117813110352,
          -83.6026382446289,
          -59.35680389404297,
          -18.557769775390625,
          23.319080352783203,
          14.164117813110352,
          14.164117813110352,
          -24.362289428710938,
          -37.809303283691406,
          86.9390640258789,
          -91.990966796875,
          -13.051852226257324,
          14.164117813110352,
          -80.96239471435547,
          14.164117813110352,
          -1.2844687700271606,
          -67.02008819580078,
          -78.65396881103516,
          14.164117813110352,
          -117.64911651611328,
          57.1019172668457,
          -1.2844687700271606,
          -31.542827606201172,
          -33.35013961791992,
          -18.39696502685547,
          -51.56136703491211,
          -68.46992492675781,
          -1.2844687700271606,
          18.36736488342285,
          9.849980354309082,
          18.24639129638672,
          22.237598419189453,
          -14.288949966430664,
          6.760264873504639,
          -126.37293243408203,
          49.326663970947266,
          14.164117813110352,
          14.164117813110352,
          56.14900588989258,
          14.164117813110352,
          14.164117813110352,
          14.164117813110352,
          -1.2844687700271606,
          -24.362289428710938,
          14.164117813110352,
          -1.2844687700271606,
          -38.538570404052734,
          26.688282012939453,
          -30.937938690185547,
          -19.195709228515625,
          14.164117813110352,
          120.52466583251953,
          -30.937938690185547,
          -5.744575023651123,
          14.164117813110352,
          -1.2844687700271606,
          71.52001953125,
          70.94963073730469,
          14.164117813110352,
          51.55615234375,
          4.243675708770752,
          105.40261840820312,
          -43.872432708740234,
          14.164117813110352,
          14.164117813110352,
          14.164117813110352,
          14.164117813110352,
          85.48624420166016,
          14.164117813110352,
          14.164117813110352,
          -46.38174057006836,
          64.96409606933594,
          14.164117813110352,
          14.164117813110352,
          14.164117813110352,
          34.42757797241211,
          8.479255676269531,
          -69.31278228759766,
          79.63067626953125,
          14.164117813110352,
          -18.90290069580078,
          -77.18732452392578,
          14.164117813110352,
          -77.18732452392578,
          55.624305725097656,
          14.164117813110352,
          -120.74919128417969,
          14.164117813110352,
          -1.2844687700271606,
          -86.73684692382812,
          14.164117813110352,
          12.376484870910645,
          -33.83216094970703,
          -89.4338607788086,
          88.83313751220703,
          14.164117813110352,
          14.164117813110352,
          -50.51023864746094,
          128.31527709960938,
          -25.520442962646484,
          128.31527709960938,
          -7.040913105010986,
          33.34134292602539,
          -35.48793411254883,
          -1.2844687700271606,
          14.164117813110352,
          98.29782104492188,
          14.164117813110352,
          -70.73223876953125,
          -1.2844687700271606,
          14.164117813110352,
          -77.76409149169922,
          -120.74919128417969,
          -92.42515563964844,
          -11.818058013916016,
          14.164117813110352,
          14.164117813110352,
          14.164117813110352,
          -49.35374069213867,
          14.164117813110352,
          -27.1141357421875,
          14.164117813110352,
          -25.458498001098633,
          -47.07624435424805,
          14.164117813110352,
          -24.605649948120117,
          96.01610565185547,
          14.164117813110352,
          -20.89764404296875,
          14.164117813110352,
          14.164117813110352,
          -45.68891906738281,
          -99.11814880371094,
          4.435944080352783,
          -53.61573791503906,
          -1.2844687700271606,
          19.85074234008789,
          14.164117813110352,
          14.164117813110352,
          14.164117813110352,
          -72.76315307617188,
          14.164117813110352,
          14.164117813110352,
          14.164117813110352,
          -38.867183685302734,
          14.164117813110352,
          -19.500667572021484,
          113.71311950683594,
          -16.672988891601562,
          -112.08689880371094,
          -30.139236450195312,
          -1.2844687700271606,
          -112.08689880371094,
          14.164117813110352,
          14.164117813110352,
          -102.16150665283203,
          -32.2111930847168,
          -1.2844687700271606,
          120.52466583251953,
          14.164117813110352,
          -42.23367691040039,
          -27.921903610229492,
          128.31527709960938,
          51.638633728027344,
          14.164117813110352,
          49.980281829833984,
          -77.6222152709961,
          -38.5434684753418,
          -46.1805305480957,
          -72.00328063964844,
          14.164117813110352,
          -135.36630249023438,
          14.164117813110352,
          95.73779296875,
          -32.77632522583008,
          14.164117813110352,
          -41.22654342651367,
          56.46335983276367,
          14.164117813110352,
          69.85716247558594,
          79.2861099243164,
          14.164117813110352,
          14.164117813110352,
          -1.2844687700271606,
          14.164117813110352,
          14.164117813110352,
          14.164117813110352,
          -30.01261329650879,
          23.319080352783203,
          14.164117813110352,
          -16.429845809936523,
          -1.2844687700271606,
          14.164117813110352,
          -71.98567199707031,
          -33.13089370727539,
          -105.55293273925781,
          58.616661071777344,
          -65.74126434326172,
          -105.55293273925781,
          28.983997344970703,
          14.164117813110352,
          14.164117813110352,
          14.164117813110352,
          -105.55293273925781,
          14.164117813110352,
          -97.82786560058594,
          74.53443908691406,
          -49.68870544433594,
          14.164117813110352,
          74.53443908691406,
          -97.82786560058594,
          -1.2844687700271606,
          -16.389469146728516,
          71.39124298095703,
          100.13502502441406,
          14.164117813110352,
          -1.2844687700271606,
          -46.08472442626953,
          14.164117813110352,
          -30.499902725219727,
          82.21601104736328,
          28.983997344970703,
          14.164117813110352,
          -91.66539001464844,
          -5.048450469970703,
          65.87222290039062,
          14.164117813110352,
          72.04208374023438,
          109.1982192993164,
          14.164117813110352,
          -68.73811340332031,
          -70.73223876953125,
          35.282920837402344,
          -108.87083435058594,
          -3.752268075942993,
          57.1019172668457,
          14.164117813110352,
          5.948784828186035,
          -33.92564392089844,
          -14.862759590148926,
          14.164117813110352,
          14.164117813110352,
          14.164117813110352,
          -38.07888412475586,
          -20.003982543945312,
          14.164117813110352,
          -56.46052169799805,
          -3.6352524757385254,
          -25.972402572631836,
          -37.97426223754883,
          -4.0241804122924805,
          -17.748947143554688,
          14.164117813110352,
          14.164117813110352,
          -55.54256057739258,
          -78.89348602294922,
          14.164117813110352,
          14.164117813110352,
          -26.85338020324707,
          14.164117813110352,
          -67.61433410644531,
          14.164117813110352,
          -37.21227264404297,
          14.164117813110352,
          14.164117813110352,
          128.31527709960938,
          14.164117813110352,
          57.1019172668457,
          14.164117813110352,
          -1.2844687700271606,
          13.587468147277832,
          14.164117813110352,
          14.164117813110352,
          14.164117813110352,
          -102.16150665283203,
          -69.92273712158203,
          -68.00005340576172,
          -32.16120147705078,
          63.23642349243164,
          95.35302734375,
          -59.35680389404297,
          13.587468147277832,
          -52.43062973022461,
          -23.1252498626709,
          80.1593017578125,
          -1.2844687700271606,
          14.164117813110352,
          14.164117813110352,
          -39.335792541503906,
          14.164117813110352,
          14.164117813110352,
          -45.020931243896484,
          45.05596160888672,
          -61.58003234863281,
          14.164117813110352,
          0.6912740468978882,
          14.164117813110352,
          14.164117813110352,
          -14.02796459197998,
          14.164117813110352,
          -47.20286560058594,
          128.31527709960938,
          14.164117813110352,
          -104.0800552368164,
          14.164117813110352,
          22.703598022460938,
          56.56077575683594,
          -50.51023864746094,
          14.164117813110352,
          14.164117813110352,
          14.164117813110352,
          14.164117813110352,
          43.81398391723633,
          8.796606063842773,
          -30.6468563079834,
          14.164117813110352,
          14.164117813110352,
          55.552181243896484,
          -1.2844687700271606,
          23.319080352783203,
          -44.68084716796875,
          14.164117813110352,
          -115.6224365234375,
          -71.57160186767578,
          14.164117813110352,
          -63.66139602661133,
          120.52466583251953,
          5.752338886260986,
          23.480329513549805,
          -1.7541568279266357,
          14.164117813110352,
          14.164117813110352,
          -1.2844687700271606,
          14.164117813110352,
          -28.022165298461914,
          -61.21735763549805,
          -15.161294937133789,
          -43.85487747192383,
          14.164117813110352,
          14.164117813110352,
          -9.872519493103027,
          -77.72459411621094,
          42.61724090576172,
          14.164117813110352,
          4.661190032958984,
          14.164117813110352,
          -65.14227294921875,
          -4.022292613983154,
          -49.5428581237793,
          14.164117813110352,
          14.164117813110352,
          14.164117813110352,
          0.1366843730211258,
          -98.2849349975586,
          -1.2844687700271606,
          14.164117813110352,
          14.164117813110352,
          14.164117813110352,
          14.164117813110352,
          -91.48761749267578,
          76.1282730102539,
          13.587468147277832,
          -1.2844687700271606,
          14.164117813110352,
          59.76293182373047,
          14.164117813110352,
          -1.8203010559082031,
          -127.59471893310547,
          -135.6012725830078,
          14.164117813110352,
          11.707566261291504,
          14.164117813110352,
          38.365875244140625,
          14.164117813110352,
          -52.188438415527344,
          14.164117813110352,
          14.164117813110352,
          14.164117813110352,
          14.164117813110352,
          26.68265151977539,
          -1.2844687700271606,
          -33.92564392089844,
          -57.258148193359375,
          -19.80600929260254,
          -3.447988986968994,
          14.164117813110352,
          17.211360931396484,
          14.164117813110352,
          37.740928649902344,
          14.164117813110352,
          128.31527709960938,
          43.00442123413086,
          14.164117813110352,
          -77.6222152709961,
          37.05735778808594,
          14.164117813110352,
          14.164117813110352,
          113.71311950683594,
          34.29478454589844,
          14.164117813110352,
          -3.1313929557800293,
          72.12742614746094,
          -29.20795440673828,
          14.164117813110352,
          -112.08689880371094,
          14.164117813110352,
          -93.50967407226562,
          14.164117813110352,
          14.164117813110352,
          27.372480392456055,
          -83.30781555175781,
          64.44270324707031,
          14.164117813110352,
          14.164117813110352,
          -83.30781555175781,
          -101.2349624633789,
          -1.2844687700271606,
          23.480329513549805,
          -57.84937286376953,
          14.164117813110352,
          14.164117813110352,
          -1.2844687700271606,
          10.74976634979248,
          -94.0669937133789,
          14.164117813110352,
          14.164117813110352,
          5.611748695373535,
          -19.570512771606445,
          14.164117813110352,
          14.164117813110352,
          -14.507905960083008,
          14.164117813110352,
          14.164117813110352,
          14.164117813110352,
          14.164117813110352,
          -37.82062530517578,
          14.164117813110352,
          14.164117813110352,
          14.164117813110352,
          -128.75814819335938,
          98.04828643798828,
          -20.287324905395508,
          14.164117813110352,
          81.73490142822266,
          11.731924057006836,
          -26.04703712463379,
          48.09295654296875,
          92.89652252197266,
          14.164117813110352,
          14.164117813110352,
          -25.58841896057129,
          14.164117813110352,
          -20.88563346862793,
          14.164117813110352,
          59.87312316894531,
          14.164117813110352,
          14.164117813110352,
          -83.92828369140625,
          14.164117813110352,
          55.51601791381836,
          -120.19203186035156,
          14.164117813110352,
          14.164117813110352,
          14.164117813110352,
          14.164117813110352,
          -116.93206787109375,
          -93.50967407226562,
          -16.110349655151367,
          -19.195627212524414,
          -11.239233016967773,
          -61.76013946533203,
          14.164117813110352,
          -102.16150665283203,
          14.164117813110352,
          14.164117813110352,
          14.164117813110352,
          14.164117813110352,
          0.2252596914768219,
          14.164117813110352,
          -55.96125030517578,
          69.83857727050781,
          -66.16374969482422,
          14.164117813110352,
          14.164117813110352,
          14.164117813110352,
          -1.2844687700271606,
          14.164117813110352,
          14.164117813110352,
          38.1895751953125,
          16.161331176757812,
          -1.2844687700271606,
          14.164117813110352,
          14.164117813110352,
          -38.07612609863281,
          14.164117813110352,
          14.164117813110352,
          14.164117813110352,
          -19.148603439331055,
          -78.8411636352539,
          14.164117813110352,
          -78.81908416748047,
          -63.9758186340332,
          -78.81908416748047,
          84.41292572021484,
          57.1019172668457,
          -67.49547576904297,
          -1.2844687700271606,
          14.164117813110352,
          -68.06381225585938,
          -79.51359558105469,
          14.164117813110352,
          14.164117813110352,
          21.557950973510742,
          14.164117813110352,
          -39.95480728149414,
          -105.55293273925781,
          33.53567123413086,
          14.164117813110352,
          -71.7947006225586,
          -9.902135848999023,
          -76.25235748291016,
          14.164117813110352,
          -120.19203186035156,
          106.37467956542969,
          14.164117813110352,
          14.164117813110352,
          -21.9642333984375,
          35.777442932128906,
          -16.252986907958984,
          14.164117813110352,
          -1.2844687700271606,
          -70.73223876953125,
          -32.97518539428711,
          57.04475402832031,
          14.164117813110352,
          -33.55809020996094,
          15.791441917419434,
          124.5239486694336,
          14.164117813110352,
          14.164117813110352,
          14.164117813110352,
          38.365875244140625,
          14.164117813110352,
          -52.17439270019531,
          14.164117813110352,
          -120.19203186035156,
          14.164117813110352,
          14.164117813110352,
          14.164117813110352,
          14.164117813110352,
          14.164117813110352,
          -6.849765300750732,
          -38.07612609863281,
          99.78780364990234,
          -61.08039474487305,
          14.164117813110352,
          99.78780364990234,
          111.70169830322266,
          57.1019172668457,
          -1.2844687700271606,
          -1.2844687700271606,
          -120.19203186035156,
          -2.5793356895446777,
          14.164117813110352,
          55.76744079589844,
          -0.16342341899871826,
          -59.86270523071289,
          -35.88559341430664,
          14.164117813110352,
          99.82440185546875,
          102.19536590576172,
          14.164117813110352,
          -1.2844687700271606,
          -108.87083435058594,
          14.164117813110352,
          -76.87158203125,
          -78.81908416748047,
          -1.2844687700271606,
          -78.81908416748047,
          14.164117813110352,
          35.93233108520508,
          -120.19203186035156,
          14.164117813110352,
          -3.029301166534424,
          15.954140663146973,
          14.164117813110352,
          71.39124298095703,
          14.164117813110352,
          -1.2844687700271606,
          14.164117813110352,
          14.164117813110352,
          14.164117813110352,
          57.1019172668457,
          14.164117813110352,
          -35.48793411254883,
          14.164117813110352,
          -78.8411636352539,
          14.164117813110352,
          -115.6224365234375,
          14.164117813110352,
          14.164117813110352,
          14.164117813110352,
          -21.20649528503418,
          14.164117813110352,
          14.164117813110352,
          -25.453758239746094,
          14.164117813110352,
          16.880441665649414,
          14.164117813110352,
          -46.929874420166016,
          14.164117813110352,
          14.164117813110352,
          55.02008056640625,
          14.164117813110352,
          -62.909629821777344,
          -63.0328483581543,
          14.164117813110352,
          -52.54896545410156,
          28.983997344970703,
          -64.63729858398438,
          -2.3035502433776855,
          -39.97273635864258,
          27.372480392456055,
          14.164117813110352,
          -1.2844687700271606,
          14.164117813110352,
          -82.99376678466797,
          -31.623931884765625,
          14.164117813110352,
          0.38844308257102966,
          -20.958520889282227,
          14.164117813110352,
          -53.347049713134766,
          86.85611724853516,
          -46.22135925292969,
          -11.671585083007812,
          -52.43062973022461,
          -50.696929931640625,
          54.0863151550293,
          -68.41650390625,
          -112.08689880371094,
          -52.171424865722656,
          14.164117813110352,
          14.164117813110352,
          59.87312316894531,
          -91.48761749267578,
          14.164117813110352,
          -1.2844687700271606,
          -77.6222152709961,
          -30.57346534729004,
          -135.6012725830078,
          70.6692886352539,
          -38.69612503051758,
          128.31527709960938,
          14.164117813110352,
          -78.81908416748047,
          -53.65095901489258,
          12.60865592956543,
          -1.2844687700271606,
          6.348386764526367,
          52.171287536621094,
          -60.439788818359375,
          -128.75814819335938,
          -107.3541259765625,
          -135.6012725830078,
          -93.50967407226562,
          -4.0241804122924805,
          14.164117813110352,
          14.164117813110352,
          14.164117813110352,
          113.71311950683594,
          -99.11814880371094,
          -1.2844687700271606,
          -70.73223876953125,
          57.1019172668457,
          14.164117813110352,
          14.164117813110352,
          0.38844308257102966,
          -38.242820739746094,
          14.164117813110352,
          -2.3035502433776855,
          -1.2844687700271606,
          -7.181636810302734,
          14.164117813110352,
          -8.825300216674805,
          14.164117813110352,
          57.04475402832031,
          128.31527709960938,
          -78.81908416748047,
          -78.81908416748047,
          -1.2844687700271606,
          -24.362289428710938,
          -1.2844687700271606,
          -91.48761749267578,
          -46.31343078613281,
          -91.48761749267578,
          61.20648193359375,
          14.164117813110352,
          14.164117813110352,
          28.477970123291016,
          -96.10677337646484,
          -20.62608528137207,
          -33.68438720703125,
          120.52466583251953,
          14.164117813110352,
          -78.81908416748047,
          73.14861297607422,
          14.164117813110352,
          -46.59032440185547,
          76.00849914550781,
          14.164117813110352,
          -2.3035502433776855,
          27.056215286254883,
          14.164117813110352,
          14.164117813110352,
          14.164117813110352,
          80.92217254638672,
          -73.9290771484375,
          -27.850130081176758,
          -1.2844687700271606,
          14.164117813110352,
          -1.2844687700271606,
          -1.2844687700271606,
          -11.807379722595215,
          69.85716247558594,
          14.164117813110352,
          14.164117813110352,
          21.81259536743164,
          84.41409301757812,
          14.164117813110352,
          14.164117813110352,
          14.164117813110352,
          -1.2844687700271606,
          -77.88320922851562,
          -141.37872314453125,
          -120.74919128417969,
          14.164117813110352,
          -135.6012725830078,
          -15.547065734863281,
          -127.93289184570312,
          0.7812440991401672,
          14.164117813110352,
          14.164117813110352,
          -120.19203186035156,
          -1.4442917108535767,
          14.164117813110352,
          -1.2844687700271606,
          14.164117813110352,
          -60.141605377197266,
          -70.73223876953125,
          14.164117813110352,
          -120.19203186035156,
          -120.19203186035156,
          -120.19203186035156,
          -120.19203186035156,
          -120.19203186035156,
          -60.1993293762207,
          -120.19203186035156
         ],
         "xaxis": "x",
         "y": [
          40.754737854003906,
          24.88226318359375,
          24.88226318359375,
          -89.17423248291016,
          32.71995162963867,
          -5.417184829711914,
          33.80514144897461,
          3.775649309158325,
          45.764347076416016,
          -5.417184829711914,
          -32.17790985107422,
          -12.69624137878418,
          -112.66692352294922,
          -5.417184829711914,
          -5.417184829711914,
          40.973304748535156,
          45.764347076416016,
          -70.65277099609375,
          48.083866119384766,
          48.083866119384766,
          -5.417184829711914,
          -5.417184829711914,
          5.539652347564697,
          45.764347076416016,
          -5.417184829711914,
          30.185516357421875,
          -9.204367637634277,
          -5.417184829711914,
          133.44186401367188,
          -5.417184829711914,
          -5.417184829711914,
          5.539652347564697,
          -5.417184829711914,
          -5.417184829711914,
          5.539652347564697,
          -64.26174926757812,
          -83.59728240966797,
          5.539652347564697,
          -5.417184829711914,
          45.764347076416016,
          42.44325637817383,
          38.291664123535156,
          45.764347076416016,
          -5.081872463226318,
          5.539652347564697,
          -47.228572845458984,
          5.539652347564697,
          -108.93199157714844,
          -53.3530158996582,
          45.764347076416016,
          48.083866119384766,
          -84.8249740600586,
          -5.417184829711914,
          -77.29106140136719,
          37.818084716796875,
          37.36560821533203,
          -5.417184829711914,
          51.29038619995117,
          -13.928131103515625,
          -13.277531623840332,
          -12.817179679870605,
          -67.42420959472656,
          53.882591247558594,
          43.01054382324219,
          -126.46737670898438,
          -51.6779899597168,
          -7.59580659866333,
          -5.417184829711914,
          73.23493957519531,
          99.24495697021484,
          -52.99995040893555,
          48.083866119384766,
          -43.68362045288086,
          -124.0143051147461,
          5.539652347564697,
          62.17962646484375,
          23.676790237426758,
          -5.417184829711914,
          -5.417184829711914,
          -47.0791015625,
          -5.417184829711914,
          -124.0143051147461,
          -5.417184829711914,
          -5.417184829711914,
          -27.252126693725586,
          -19.888004302978516,
          48.083866119384766,
          39.101036071777344,
          100.05278778076172,
          -100.35438537597656,
          -77.9128189086914,
          -5.417184829711914,
          5.539652347564697,
          75.94011688232422,
          56.85386276245117,
          47.168670654296875,
          -5.417184829711914,
          -99.1197280883789,
          30.034029006958008,
          26.244319915771484,
          -89.6329574584961,
          -72.49535369873047,
          6.0344743728637695,
          -47.51231002807617,
          27.221614837646484,
          -54.88167953491211,
          26.35138702392578,
          -5.417184829711914,
          -5.417184829711914,
          -5.417184829711914,
          31.904216766357422,
          64.40402221679688,
          -5.417184829711914,
          117.36799621582031,
          81.30420684814453,
          -61.54050064086914,
          22.931467056274414,
          -57.414920806884766,
          -5.417184829711914,
          -82.0420150756836,
          -5.417184829711914,
          -5.417184829711914,
          75.77842712402344,
          30.509475708007812,
          -5.417184829711914,
          -5.417184829711914,
          -47.51231002807617,
          -82.0420150756836,
          -5.417184829711914,
          -38.84746551513672,
          17.223796844482422,
          46.584327697753906,
          -5.417184829711914,
          -104.06375885009766,
          -5.417184829711914,
          11.981695175170898,
          56.0406379699707,
          133.44186401367188,
          -5.417184829711914,
          35.00102615356445,
          82.962646484375,
          124.14093017578125,
          45.93255615234375,
          -5.417184829711914,
          58.50407409667969,
          -65.35305786132812,
          -5.417184829711914,
          -5.417184829711914,
          -5.417184829711914,
          117.12458801269531,
          92.83482360839844,
          -5.417184829711914,
          -5.417184829711914,
          14.916790962219238,
          29.42545509338379,
          -5.417184829711914,
          -5.417184829711914,
          68.5191421508789,
          -11.855376243591309,
          -5.417184829711914,
          -5.417184829711914,
          -5.417184829711914,
          -46.29464340209961,
          5.539652347564697,
          29.90184211730957,
          -68.70829772949219,
          11.306341171264648,
          24.649206161499023,
          77.80528259277344,
          -5.417184829711914,
          -5.417184829711914,
          -5.417184829711914,
          28.915781021118164,
          -5.417184829711914,
          -5.417184829711914,
          38.665061950683594,
          -73.83609008789062,
          19.15300750732422,
          -104.36605834960938,
          -44.320613861083984,
          -25.04261589050293,
          -55.03079605102539,
          -5.417184829711914,
          81.75215148925781,
          88.2394790649414,
          -34.41725158691406,
          -5.417184829711914,
          87.00113677978516,
          -5.417184829711914,
          -5.417184829711914,
          -5.417184829711914,
          18.73478889465332,
          -5.417184829711914,
          -1.7069867849349976,
          -97.42435455322266,
          51.173702239990234,
          -5.417184829711914,
          -4.337880611419678,
          -5.417184829711914,
          68.39155578613281,
          13.42293643951416,
          -130.50613403320312,
          -5.417184829711914,
          -5.417184829711914,
          13.005362510681152,
          -87.7120590209961,
          -108.30378723144531,
          27.96773338317871,
          -2.1518094539642334,
          -5.417184829711914,
          -16.899118423461914,
          105.00868225097656,
          -5.417184829711914,
          -5.417184829711914,
          94.93505096435547,
          -5.417184829711914,
          21.025514602661133,
          26.670604705810547,
          -5.417184829711914,
          -48.087158203125,
          8.957213401794434,
          -78.1734848022461,
          -110.38880920410156,
          67.27166748046875,
          130.31175231933594,
          71.62994384765625,
          -5.417184829711914,
          61.959747314453125,
          21.97163200378418,
          -5.417184829711914,
          76.43616485595703,
          -5.417184829711914,
          122.0631103515625,
          -84.54219818115234,
          -8.41627311706543,
          -19.416399002075195,
          -40.47196578979492,
          8.630404472351074,
          -57.74495315551758,
          2.2468671798706055,
          90.28380584716797,
          41.700740814208984,
          32.22889709472656,
          -5.417184829711914,
          -55.5296630859375,
          5.539652347564697,
          -5.417184829711914,
          2.64544415473938,
          -40.22032165527344,
          -8.380362510681152,
          5.539652347564697,
          34.99284744262695,
          133.54135131835938,
          19.15638542175293,
          -100.0232162475586,
          -5.417184829711914,
          -5.417184829711914,
          50.843624114990234,
          94.5851821899414,
          16.717191696166992,
          11.327839851379395,
          -34.98488235473633,
          -5.417184829711914,
          -5.417184829711914,
          65.03874206542969,
          5.539652347564697,
          -5.417184829711914,
          59.322998046875,
          -58.169960021972656,
          19.520065307617188,
          -56.63630676269531,
          -5.417184829711914,
          -5.417184829711914,
          -108.342041015625,
          -8.395817756652832,
          77.0382308959961,
          8.743063926696777,
          -27.602571487426758,
          -5.417184829711914,
          29.71685791015625,
          -5.417184829711914,
          5.539652347564697,
          -21.977020263671875,
          28.046981811523438,
          -5.417184829711914,
          69.50332641601562,
          25.850631713867188,
          5.539652347564697,
          -5.229817867279053,
          77.26930236816406,
          87.61473083496094,
          -49.486534118652344,
          -12.521178245544434,
          5.539652347564697,
          91.67140197753906,
          61.41985321044922,
          111.33241271972656,
          58.121761322021484,
          -37.29182815551758,
          -44.741180419921875,
          35.04294204711914,
          -67.84795379638672,
          -5.417184829711914,
          -5.417184829711914,
          -70.18976593017578,
          -5.417184829711914,
          -5.417184829711914,
          -5.417184829711914,
          5.539652347564697,
          -108.342041015625,
          -5.417184829711914,
          5.539652347564697,
          59.133419036865234,
          -45.029869079589844,
          15.85246753692627,
          -112.43021392822266,
          -5.417184829711914,
          -34.98488235473633,
          15.85246753692627,
          109.39443969726562,
          -5.417184829711914,
          5.539652347564697,
          7.3849196434021,
          26.808597564697266,
          -5.417184829711914,
          59.39850997924805,
          -64.9188232421875,
          -7.762106895446777,
          -32.98229217529297,
          -5.417184829711914,
          -5.417184829711914,
          -5.417184829711914,
          -5.417184829711914,
          -28.065710067749023,
          -5.417184829711914,
          -5.417184829711914,
          30.541975021362305,
          -18.83601951599121,
          -5.417184829711914,
          -5.417184829711914,
          -5.417184829711914,
          -52.40155029296875,
          118.09778594970703,
          24.158349990844727,
          -19.531972885131836,
          -5.417184829711914,
          51.97889709472656,
          -55.37409210205078,
          -5.417184829711914,
          -55.37409210205078,
          -15.832145690917969,
          -5.417184829711914,
          -13.928131103515625,
          -5.417184829711914,
          5.539652347564697,
          -5.081872463226318,
          -5.417184829711914,
          -87.7120590209961,
          38.18276596069336,
          -65.35305786132812,
          80.12246704101562,
          -5.417184829711914,
          -5.417184829711914,
          -69.0639877319336,
          29.42545509338379,
          -8.854443550109863,
          29.42545509338379,
          86.91920471191406,
          -78.6268310546875,
          89.11469268798828,
          5.539652347564697,
          -5.417184829711914,
          -38.9255485534668,
          -5.417184829711914,
          113.28524017333984,
          5.539652347564697,
          -5.417184829711914,
          113.8141098022461,
          -13.928131103515625,
          98.11236572265625,
          -71.49053955078125,
          -5.417184829711914,
          -5.417184829711914,
          -5.417184829711914,
          -26.123376846313477,
          -5.417184829711914,
          41.56523895263672,
          -5.417184829711914,
          4.085654258728027,
          55.682796478271484,
          -5.417184829711914,
          83.8895492553711,
          -40.605159759521484,
          -5.417184829711914,
          -24.57007598876953,
          -5.417184829711914,
          -5.417184829711914,
          81.5531005859375,
          94.33045959472656,
          97.59243774414062,
          -10.465201377868652,
          5.539652347564697,
          -107.63304901123047,
          -5.417184829711914,
          -5.417184829711914,
          -5.417184829711914,
          16.00865936279297,
          -5.417184829711914,
          -5.417184829711914,
          -5.417184829711914,
          -41.07008361816406,
          -5.417184829711914,
          8.157462120056152,
          3.8039214611053467,
          59.83692169189453,
          19.15638542175293,
          -110.37033081054688,
          5.539652347564697,
          19.15638542175293,
          -5.417184829711914,
          -5.417184829711914,
          -29.595626831054688,
          8.093249320983887,
          5.539652347564697,
          -34.98488235473633,
          -5.417184829711914,
          -48.55575942993164,
          34.408058166503906,
          29.42545509338379,
          -42.900718688964844,
          -5.417184829711914,
          -24.252422332763672,
          -104.36605834960938,
          19.530763626098633,
          77.240966796875,
          37.818084716796875,
          -5.417184829711914,
          4.316483020782471,
          -5.417184829711914,
          -72.27798461914062,
          23.380380630493164,
          -5.417184829711914,
          -25.521949768066406,
          84.58635711669922,
          -5.417184829711914,
          51.877105712890625,
          63.055118560791016,
          -5.417184829711914,
          -5.417184829711914,
          5.539652347564697,
          -5.417184829711914,
          -5.417184829711914,
          -5.417184829711914,
          -39.597869873046875,
          -56.63630676269531,
          -5.417184829711914,
          121.04508972167969,
          5.539652347564697,
          -5.417184829711914,
          -68.84086608886719,
          -73.05706024169922,
          -81.14917755126953,
          77.53208923339844,
          49.75243377685547,
          -81.14917755126953,
          -128.8714141845703,
          -5.417184829711914,
          -5.417184829711914,
          -5.417184829711914,
          -81.14917755126953,
          -5.417184829711914,
          56.938804626464844,
          104.61823272705078,
          94.5851821899414,
          -5.417184829711914,
          104.61823272705078,
          56.938804626464844,
          5.539652347564697,
          -19.011714935302734,
          -29.02457046508789,
          30.772607803344727,
          -5.417184829711914,
          5.539652347564697,
          -56.88562774658203,
          -5.417184829711914,
          -74.16346740722656,
          -89.6329574584961,
          -128.8714141845703,
          -5.417184829711914,
          -18.24100112915039,
          -132.37124633789062,
          38.92401123046875,
          -5.417184829711914,
          -2.428541898727417,
          7.680585861206055,
          -5.417184829711914,
          99.71221160888672,
          113.28524017333984,
          -41.44844055175781,
          44.34283447265625,
          111.45059967041016,
          25.850631713867188,
          -5.417184829711914,
          46.281803131103516,
          -87.32366943359375,
          39.17601013183594,
          -5.417184829711914,
          -5.417184829711914,
          -5.417184829711914,
          12.404130935668945,
          74.50582885742188,
          -5.417184829711914,
          61.33625411987305,
          -59.03940963745117,
          10.020642280578613,
          103.37407684326172,
          70.16419219970703,
          101.73979187011719,
          -5.417184829711914,
          -5.417184829711914,
          64.03082275390625,
          47.70111083984375,
          -5.417184829711914,
          -5.417184829711914,
          -54.12882614135742,
          -5.417184829711914,
          -70.65277099609375,
          -5.417184829711914,
          132.2501678466797,
          -5.417184829711914,
          -5.417184829711914,
          29.42545509338379,
          -5.417184829711914,
          25.850631713867188,
          -5.417184829711914,
          5.539652347564697,
          51.85459899902344,
          -5.417184829711914,
          -5.417184829711914,
          -5.417184829711914,
          -29.595626831054688,
          62.334686279296875,
          64.44200897216797,
          -12.470215797424316,
          1.7055399417877197,
          -24.120328903198242,
          -58.169960021972656,
          51.85459899902344,
          -124.0143051147461,
          -102.41100311279297,
          -96.24546813964844,
          5.539652347564697,
          -5.417184829711914,
          -5.417184829711914,
          -15.106819152832031,
          -5.417184829711914,
          -5.417184829711914,
          1.7812223434448242,
          91.68858337402344,
          123.55290985107422,
          -5.417184829711914,
          -107.58602905273438,
          -5.417184829711914,
          -5.417184829711914,
          68.49208068847656,
          -5.417184829711914,
          -40.729705810546875,
          29.42545509338379,
          -5.417184829711914,
          10.449798583984375,
          -5.417184829711914,
          -98.04170227050781,
          101.38662719726562,
          -69.0639877319336,
          -5.417184829711914,
          -5.417184829711914,
          -5.417184829711914,
          -5.417184829711914,
          76.98554229736328,
          34.059814453125,
          102.49674224853516,
          -5.417184829711914,
          -5.417184829711914,
          104.04371643066406,
          5.539652347564697,
          -56.63630676269531,
          15.890263557434082,
          -5.417184829711914,
          64.83709716796875,
          -102.01333618164062,
          -5.417184829711914,
          121.37296295166016,
          -34.98488235473633,
          68.15800476074219,
          -103.1632080078125,
          79.90821075439453,
          -5.417184829711914,
          -5.417184829711914,
          5.539652347564697,
          -5.417184829711914,
          -24.733455657958984,
          -8.711752891540527,
          -88.33193969726562,
          -5.215500354766846,
          -5.417184829711914,
          -5.417184829711914,
          -52.546573638916016,
          -16.653026580810547,
          59.4649543762207,
          -5.417184829711914,
          55.547607421875,
          -5.417184829711914,
          14.065962791442871,
          30.264055252075195,
          114.38623809814453,
          -5.417184829711914,
          -5.417184829711914,
          -5.417184829711914,
          132.56520080566406,
          73.23493957519531,
          5.539652347564697,
          -5.417184829711914,
          -5.417184829711914,
          -5.417184829711914,
          -5.417184829711914,
          40.407470703125,
          43.123008728027344,
          51.85459899902344,
          5.539652347564697,
          -5.417184829711914,
          -26.7370548248291,
          -5.417184829711914,
          -49.24116134643555,
          38.64978790283203,
          -2.1738874912261963,
          -5.417184829711914,
          115.83936309814453,
          -5.417184829711914,
          -85.63988494873047,
          -5.417184829711914,
          18.895662307739258,
          -5.417184829711914,
          -5.417184829711914,
          -5.417184829711914,
          -5.417184829711914,
          128.94873046875,
          5.539652347564697,
          -87.32366943359375,
          -101.32923126220703,
          -31.637786865234375,
          -68.79042053222656,
          -5.417184829711914,
          64.27035522460938,
          -5.417184829711914,
          123.02903747558594,
          -5.417184829711914,
          29.42545509338379,
          -35.665775299072266,
          -5.417184829711914,
          -104.36605834960938,
          103.91252899169922,
          -5.417184829711914,
          -5.417184829711914,
          3.8039214611053467,
          -127.51316833496094,
          -5.417184829711914,
          133.0662841796875,
          84.15550994873047,
          -62.59279251098633,
          -5.417184829711914,
          19.15638542175293,
          -5.417184829711914,
          -48.96695327758789,
          -5.417184829711914,
          -5.417184829711914,
          66.52363586425781,
          17.20842170715332,
          -83.78233337402344,
          -5.417184829711914,
          -5.417184829711914,
          17.20842170715332,
          -4.337880611419678,
          5.539652347564697,
          -103.1632080078125,
          -1.647705316543579,
          -5.417184829711914,
          -5.417184829711914,
          5.539652347564697,
          41.17766571044922,
          -16.688295364379883,
          -5.417184829711914,
          -5.417184829711914,
          26.494504928588867,
          119.07262420654297,
          -5.417184829711914,
          -5.417184829711914,
          24.790258407592773,
          -5.417184829711914,
          -5.417184829711914,
          -5.417184829711914,
          -5.417184829711914,
          -1.360377550125122,
          -5.417184829711914,
          -5.417184829711914,
          -5.417184829711914,
          43.420284271240234,
          -23.15493392944336,
          44.47105026245117,
          -5.417184829711914,
          -43.26102066040039,
          -60.503726959228516,
          49.025787353515625,
          68.52513122558594,
          -71.9973373413086,
          -5.417184829711914,
          -5.417184829711914,
          -16.899118423461914,
          -5.417184829711914,
          -70.64912414550781,
          -5.417184829711914,
          -86.442138671875,
          -5.417184829711914,
          -5.417184829711914,
          80.39825439453125,
          -5.417184829711914,
          -89.0085678100586,
          -49.405826568603516,
          -5.417184829711914,
          -5.417184829711914,
          -5.417184829711914,
          -5.417184829711914,
          23.86601448059082,
          -48.96695327758789,
          -45.36422348022461,
          1.7880198955535889,
          98.37397003173828,
          30.509475708007812,
          -5.417184829711914,
          -29.595626831054688,
          -5.417184829711914,
          -5.417184829711914,
          -5.417184829711914,
          -5.417184829711914,
          50.21828079223633,
          -5.417184829711914,
          -42.014312744140625,
          -41.94623947143555,
          -1.9876043796539307,
          -5.417184829711914,
          -5.417184829711914,
          -5.417184829711914,
          5.539652347564697,
          -5.417184829711914,
          -5.417184829711914,
          67.51058959960938,
          -68.10047149658203,
          5.539652347564697,
          -5.417184829711914,
          -5.417184829711914,
          -127.91266632080078,
          -5.417184829711914,
          -5.417184829711914,
          -5.417184829711914,
          -4.942278861999512,
          78.87189483642578,
          -5.417184829711914,
          -33.12364196777344,
          89.28136444091797,
          -33.12364196777344,
          52.74720764160156,
          25.850631713867188,
          91.37696838378906,
          5.539652347564697,
          -5.417184829711914,
          94.79069519042969,
          -14.441803932189941,
          -5.417184829711914,
          -5.417184829711914,
          97.95016479492188,
          -5.417184829711914,
          42.54458236694336,
          -81.14917755126953,
          58.69983673095703,
          -5.417184829711914,
          87.34766387939453,
          28.536754608154297,
          74.8300552368164,
          -5.417184829711914,
          -49.405826568603516,
          -56.190711975097656,
          -5.417184829711914,
          -5.417184829711914,
          31.298959732055664,
          -82.5059814453125,
          -83.59728240966797,
          -5.417184829711914,
          5.539652347564697,
          113.28524017333984,
          108.23680877685547,
          -112.66692352294922,
          -5.417184829711914,
          105.05351257324219,
          112.99156188964844,
          21.974374771118164,
          -5.417184829711914,
          -5.417184829711914,
          -5.417184829711914,
          -85.63988494873047,
          -5.417184829711914,
          -18.196178436279297,
          -5.417184829711914,
          -49.405826568603516,
          -5.417184829711914,
          -5.417184829711914,
          -5.417184829711914,
          -5.417184829711914,
          -5.417184829711914,
          48.704891204833984,
          -127.91266632080078,
          64.52851104736328,
          -87.77921295166016,
          -5.417184829711914,
          64.52851104736328,
          -10.79019832611084,
          25.850631713867188,
          5.539652347564697,
          5.539652347564697,
          -49.405826568603516,
          -80.0011215209961,
          -5.417184829711914,
          -63.67997360229492,
          -81.5197982788086,
          75.77842712402344,
          -34.151588439941406,
          -5.417184829711914,
          46.50957107543945,
          48.116729736328125,
          -5.417184829711914,
          5.539652347564697,
          44.34283447265625,
          -5.417184829711914,
          49.71078872680664,
          -33.12364196777344,
          5.539652347564697,
          -33.12364196777344,
          -5.417184829711914,
          -104.048095703125,
          -49.405826568603516,
          -5.417184829711914,
          36.86896896362305,
          35.45595169067383,
          -5.417184829711914,
          -29.02457046508789,
          -5.417184829711914,
          5.539652347564697,
          -5.417184829711914,
          -5.417184829711914,
          -5.417184829711914,
          25.850631713867188,
          -5.417184829711914,
          89.11469268798828,
          -5.417184829711914,
          78.87189483642578,
          -5.417184829711914,
          64.83709716796875,
          -5.417184829711914,
          -5.417184829711914,
          -5.417184829711914,
          37.570213317871094,
          -5.417184829711914,
          -5.417184829711914,
          20.885051727294922,
          -5.417184829711914,
          -110.96574401855469,
          -5.417184829711914,
          115.31378173828125,
          -5.417184829711914,
          -5.417184829711914,
          -6.010776519775391,
          -5.417184829711914,
          -35.47114944458008,
          -32.631378173828125,
          -5.417184829711914,
          -33.45492935180664,
          -128.8714141845703,
          52.37305450439453,
          -97.36428833007812,
          34.304595947265625,
          66.52363586425781,
          -5.417184829711914,
          5.539652347564697,
          -5.417184829711914,
          -82.0420150756836,
          1.571099877357483,
          -5.417184829711914,
          -130.50613403320312,
          86.19146728515625,
          -5.417184829711914,
          34.653682708740234,
          -55.97768020629883,
          -11.803893089294434,
          54.24723434448242,
          -124.0143051147461,
          -3.5949912071228027,
          3.3931803703308105,
          6.064350605010986,
          19.15638542175293,
          4.1657586097717285,
          -5.417184829711914,
          -5.417184829711914,
          -86.442138671875,
          40.407470703125,
          -5.417184829711914,
          5.539652347564697,
          -104.36605834960938,
          62.28673553466797,
          -2.1738874912261963,
          -55.41379165649414,
          -63.40207290649414,
          29.42545509338379,
          -5.417184829711914,
          -33.12364196777344,
          42.836246490478516,
          28.059072494506836,
          5.539652347564697,
          85.51727294921875,
          -33.48171615600586,
          -97.42435455322266,
          43.420284271240234,
          13.7311429977417,
          -2.1738874912261963,
          -48.96695327758789,
          70.16419219970703,
          -5.417184829711914,
          -5.417184829711914,
          -5.417184829711914,
          3.8039214611053467,
          94.33045959472656,
          5.539652347564697,
          113.28524017333984,
          25.850631713867188,
          -5.417184829711914,
          -5.417184829711914,
          -130.50613403320312,
          5.239792346954346,
          -5.417184829711914,
          -97.36428833007812,
          5.539652347564697,
          22.714502334594727,
          -5.417184829711914,
          62.066131591796875,
          -5.417184829711914,
          -112.66692352294922,
          29.42545509338379,
          -33.12364196777344,
          -33.12364196777344,
          5.539652347564697,
          -108.342041015625,
          5.539652347564697,
          40.407470703125,
          -80.6177749633789,
          40.407470703125,
          -37.10517501831055,
          -5.417184829711914,
          -5.417184829711914,
          30.034029006958008,
          97.42507934570312,
          25.381303787231445,
          30.41863250732422,
          -34.98488235473633,
          -5.417184829711914,
          -33.12364196777344,
          -70.96644592285156,
          -5.417184829711914,
          74.34308624267578,
          -71.07005310058594,
          -5.417184829711914,
          -97.36428833007812,
          81.8990249633789,
          -5.417184829711914,
          -5.417184829711914,
          -5.417184829711914,
          12.293350219726562,
          -4.957093715667725,
          70.83243560791016,
          5.539652347564697,
          -5.417184829711914,
          5.539652347564697,
          5.539652347564697,
          -61.79676818847656,
          51.877105712890625,
          -5.417184829711914,
          -5.417184829711914,
          74.54330444335938,
          -57.44453048706055,
          -5.417184829711914,
          -5.417184829711914,
          -5.417184829711914,
          5.539652347564697,
          6.499347686767578,
          -5.46672248840332,
          -13.928131103515625,
          -5.417184829711914,
          -2.1738874912261963,
          -115.09117889404297,
          -7.603541374206543,
          95.15335083007812,
          -5.417184829711914,
          -5.417184829711914,
          -49.405826568603516,
          43.5052604675293,
          -5.417184829711914,
          5.539652347564697,
          -5.417184829711914,
          -16.81117820739746,
          113.28524017333984,
          -5.417184829711914,
          -49.405826568603516,
          -49.405826568603516,
          -49.405826568603516,
          -49.405826568603516,
          -49.405826568603516,
          5.753445148468018,
          -49.405826568603516
         ],
         "yaxis": "y"
        }
       ],
       "layout": {
        "coloraxis": {
         "colorbar": {
          "title": {
           "text": "cluster"
          }
         },
         "colorscale": [
          [
           0,
           "#440154"
          ],
          [
           0.1111111111111111,
           "#482878"
          ],
          [
           0.2222222222222222,
           "#3e4989"
          ],
          [
           0.3333333333333333,
           "#31688e"
          ],
          [
           0.4444444444444444,
           "#26828e"
          ],
          [
           0.5555555555555556,
           "#1f9e89"
          ],
          [
           0.6666666666666666,
           "#35b779"
          ],
          [
           0.7777777777777778,
           "#6ece58"
          ],
          [
           0.8888888888888888,
           "#b5de2b"
          ],
          [
           1,
           "#fde725"
          ]
         ]
        },
        "height": 1000,
        "legend": {
         "tracegroupgap": 0
        },
        "template": {
         "data": {
          "bar": [
           {
            "error_x": {
             "color": "#2a3f5f"
            },
            "error_y": {
             "color": "#2a3f5f"
            },
            "marker": {
             "line": {
              "color": "#E5ECF6",
              "width": 0.5
             },
             "pattern": {
              "fillmode": "overlay",
              "size": 10,
              "solidity": 0.2
             }
            },
            "type": "bar"
           }
          ],
          "barpolar": [
           {
            "marker": {
             "line": {
              "color": "#E5ECF6",
              "width": 0.5
             },
             "pattern": {
              "fillmode": "overlay",
              "size": 10,
              "solidity": 0.2
             }
            },
            "type": "barpolar"
           }
          ],
          "carpet": [
           {
            "aaxis": {
             "endlinecolor": "#2a3f5f",
             "gridcolor": "white",
             "linecolor": "white",
             "minorgridcolor": "white",
             "startlinecolor": "#2a3f5f"
            },
            "baxis": {
             "endlinecolor": "#2a3f5f",
             "gridcolor": "white",
             "linecolor": "white",
             "minorgridcolor": "white",
             "startlinecolor": "#2a3f5f"
            },
            "type": "carpet"
           }
          ],
          "choropleth": [
           {
            "colorbar": {
             "outlinewidth": 0,
             "ticks": ""
            },
            "type": "choropleth"
           }
          ],
          "contour": [
           {
            "colorbar": {
             "outlinewidth": 0,
             "ticks": ""
            },
            "colorscale": [
             [
              0,
              "#0d0887"
             ],
             [
              0.1111111111111111,
              "#46039f"
             ],
             [
              0.2222222222222222,
              "#7201a8"
             ],
             [
              0.3333333333333333,
              "#9c179e"
             ],
             [
              0.4444444444444444,
              "#bd3786"
             ],
             [
              0.5555555555555556,
              "#d8576b"
             ],
             [
              0.6666666666666666,
              "#ed7953"
             ],
             [
              0.7777777777777778,
              "#fb9f3a"
             ],
             [
              0.8888888888888888,
              "#fdca26"
             ],
             [
              1,
              "#f0f921"
             ]
            ],
            "type": "contour"
           }
          ],
          "contourcarpet": [
           {
            "colorbar": {
             "outlinewidth": 0,
             "ticks": ""
            },
            "type": "contourcarpet"
           }
          ],
          "heatmap": [
           {
            "colorbar": {
             "outlinewidth": 0,
             "ticks": ""
            },
            "colorscale": [
             [
              0,
              "#0d0887"
             ],
             [
              0.1111111111111111,
              "#46039f"
             ],
             [
              0.2222222222222222,
              "#7201a8"
             ],
             [
              0.3333333333333333,
              "#9c179e"
             ],
             [
              0.4444444444444444,
              "#bd3786"
             ],
             [
              0.5555555555555556,
              "#d8576b"
             ],
             [
              0.6666666666666666,
              "#ed7953"
             ],
             [
              0.7777777777777778,
              "#fb9f3a"
             ],
             [
              0.8888888888888888,
              "#fdca26"
             ],
             [
              1,
              "#f0f921"
             ]
            ],
            "type": "heatmap"
           }
          ],
          "heatmapgl": [
           {
            "colorbar": {
             "outlinewidth": 0,
             "ticks": ""
            },
            "colorscale": [
             [
              0,
              "#0d0887"
             ],
             [
              0.1111111111111111,
              "#46039f"
             ],
             [
              0.2222222222222222,
              "#7201a8"
             ],
             [
              0.3333333333333333,
              "#9c179e"
             ],
             [
              0.4444444444444444,
              "#bd3786"
             ],
             [
              0.5555555555555556,
              "#d8576b"
             ],
             [
              0.6666666666666666,
              "#ed7953"
             ],
             [
              0.7777777777777778,
              "#fb9f3a"
             ],
             [
              0.8888888888888888,
              "#fdca26"
             ],
             [
              1,
              "#f0f921"
             ]
            ],
            "type": "heatmapgl"
           }
          ],
          "histogram": [
           {
            "marker": {
             "pattern": {
              "fillmode": "overlay",
              "size": 10,
              "solidity": 0.2
             }
            },
            "type": "histogram"
           }
          ],
          "histogram2d": [
           {
            "colorbar": {
             "outlinewidth": 0,
             "ticks": ""
            },
            "colorscale": [
             [
              0,
              "#0d0887"
             ],
             [
              0.1111111111111111,
              "#46039f"
             ],
             [
              0.2222222222222222,
              "#7201a8"
             ],
             [
              0.3333333333333333,
              "#9c179e"
             ],
             [
              0.4444444444444444,
              "#bd3786"
             ],
             [
              0.5555555555555556,
              "#d8576b"
             ],
             [
              0.6666666666666666,
              "#ed7953"
             ],
             [
              0.7777777777777778,
              "#fb9f3a"
             ],
             [
              0.8888888888888888,
              "#fdca26"
             ],
             [
              1,
              "#f0f921"
             ]
            ],
            "type": "histogram2d"
           }
          ],
          "histogram2dcontour": [
           {
            "colorbar": {
             "outlinewidth": 0,
             "ticks": ""
            },
            "colorscale": [
             [
              0,
              "#0d0887"
             ],
             [
              0.1111111111111111,
              "#46039f"
             ],
             [
              0.2222222222222222,
              "#7201a8"
             ],
             [
              0.3333333333333333,
              "#9c179e"
             ],
             [
              0.4444444444444444,
              "#bd3786"
             ],
             [
              0.5555555555555556,
              "#d8576b"
             ],
             [
              0.6666666666666666,
              "#ed7953"
             ],
             [
              0.7777777777777778,
              "#fb9f3a"
             ],
             [
              0.8888888888888888,
              "#fdca26"
             ],
             [
              1,
              "#f0f921"
             ]
            ],
            "type": "histogram2dcontour"
           }
          ],
          "mesh3d": [
           {
            "colorbar": {
             "outlinewidth": 0,
             "ticks": ""
            },
            "type": "mesh3d"
           }
          ],
          "parcoords": [
           {
            "line": {
             "colorbar": {
              "outlinewidth": 0,
              "ticks": ""
             }
            },
            "type": "parcoords"
           }
          ],
          "pie": [
           {
            "automargin": true,
            "type": "pie"
           }
          ],
          "scatter": [
           {
            "fillpattern": {
             "fillmode": "overlay",
             "size": 10,
             "solidity": 0.2
            },
            "type": "scatter"
           }
          ],
          "scatter3d": [
           {
            "line": {
             "colorbar": {
              "outlinewidth": 0,
              "ticks": ""
             }
            },
            "marker": {
             "colorbar": {
              "outlinewidth": 0,
              "ticks": ""
             }
            },
            "type": "scatter3d"
           }
          ],
          "scattercarpet": [
           {
            "marker": {
             "colorbar": {
              "outlinewidth": 0,
              "ticks": ""
             }
            },
            "type": "scattercarpet"
           }
          ],
          "scattergeo": [
           {
            "marker": {
             "colorbar": {
              "outlinewidth": 0,
              "ticks": ""
             }
            },
            "type": "scattergeo"
           }
          ],
          "scattergl": [
           {
            "marker": {
             "colorbar": {
              "outlinewidth": 0,
              "ticks": ""
             }
            },
            "type": "scattergl"
           }
          ],
          "scattermapbox": [
           {
            "marker": {
             "colorbar": {
              "outlinewidth": 0,
              "ticks": ""
             }
            },
            "type": "scattermapbox"
           }
          ],
          "scatterpolar": [
           {
            "marker": {
             "colorbar": {
              "outlinewidth": 0,
              "ticks": ""
             }
            },
            "type": "scatterpolar"
           }
          ],
          "scatterpolargl": [
           {
            "marker": {
             "colorbar": {
              "outlinewidth": 0,
              "ticks": ""
             }
            },
            "type": "scatterpolargl"
           }
          ],
          "scatterternary": [
           {
            "marker": {
             "colorbar": {
              "outlinewidth": 0,
              "ticks": ""
             }
            },
            "type": "scatterternary"
           }
          ],
          "surface": [
           {
            "colorbar": {
             "outlinewidth": 0,
             "ticks": ""
            },
            "colorscale": [
             [
              0,
              "#0d0887"
             ],
             [
              0.1111111111111111,
              "#46039f"
             ],
             [
              0.2222222222222222,
              "#7201a8"
             ],
             [
              0.3333333333333333,
              "#9c179e"
             ],
             [
              0.4444444444444444,
              "#bd3786"
             ],
             [
              0.5555555555555556,
              "#d8576b"
             ],
             [
              0.6666666666666666,
              "#ed7953"
             ],
             [
              0.7777777777777778,
              "#fb9f3a"
             ],
             [
              0.8888888888888888,
              "#fdca26"
             ],
             [
              1,
              "#f0f921"
             ]
            ],
            "type": "surface"
           }
          ],
          "table": [
           {
            "cells": {
             "fill": {
              "color": "#EBF0F8"
             },
             "line": {
              "color": "white"
             }
            },
            "header": {
             "fill": {
              "color": "#C8D4E3"
             },
             "line": {
              "color": "white"
             }
            },
            "type": "table"
           }
          ]
         },
         "layout": {
          "annotationdefaults": {
           "arrowcolor": "#2a3f5f",
           "arrowhead": 0,
           "arrowwidth": 1
          },
          "autotypenumbers": "strict",
          "coloraxis": {
           "colorbar": {
            "outlinewidth": 0,
            "ticks": ""
           }
          },
          "colorscale": {
           "diverging": [
            [
             0,
             "#8e0152"
            ],
            [
             0.1,
             "#c51b7d"
            ],
            [
             0.2,
             "#de77ae"
            ],
            [
             0.3,
             "#f1b6da"
            ],
            [
             0.4,
             "#fde0ef"
            ],
            [
             0.5,
             "#f7f7f7"
            ],
            [
             0.6,
             "#e6f5d0"
            ],
            [
             0.7,
             "#b8e186"
            ],
            [
             0.8,
             "#7fbc41"
            ],
            [
             0.9,
             "#4d9221"
            ],
            [
             1,
             "#276419"
            ]
           ],
           "sequential": [
            [
             0,
             "#0d0887"
            ],
            [
             0.1111111111111111,
             "#46039f"
            ],
            [
             0.2222222222222222,
             "#7201a8"
            ],
            [
             0.3333333333333333,
             "#9c179e"
            ],
            [
             0.4444444444444444,
             "#bd3786"
            ],
            [
             0.5555555555555556,
             "#d8576b"
            ],
            [
             0.6666666666666666,
             "#ed7953"
            ],
            [
             0.7777777777777778,
             "#fb9f3a"
            ],
            [
             0.8888888888888888,
             "#fdca26"
            ],
            [
             1,
             "#f0f921"
            ]
           ],
           "sequentialminus": [
            [
             0,
             "#0d0887"
            ],
            [
             0.1111111111111111,
             "#46039f"
            ],
            [
             0.2222222222222222,
             "#7201a8"
            ],
            [
             0.3333333333333333,
             "#9c179e"
            ],
            [
             0.4444444444444444,
             "#bd3786"
            ],
            [
             0.5555555555555556,
             "#d8576b"
            ],
            [
             0.6666666666666666,
             "#ed7953"
            ],
            [
             0.7777777777777778,
             "#fb9f3a"
            ],
            [
             0.8888888888888888,
             "#fdca26"
            ],
            [
             1,
             "#f0f921"
            ]
           ]
          },
          "colorway": [
           "#636efa",
           "#EF553B",
           "#00cc96",
           "#ab63fa",
           "#FFA15A",
           "#19d3f3",
           "#FF6692",
           "#B6E880",
           "#FF97FF",
           "#FECB52"
          ],
          "font": {
           "color": "#2a3f5f"
          },
          "geo": {
           "bgcolor": "white",
           "lakecolor": "white",
           "landcolor": "#E5ECF6",
           "showlakes": true,
           "showland": true,
           "subunitcolor": "white"
          },
          "hoverlabel": {
           "align": "left"
          },
          "hovermode": "closest",
          "mapbox": {
           "style": "light"
          },
          "paper_bgcolor": "white",
          "plot_bgcolor": "#E5ECF6",
          "polar": {
           "angularaxis": {
            "gridcolor": "white",
            "linecolor": "white",
            "ticks": ""
           },
           "bgcolor": "#E5ECF6",
           "radialaxis": {
            "gridcolor": "white",
            "linecolor": "white",
            "ticks": ""
           }
          },
          "scene": {
           "xaxis": {
            "backgroundcolor": "#E5ECF6",
            "gridcolor": "white",
            "gridwidth": 2,
            "linecolor": "white",
            "showbackground": true,
            "ticks": "",
            "zerolinecolor": "white"
           },
           "yaxis": {
            "backgroundcolor": "#E5ECF6",
            "gridcolor": "white",
            "gridwidth": 2,
            "linecolor": "white",
            "showbackground": true,
            "ticks": "",
            "zerolinecolor": "white"
           },
           "zaxis": {
            "backgroundcolor": "#E5ECF6",
            "gridcolor": "white",
            "gridwidth": 2,
            "linecolor": "white",
            "showbackground": true,
            "ticks": "",
            "zerolinecolor": "white"
           }
          },
          "shapedefaults": {
           "line": {
            "color": "#2a3f5f"
           }
          },
          "ternary": {
           "aaxis": {
            "gridcolor": "white",
            "linecolor": "white",
            "ticks": ""
           },
           "baxis": {
            "gridcolor": "white",
            "linecolor": "white",
            "ticks": ""
           },
           "bgcolor": "#E5ECF6",
           "caxis": {
            "gridcolor": "white",
            "linecolor": "white",
            "ticks": ""
           }
          },
          "title": {
           "x": 0.05
          },
          "xaxis": {
           "automargin": true,
           "gridcolor": "white",
           "linecolor": "white",
           "ticks": "",
           "title": {
            "standoff": 15
           },
           "zerolinecolor": "white",
           "zerolinewidth": 2
          },
          "yaxis": {
           "automargin": true,
           "gridcolor": "white",
           "linecolor": "white",
           "ticks": "",
           "title": {
            "standoff": 15
           },
           "zerolinecolor": "white",
           "zerolinewidth": 2
          }
         }
        },
        "title": {
         "text": "Text Clustering Visualization (DBSCAN + t-SNE)"
        },
        "width": 1000,
        "xaxis": {
         "anchor": "y",
         "domain": [
          0,
          1
         ],
         "title": {
          "text": "t-SNE Component 1"
         }
        },
        "yaxis": {
         "anchor": "x",
         "domain": [
          0,
          1
         ],
         "title": {
          "text": "t-SNE Component 2"
         }
        }
       }
      }
     },
     "metadata": {},
     "output_type": "display_data"
    }
   ],
   "source": [
    "df['tsne1'] = reduced_features_tsne[:, 0]\n",
    "df['tsne2'] = reduced_features_tsne[:, 1]\n",
    "\n",
    "# Create a scatter plot with hover text\n",
    "fig = px.scatter(df, x='tsne1', y='tsne2', color='cluster',\n",
    "                 title='Text Clustering Visualization (DBSCAN + t-SNE)',\n",
    "                 labels={'tsne1': 't-SNE Component 1', 'tsne2': 't-SNE Component 2'},\n",
    "                 template='plotly', color_continuous_scale='viridis',\n",
    "                 hover_name=df['text'], hover_data=['cluster'],\n",
    "                width=1000, height=1000)\n",
    "\n",
    "# Customize the hover text\n",
    "fig.update_traces(textposition='top center')\n",
    "\n",
    "# Show the interactive plot\n",
    "fig.show()"
   ]
  },
  {
   "cell_type": "code",
   "execution_count": 10,
   "metadata": {},
   "outputs": [
    {
     "data": {
      "application/vnd.plotly.v1+json": {
       "config": {
        "plotlyServerURL": "https://plot.ly"
       },
       "data": [
        {
         "marker": {
          "color": 0,
          "line": {
           "color": "black",
           "width": 2
          },
          "size": 10
         },
         "mode": "markers",
         "name": "Cluster 0",
         "text": [
          "Ладно",
          "Ладно",
          "ладно у него сам спрошу",
          "Ладно я точно теперь спать бб",
          "ладно бб",
          "Все бб",
          "Ладно",
          "тогда бб",
          "тогда еще ладно"
         ],
         "type": "scatter",
         "x": [
          57.04475402832031,
          58.71974182128906,
          52.38130187988281,
          -126.37293243408203,
          -127.59471893310547,
          -128.75814819335938,
          57.04475402832031,
          -128.75814819335938,
          57.04475402832031
         ],
         "y": [
          -112.66692352294922,
          -108.93199157714844,
          -108.30378723144531,
          35.04294204711914,
          38.64978790283203,
          43.420284271240234,
          -112.66692352294922,
          43.420284271240234,
          -112.66692352294922
         ]
        },
        {
         "marker": {
          "color": 1,
          "line": {
           "color": "black",
           "width": 2
          },
          "size": 10
         },
         "mode": "markers",
         "name": "Cluster 1",
         "text": [
          "Хорошо",
          "Как",
          "А не",
          "Ты где ?",
          "Что то",
          "Да все не надо",
          "Ну ничего",
          "Да",
          "Так",
          "Но все потом да потом",
          "+",
          "да",
          "Ты о чем",
          "Так что можно",
          "я x1/5",
          "да",
          "Или как",
          "можно",
          "А",
          "1000",
          "Не",
          "и как ?",
          "я в 11",
          "Да",
          "У меня так",
          "Ну все",
          "12к",
          "Да",
          ".",
          "😬",
          "я об этом же",
          "+",
          "о",
          "и еще лучше будет",
          "да",
          "а",
          "У меня так теперь",
          "И что там?",
          "А",
          "...",
          "Да уж",
          "А была 4 про",
          "Да",
          "(((((",
          "так не",
          "конечно",
          "да",
          "или как ?",
          "во",
          "???",
          "да уж",
          "ну еще бы",
          "ну да +-",
          "У меня тоже все",
          "Что тоже так себе",
          "Ты сам где сейчас?",
          "А ты где сейчас",
          "Все тогда"
         ],
         "type": "scatter",
         "x": [
          -1.2844687700271606,
          -1.2844687700271606,
          -1.2844687700271606,
          -1.2844687700271606,
          -1.2844687700271606,
          -1.2844687700271606,
          -1.2844687700271606,
          -1.2844687700271606,
          -1.2844687700271606,
          -1.2844687700271606,
          -1.2844687700271606,
          -1.2844687700271606,
          -1.2844687700271606,
          -1.2844687700271606,
          -1.2844687700271606,
          -1.2844687700271606,
          -1.2844687700271606,
          -1.2844687700271606,
          -1.2844687700271606,
          -1.2844687700271606,
          -1.2844687700271606,
          -1.2844687700271606,
          -1.2844687700271606,
          -1.2844687700271606,
          -1.2844687700271606,
          -1.2844687700271606,
          -1.2844687700271606,
          -1.2844687700271606,
          -1.2844687700271606,
          -1.2844687700271606,
          -1.2844687700271606,
          -1.2844687700271606,
          -1.2844687700271606,
          -1.2844687700271606,
          -1.2844687700271606,
          -1.2844687700271606,
          -1.2844687700271606,
          -1.2844687700271606,
          -1.2844687700271606,
          -1.2844687700271606,
          -1.2844687700271606,
          -1.2844687700271606,
          -1.2844687700271606,
          -1.2844687700271606,
          -1.2844687700271606,
          -1.2844687700271606,
          -1.2844687700271606,
          -1.2844687700271606,
          -1.2844687700271606,
          -1.2844687700271606,
          -1.2844687700271606,
          -1.2844687700271606,
          -1.2844687700271606,
          -1.2844687700271606,
          -1.2844687700271606,
          -1.2844687700271606,
          -1.2844687700271606,
          -1.2844687700271606
         ],
         "y": [
          5.539652347564697,
          5.539652347564697,
          5.539652347564697,
          5.539652347564697,
          5.539652347564697,
          5.539652347564697,
          5.539652347564697,
          5.539652347564697,
          5.539652347564697,
          5.539652347564697,
          5.539652347564697,
          5.539652347564697,
          5.539652347564697,
          5.539652347564697,
          5.539652347564697,
          5.539652347564697,
          5.539652347564697,
          5.539652347564697,
          5.539652347564697,
          5.539652347564697,
          5.539652347564697,
          5.539652347564697,
          5.539652347564697,
          5.539652347564697,
          5.539652347564697,
          5.539652347564697,
          5.539652347564697,
          5.539652347564697,
          5.539652347564697,
          5.539652347564697,
          5.539652347564697,
          5.539652347564697,
          5.539652347564697,
          5.539652347564697,
          5.539652347564697,
          5.539652347564697,
          5.539652347564697,
          5.539652347564697,
          5.539652347564697,
          5.539652347564697,
          5.539652347564697,
          5.539652347564697,
          5.539652347564697,
          5.539652347564697,
          5.539652347564697,
          5.539652347564697,
          5.539652347564697,
          5.539652347564697,
          5.539652347564697,
          5.539652347564697,
          5.539652347564697,
          5.539652347564697,
          5.539652347564697,
          5.539652347564697,
          5.539652347564697,
          5.539652347564697,
          5.539652347564697,
          5.539652347564697
         ]
        },
        {
         "marker": {
          "color": 2,
          "line": {
           "color": "black",
           "width": 2
          },
          "size": 10
         },
         "mode": "markers",
         "name": "Cluster 2",
         "text": [
          "Ага",
          "Ага",
          "Так и сделаю хаха",
          "ага",
          "Ага",
          "Хаха ну да",
          "Ага",
          "ты тоже можешь хаха",
          "Ага",
          "ага",
          "ага",
          "хаха",
          "Ага хаха",
          "ага",
          "хаха",
          "Ага"
         ],
         "type": "scatter",
         "x": [
          122.30614471435547,
          128.31527709960938,
          119.50251770019531,
          128.31527709960938,
          128.31527709960938,
          113.71311950683594,
          128.31527709960938,
          109.1982192993164,
          128.31527709960938,
          128.31527709960938,
          128.31527709960938,
          113.71311950683594,
          124.5239486694336,
          128.31527709960938,
          113.71311950683594,
          128.31527709960938
         ],
         "y": [
          30.185516357421875,
          29.42545509338379,
          2.2468671798706055,
          29.42545509338379,
          29.42545509338379,
          3.8039214611053467,
          29.42545509338379,
          7.680585861206055,
          29.42545509338379,
          29.42545509338379,
          29.42545509338379,
          3.8039214611053467,
          21.974374771118164,
          29.42545509338379,
          3.8039214611053467,
          29.42545509338379
         ]
        },
        {
         "marker": {
          "color": 3,
          "line": {
           "color": "black",
           "width": 2
          },
          "size": 10
         },
         "mode": "markers",
         "name": "Cluster 3",
         "text": [
          "Окей",
          "Окей",
          "Окей",
          "Окей",
          "Окей",
          "Давай фокус",
          "давай",
          "давай",
          "давай",
          "Не, давай сегодня скип",
          "Окей",
          "Давай",
          "Окей, давай"
         ],
         "type": "scatter",
         "x": [
          -119.18719482421875,
          -120.74919128417969,
          -115.9372787475586,
          -120.74919128417969,
          -120.74919128417969,
          -135.36630249023438,
          -135.6012725830078,
          -135.6012725830078,
          -135.6012725830078,
          -141.37872314453125,
          -120.74919128417969,
          -135.6012725830078,
          -127.93289184570312
         ],
         "y": [
          -9.204367637634277,
          -13.928131103515625,
          -12.817179679870605,
          -13.928131103515625,
          -13.928131103515625,
          4.316483020782471,
          -2.1738874912261963,
          -2.1738874912261963,
          -2.1738874912261963,
          -5.46672248840332,
          -13.928131103515625,
          -2.1738874912261963,
          -7.603541374206543
         ]
        },
        {
         "marker": {
          "color": 4,
          "line": {
           "color": "black",
           "width": 2
          },
          "size": 10
         },
         "mode": "markers",
         "name": "Cluster 4",
         "text": [
          "Апхапхап, бывает",
          "Бывает",
          "бывает",
          "бывает",
          "Апхапхап",
          "Апхапхап",
          "да бывает"
         ],
         "type": "scatter",
         "x": [
          -44.07358169555664,
          -52.43062973022461,
          -52.43062973022461,
          -52.43062973022461,
          -38.07612609863281,
          -38.07612609863281,
          -52.43062973022461
         ],
         "y": [
          -126.46737670898438,
          -124.0143051147461,
          -124.0143051147461,
          -124.0143051147461,
          -127.91266632080078,
          -127.91266632080078,
          -124.0143051147461
         ]
        },
        {
         "marker": {
          "color": 11,
          "line": {
           "color": "black",
           "width": 2
          },
          "size": 10
         },
         "mode": "markers",
         "name": "Cluster 11",
         "text": [
          "ааа понял",
          "Ну седня я хоть чето понял",
          "понял принял",
          "понял",
          "понял"
         ],
         "type": "scatter",
         "x": [
          32.890167236328125,
          19.85074234008789,
          22.703598022460938,
          23.480329513549805,
          23.480329513549805
         ],
         "y": [
          -104.06375885009766,
          -107.63304901123047,
          -98.04170227050781,
          -103.1632080078125,
          -103.1632080078125
         ]
        },
        {
         "marker": {
          "color": 5,
          "line": {
           "color": "black",
           "width": 2
          },
          "size": 10
         },
         "mode": "markers",
         "name": "Cluster 5",
         "text": [
          "Да факты",
          "Да бро",
          "Завтра разберу бро",
          "Факты",
          "бро тут только факты",
          "обращайся бро",
          "факты",
          "Спасибо бро",
          "да факты",
          "я тоже бро"
         ],
         "type": "scatter",
         "x": [
          -77.6222152709961,
          -60.439788818359375,
          -44.84256362915039,
          -77.6222152709961,
          -71.57160186767578,
          -57.258148193359375,
          -77.6222152709961,
          -61.08039474487305,
          -77.6222152709961,
          -60.439788818359375
         ],
         "y": [
          -104.36605834960938,
          -97.42435455322266,
          -100.0232162475586,
          -104.36605834960938,
          -102.01333618164062,
          -101.32923126220703,
          -104.36605834960938,
          -87.77921295166016,
          -104.36605834960938,
          -97.42435455322266
         ]
        },
        {
         "marker": {
          "color": 13,
          "line": {
           "color": "black",
           "width": 2
          },
          "size": 10
         },
         "mode": "markers",
         "name": "Cluster 13",
         "text": [
          "Блин вроде гтд",
          "там вроде 3 части да ?",
          "ты же вроде кидал мне",
          "она вроде отноразовая",
          "50к вроде",
          "Рабочая даже вроде"
         ],
         "type": "scatter",
         "x": [
          39.964134216308594,
          31.20694351196289,
          33.34134292602539,
          38.365875244140625,
          35.777442932128906,
          38.365875244140625
         ],
         "y": [
          -78.1734848022461,
          -84.54219818115234,
          -78.6268310546875,
          -85.63988494873047,
          -82.5059814453125,
          -85.63988494873047
         ]
        },
        {
         "marker": {
          "color": 10,
          "line": {
           "color": "black",
           "width": 2
          },
          "size": 10
         },
         "mode": "markers",
         "name": "Cluster 10",
         "text": [
          "А пока что голова кипит все равно",
          "то голова кипит и тильт какой-то",
          "тильт",
          "Опять тильт",
          "Тильт"
         ],
         "type": "scatter",
         "x": [
          1.4408081769943237,
          0.6912740468978882,
          -2.3035502433776855,
          -2.3035502433776855,
          -2.3035502433776855
         ],
         "y": [
          -110.38880920410156,
          -107.58602905273438,
          -97.36428833007812,
          -97.36428833007812,
          -97.36428833007812
         ]
        },
        {
         "marker": {
          "color": 6,
          "line": {
           "color": "black",
           "width": 2
          },
          "size": 10
         },
         "mode": "markers",
         "name": "Cluster 6",
         "text": [
          "Я спать",
          "Я спать",
          "спать",
          "Да я спать уже",
          "Ладно, погнал я спать.",
          "и спать",
          "пошел я спать"
         ],
         "type": "scatter",
         "x": [
          -112.08689880371094,
          -112.08689880371094,
          -112.08689880371094,
          -112.08689880371094,
          -116.93206787109375,
          -112.08689880371094,
          -107.3541259765625
         ],
         "y": [
          19.15638542175293,
          19.15638542175293,
          19.15638542175293,
          19.15638542175293,
          23.86601448059082,
          19.15638542175293,
          13.7311429977417
         ]
        },
        {
         "marker": {
          "color": 7,
          "line": {
           "color": "black",
           "width": 2
          },
          "size": 10
         },
         "mode": "markers",
         "name": "Cluster 7",
         "text": [
          "Хахахаха",
          "Хахахаха",
          "Хахахаха",
          "хахахаха",
          "Хахахаха"
         ],
         "type": "scatter",
         "x": [
          120.52466583251953,
          120.52466583251953,
          120.52466583251953,
          120.52466583251953,
          120.52466583251953
         ],
         "y": [
          -34.98488235473633,
          -34.98488235473633,
          -34.98488235473633,
          -34.98488235473633,
          -34.98488235473633
         ]
        },
        {
         "marker": {
          "color": 8,
          "line": {
           "color": "black",
           "width": 2
          },
          "size": 10
         },
         "mode": "markers",
         "name": "Cluster 8",
         "text": [
          "Не не не завтра опять в 10",
          "Тогда мы как завтра",
          "У меня завтра будет свободно",
          "Завтра с утра гтд",
          "мне завтра в 6 вставать...",
          "Завтра в 15?"
         ],
         "type": "scatter",
         "x": [
          -24.362289428710938,
          -24.362289428710938,
          -19.195709228515625,
          -30.139236450195312,
          -23.1252498626709,
          -24.362289428710938
         ],
         "y": [
          -108.342041015625,
          -108.342041015625,
          -112.43021392822266,
          -110.37033081054688,
          -102.41100311279297,
          -108.342041015625
         ]
        },
        {
         "marker": {
          "color": 9,
          "line": {
           "color": "black",
           "width": 2
          },
          "size": 10
         },
         "mode": "markers",
         "name": "Cluster 9",
         "text": [
          "Это ?",
          "Это на пк",
          "или ты не про это говорил ?",
          "только это",
          "Не просто много",
          "это просто +репутация",
          "Я потому и говорил про пс 5",
          "Ну это когда будет",
          "Что это",
          "Да не, это не то"
         ],
         "type": "scatter",
         "x": [
          -70.73223876953125,
          -77.76409149169922,
          -68.73811340332031,
          -70.73223876953125,
          -61.58003234863281,
          -63.66139602661133,
          -68.06381225585938,
          -70.73223876953125,
          -70.73223876953125,
          -70.73223876953125
         ],
         "y": [
          113.28524017333984,
          113.8141098022461,
          99.71221160888672,
          113.28524017333984,
          123.55290985107422,
          121.37296295166016,
          94.79069519042969,
          113.28524017333984,
          113.28524017333984,
          113.28524017333984
         ]
        },
        {
         "marker": {
          "color": 12,
          "line": {
           "color": "black",
           "width": 2
          },
          "size": 10
         },
         "mode": "markers",
         "name": "Cluster 12",
         "text": [
          "Нихуя ты",
          "Нихуя",
          "Нихуя",
          "Нихуя",
          "нихуя",
          "Нихуя"
         ],
         "type": "scatter",
         "x": [
          -120.19203186035156,
          -120.19203186035156,
          -120.19203186035156,
          -120.19203186035156,
          -120.19203186035156,
          -120.19203186035156
         ],
         "y": [
          -49.405826568603516,
          -49.405826568603516,
          -49.405826568603516,
          -49.405826568603516,
          -49.405826568603516,
          -49.405826568603516
         ]
        },
        {
         "marker": {
          "color": 14,
          "line": {
           "color": "black",
           "width": 2
          },
          "size": 10
         },
         "mode": "markers",
         "name": "Cluster 14",
         "text": [
          "https://prostopay.online",
          "https://vk.com/reu_ds_club",
          "https://play.google.com/store/apps/details?id=in.rizee.mylearningplus",
          "https://habr.com/ru/articles/511446/",
          "https://youtu.be/HOhoft6HHi8?si=c4zPijOomsnSZREL",
          "https://youtu.be/FUPOFgDJm38?si=yQPwKclQI67PhaPW"
         ],
         "type": "scatter",
         "x": [
          -120.19203186035156,
          -120.19203186035156,
          -120.19203186035156,
          -120.19203186035156,
          -120.19203186035156,
          -120.19203186035156
         ],
         "y": [
          -49.405826568603516,
          -49.405826568603516,
          -49.405826568603516,
          -49.405826568603516,
          -49.405826568603516,
          -49.405826568603516
         ]
        }
       ],
       "layout": {
        "height": 900,
        "hoverlabel": {
         "bgcolor": "white",
         "font": {
          "size": 12
         },
         "namelength": -1
        },
        "legend": {
         "orientation": "h",
         "title": {
          "text": "Clusters"
         },
         "x": 0.01,
         "xanchor": "left",
         "y": 1.02,
         "yanchor": "bottom"
        },
        "template": {
         "data": {
          "bar": [
           {
            "error_x": {
             "color": "#2a3f5f"
            },
            "error_y": {
             "color": "#2a3f5f"
            },
            "marker": {
             "line": {
              "color": "#E5ECF6",
              "width": 0.5
             },
             "pattern": {
              "fillmode": "overlay",
              "size": 10,
              "solidity": 0.2
             }
            },
            "type": "bar"
           }
          ],
          "barpolar": [
           {
            "marker": {
             "line": {
              "color": "#E5ECF6",
              "width": 0.5
             },
             "pattern": {
              "fillmode": "overlay",
              "size": 10,
              "solidity": 0.2
             }
            },
            "type": "barpolar"
           }
          ],
          "carpet": [
           {
            "aaxis": {
             "endlinecolor": "#2a3f5f",
             "gridcolor": "white",
             "linecolor": "white",
             "minorgridcolor": "white",
             "startlinecolor": "#2a3f5f"
            },
            "baxis": {
             "endlinecolor": "#2a3f5f",
             "gridcolor": "white",
             "linecolor": "white",
             "minorgridcolor": "white",
             "startlinecolor": "#2a3f5f"
            },
            "type": "carpet"
           }
          ],
          "choropleth": [
           {
            "colorbar": {
             "outlinewidth": 0,
             "ticks": ""
            },
            "type": "choropleth"
           }
          ],
          "contour": [
           {
            "colorbar": {
             "outlinewidth": 0,
             "ticks": ""
            },
            "colorscale": [
             [
              0,
              "#0d0887"
             ],
             [
              0.1111111111111111,
              "#46039f"
             ],
             [
              0.2222222222222222,
              "#7201a8"
             ],
             [
              0.3333333333333333,
              "#9c179e"
             ],
             [
              0.4444444444444444,
              "#bd3786"
             ],
             [
              0.5555555555555556,
              "#d8576b"
             ],
             [
              0.6666666666666666,
              "#ed7953"
             ],
             [
              0.7777777777777778,
              "#fb9f3a"
             ],
             [
              0.8888888888888888,
              "#fdca26"
             ],
             [
              1,
              "#f0f921"
             ]
            ],
            "type": "contour"
           }
          ],
          "contourcarpet": [
           {
            "colorbar": {
             "outlinewidth": 0,
             "ticks": ""
            },
            "type": "contourcarpet"
           }
          ],
          "heatmap": [
           {
            "colorbar": {
             "outlinewidth": 0,
             "ticks": ""
            },
            "colorscale": [
             [
              0,
              "#0d0887"
             ],
             [
              0.1111111111111111,
              "#46039f"
             ],
             [
              0.2222222222222222,
              "#7201a8"
             ],
             [
              0.3333333333333333,
              "#9c179e"
             ],
             [
              0.4444444444444444,
              "#bd3786"
             ],
             [
              0.5555555555555556,
              "#d8576b"
             ],
             [
              0.6666666666666666,
              "#ed7953"
             ],
             [
              0.7777777777777778,
              "#fb9f3a"
             ],
             [
              0.8888888888888888,
              "#fdca26"
             ],
             [
              1,
              "#f0f921"
             ]
            ],
            "type": "heatmap"
           }
          ],
          "heatmapgl": [
           {
            "colorbar": {
             "outlinewidth": 0,
             "ticks": ""
            },
            "colorscale": [
             [
              0,
              "#0d0887"
             ],
             [
              0.1111111111111111,
              "#46039f"
             ],
             [
              0.2222222222222222,
              "#7201a8"
             ],
             [
              0.3333333333333333,
              "#9c179e"
             ],
             [
              0.4444444444444444,
              "#bd3786"
             ],
             [
              0.5555555555555556,
              "#d8576b"
             ],
             [
              0.6666666666666666,
              "#ed7953"
             ],
             [
              0.7777777777777778,
              "#fb9f3a"
             ],
             [
              0.8888888888888888,
              "#fdca26"
             ],
             [
              1,
              "#f0f921"
             ]
            ],
            "type": "heatmapgl"
           }
          ],
          "histogram": [
           {
            "marker": {
             "pattern": {
              "fillmode": "overlay",
              "size": 10,
              "solidity": 0.2
             }
            },
            "type": "histogram"
           }
          ],
          "histogram2d": [
           {
            "colorbar": {
             "outlinewidth": 0,
             "ticks": ""
            },
            "colorscale": [
             [
              0,
              "#0d0887"
             ],
             [
              0.1111111111111111,
              "#46039f"
             ],
             [
              0.2222222222222222,
              "#7201a8"
             ],
             [
              0.3333333333333333,
              "#9c179e"
             ],
             [
              0.4444444444444444,
              "#bd3786"
             ],
             [
              0.5555555555555556,
              "#d8576b"
             ],
             [
              0.6666666666666666,
              "#ed7953"
             ],
             [
              0.7777777777777778,
              "#fb9f3a"
             ],
             [
              0.8888888888888888,
              "#fdca26"
             ],
             [
              1,
              "#f0f921"
             ]
            ],
            "type": "histogram2d"
           }
          ],
          "histogram2dcontour": [
           {
            "colorbar": {
             "outlinewidth": 0,
             "ticks": ""
            },
            "colorscale": [
             [
              0,
              "#0d0887"
             ],
             [
              0.1111111111111111,
              "#46039f"
             ],
             [
              0.2222222222222222,
              "#7201a8"
             ],
             [
              0.3333333333333333,
              "#9c179e"
             ],
             [
              0.4444444444444444,
              "#bd3786"
             ],
             [
              0.5555555555555556,
              "#d8576b"
             ],
             [
              0.6666666666666666,
              "#ed7953"
             ],
             [
              0.7777777777777778,
              "#fb9f3a"
             ],
             [
              0.8888888888888888,
              "#fdca26"
             ],
             [
              1,
              "#f0f921"
             ]
            ],
            "type": "histogram2dcontour"
           }
          ],
          "mesh3d": [
           {
            "colorbar": {
             "outlinewidth": 0,
             "ticks": ""
            },
            "type": "mesh3d"
           }
          ],
          "parcoords": [
           {
            "line": {
             "colorbar": {
              "outlinewidth": 0,
              "ticks": ""
             }
            },
            "type": "parcoords"
           }
          ],
          "pie": [
           {
            "automargin": true,
            "type": "pie"
           }
          ],
          "scatter": [
           {
            "fillpattern": {
             "fillmode": "overlay",
             "size": 10,
             "solidity": 0.2
            },
            "type": "scatter"
           }
          ],
          "scatter3d": [
           {
            "line": {
             "colorbar": {
              "outlinewidth": 0,
              "ticks": ""
             }
            },
            "marker": {
             "colorbar": {
              "outlinewidth": 0,
              "ticks": ""
             }
            },
            "type": "scatter3d"
           }
          ],
          "scattercarpet": [
           {
            "marker": {
             "colorbar": {
              "outlinewidth": 0,
              "ticks": ""
             }
            },
            "type": "scattercarpet"
           }
          ],
          "scattergeo": [
           {
            "marker": {
             "colorbar": {
              "outlinewidth": 0,
              "ticks": ""
             }
            },
            "type": "scattergeo"
           }
          ],
          "scattergl": [
           {
            "marker": {
             "colorbar": {
              "outlinewidth": 0,
              "ticks": ""
             }
            },
            "type": "scattergl"
           }
          ],
          "scattermapbox": [
           {
            "marker": {
             "colorbar": {
              "outlinewidth": 0,
              "ticks": ""
             }
            },
            "type": "scattermapbox"
           }
          ],
          "scatterpolar": [
           {
            "marker": {
             "colorbar": {
              "outlinewidth": 0,
              "ticks": ""
             }
            },
            "type": "scatterpolar"
           }
          ],
          "scatterpolargl": [
           {
            "marker": {
             "colorbar": {
              "outlinewidth": 0,
              "ticks": ""
             }
            },
            "type": "scatterpolargl"
           }
          ],
          "scatterternary": [
           {
            "marker": {
             "colorbar": {
              "outlinewidth": 0,
              "ticks": ""
             }
            },
            "type": "scatterternary"
           }
          ],
          "surface": [
           {
            "colorbar": {
             "outlinewidth": 0,
             "ticks": ""
            },
            "colorscale": [
             [
              0,
              "#0d0887"
             ],
             [
              0.1111111111111111,
              "#46039f"
             ],
             [
              0.2222222222222222,
              "#7201a8"
             ],
             [
              0.3333333333333333,
              "#9c179e"
             ],
             [
              0.4444444444444444,
              "#bd3786"
             ],
             [
              0.5555555555555556,
              "#d8576b"
             ],
             [
              0.6666666666666666,
              "#ed7953"
             ],
             [
              0.7777777777777778,
              "#fb9f3a"
             ],
             [
              0.8888888888888888,
              "#fdca26"
             ],
             [
              1,
              "#f0f921"
             ]
            ],
            "type": "surface"
           }
          ],
          "table": [
           {
            "cells": {
             "fill": {
              "color": "#EBF0F8"
             },
             "line": {
              "color": "white"
             }
            },
            "header": {
             "fill": {
              "color": "#C8D4E3"
             },
             "line": {
              "color": "white"
             }
            },
            "type": "table"
           }
          ]
         },
         "layout": {
          "annotationdefaults": {
           "arrowcolor": "#2a3f5f",
           "arrowhead": 0,
           "arrowwidth": 1
          },
          "autotypenumbers": "strict",
          "coloraxis": {
           "colorbar": {
            "outlinewidth": 0,
            "ticks": ""
           }
          },
          "colorscale": {
           "diverging": [
            [
             0,
             "#8e0152"
            ],
            [
             0.1,
             "#c51b7d"
            ],
            [
             0.2,
             "#de77ae"
            ],
            [
             0.3,
             "#f1b6da"
            ],
            [
             0.4,
             "#fde0ef"
            ],
            [
             0.5,
             "#f7f7f7"
            ],
            [
             0.6,
             "#e6f5d0"
            ],
            [
             0.7,
             "#b8e186"
            ],
            [
             0.8,
             "#7fbc41"
            ],
            [
             0.9,
             "#4d9221"
            ],
            [
             1,
             "#276419"
            ]
           ],
           "sequential": [
            [
             0,
             "#0d0887"
            ],
            [
             0.1111111111111111,
             "#46039f"
            ],
            [
             0.2222222222222222,
             "#7201a8"
            ],
            [
             0.3333333333333333,
             "#9c179e"
            ],
            [
             0.4444444444444444,
             "#bd3786"
            ],
            [
             0.5555555555555556,
             "#d8576b"
            ],
            [
             0.6666666666666666,
             "#ed7953"
            ],
            [
             0.7777777777777778,
             "#fb9f3a"
            ],
            [
             0.8888888888888888,
             "#fdca26"
            ],
            [
             1,
             "#f0f921"
            ]
           ],
           "sequentialminus": [
            [
             0,
             "#0d0887"
            ],
            [
             0.1111111111111111,
             "#46039f"
            ],
            [
             0.2222222222222222,
             "#7201a8"
            ],
            [
             0.3333333333333333,
             "#9c179e"
            ],
            [
             0.4444444444444444,
             "#bd3786"
            ],
            [
             0.5555555555555556,
             "#d8576b"
            ],
            [
             0.6666666666666666,
             "#ed7953"
            ],
            [
             0.7777777777777778,
             "#fb9f3a"
            ],
            [
             0.8888888888888888,
             "#fdca26"
            ],
            [
             1,
             "#f0f921"
            ]
           ]
          },
          "colorway": [
           "#636efa",
           "#EF553B",
           "#00cc96",
           "#ab63fa",
           "#FFA15A",
           "#19d3f3",
           "#FF6692",
           "#B6E880",
           "#FF97FF",
           "#FECB52"
          ],
          "font": {
           "color": "#2a3f5f"
          },
          "geo": {
           "bgcolor": "white",
           "lakecolor": "white",
           "landcolor": "#E5ECF6",
           "showlakes": true,
           "showland": true,
           "subunitcolor": "white"
          },
          "hoverlabel": {
           "align": "left"
          },
          "hovermode": "closest",
          "mapbox": {
           "style": "light"
          },
          "paper_bgcolor": "white",
          "plot_bgcolor": "#E5ECF6",
          "polar": {
           "angularaxis": {
            "gridcolor": "white",
            "linecolor": "white",
            "ticks": ""
           },
           "bgcolor": "#E5ECF6",
           "radialaxis": {
            "gridcolor": "white",
            "linecolor": "white",
            "ticks": ""
           }
          },
          "scene": {
           "xaxis": {
            "backgroundcolor": "#E5ECF6",
            "gridcolor": "white",
            "gridwidth": 2,
            "linecolor": "white",
            "showbackground": true,
            "ticks": "",
            "zerolinecolor": "white"
           },
           "yaxis": {
            "backgroundcolor": "#E5ECF6",
            "gridcolor": "white",
            "gridwidth": 2,
            "linecolor": "white",
            "showbackground": true,
            "ticks": "",
            "zerolinecolor": "white"
           },
           "zaxis": {
            "backgroundcolor": "#E5ECF6",
            "gridcolor": "white",
            "gridwidth": 2,
            "linecolor": "white",
            "showbackground": true,
            "ticks": "",
            "zerolinecolor": "white"
           }
          },
          "shapedefaults": {
           "line": {
            "color": "#2a3f5f"
           }
          },
          "ternary": {
           "aaxis": {
            "gridcolor": "white",
            "linecolor": "white",
            "ticks": ""
           },
           "baxis": {
            "gridcolor": "white",
            "linecolor": "white",
            "ticks": ""
           },
           "bgcolor": "#E5ECF6",
           "caxis": {
            "gridcolor": "white",
            "linecolor": "white",
            "ticks": ""
           }
          },
          "title": {
           "x": 0.05
          },
          "xaxis": {
           "automargin": true,
           "gridcolor": "white",
           "linecolor": "white",
           "ticks": "",
           "title": {
            "standoff": 15
           },
           "zerolinecolor": "white",
           "zerolinewidth": 2
          },
          "yaxis": {
           "automargin": true,
           "gridcolor": "white",
           "linecolor": "white",
           "ticks": "",
           "title": {
            "standoff": 15
           },
           "zerolinecolor": "white",
           "zerolinewidth": 2
          }
         }
        },
        "width": 900,
        "xaxis": {
         "title": {
          "text": "t-SNE Component 1"
         }
        },
        "yaxis": {
         "title": {
          "text": "t-SNE Component 2"
         }
        }
       }
      }
     },
     "metadata": {},
     "output_type": "display_data"
    }
   ],
   "source": [
    "import plotly.graph_objects as go\n",
    "\n",
    "# Assuming 'data' DataFrame with 'cluster' column\n",
    "\n",
    "# Create a scatter plot with hover text and legend using go.Figure\n",
    "fig = go.Figure()\n",
    "\n",
    "for cluster in df['cluster'].unique():\n",
    "    if cluster!=-1:\n",
    "        cluster_data = df[df['cluster'] == cluster]\n",
    "        fig.add_trace(go.Scatter(\n",
    "            x=cluster_data['tsne1'],\n",
    "            y=cluster_data['tsne2'],\n",
    "            mode='markers',\n",
    "            marker=dict(color=cluster, size=10, line=dict(color='black', width=2)),  # Customize marker size and line properties\n",
    "            text=cluster_data['text'],\n",
    "            name=f'Cluster {cluster}'\n",
    "        ))\n",
    "\n",
    "# Customize layout\n",
    "fig.update_layout(\n",
    "    # title='Text Clustering Visualization (DBSCAN + t-SNE)',\n",
    "    xaxis_title='t-SNE Component 1',\n",
    "    yaxis_title='t-SNE Component 2',\n",
    "    legend=dict(title='Clusters', orientation=\"h\", yanchor=\"bottom\", y=1.02, xanchor=\"left\", x=0.01),\n",
    "    hoverlabel=dict(bgcolor=\"white\", font_size=12, namelength=-1),\n",
    "    width=900, height=900\n",
    ")\n",
    "\n",
    "# Show the interactive plot\n",
    "fig.show()\n"
   ]
  },
  {
   "cell_type": "markdown",
   "metadata": {},
   "source": [
    "### Step 6: Watch all clasters text"
   ]
  },
  {
   "cell_type": "code",
   "execution_count": null,
   "metadata": {},
   "outputs": [],
   "source": [
    "df = df.sort_values(by='cluster')"
   ]
  },
  {
   "cell_type": "code",
   "execution_count": null,
   "metadata": {},
   "outputs": [
    {
     "data": {
      "text/plain": [
       "array([-1,  0,  1,  2,  3,  4,  5,  6,  7,  8,  9, 10, 11, 12, 13, 14],\n",
       "      dtype=int64)"
      ]
     },
     "execution_count": 100,
     "metadata": {},
     "output_type": "execute_result"
    }
   ],
   "source": [
    "df['cluster'].unique()"
   ]
  },
  {
   "cell_type": "code",
   "execution_count": null,
   "metadata": {},
   "outputs": [
    {
     "name": "stdout",
     "output_type": "stream",
     "text": [
      "\n",
      "Cluster 0:\n",
      "\n",
      "тогда еще ладно\n",
      "тогда бб\n",
      "Ладно\n",
      "ладно у него сам спрошу\n",
      "ладно бб\n",
      "Все бб\n",
      "Ладно\n",
      "Ладно\n",
      "Ладно я точно теперь спать бб\n",
      "==================================================\n",
      "\n",
      "Cluster 1:\n",
      "\n",
      "+\n",
      "и как ?\n",
      "Как\n",
      "(((((\n",
      ".\n",
      "А не\n",
      "Ну ничего\n",
      "я x1/5\n",
      "А\n",
      "Ты где ?\n",
      "да уж\n",
      "Да\n",
      "да\n",
      "Да все не надо\n",
      "Да уж\n",
      "ну еще бы\n",
      "ну да +-\n",
      "или как ?\n",
      "???\n",
      "Что то\n",
      "Ты о чем\n",
      "во\n",
      "Так что можно\n",
      "Ну все\n",
      "У меня так теперь\n",
      "Все тогда\n",
      "я в 11\n",
      "Так\n",
      "😬\n",
      "да\n",
      "Да\n",
      "да\n",
      "Да\n",
      "Ты сам где сейчас?\n",
      "1000\n",
      "У меня так\n",
      "а\n",
      "У меня тоже все\n",
      "Или как\n",
      "12к\n",
      "конечно\n",
      "...\n",
      "А ты где сейчас\n",
      "я об этом же\n",
      "так не\n",
      "и еще лучше будет\n",
      "+\n",
      "Не\n",
      "Что тоже так себе\n",
      "Но все потом да потом\n",
      "Да\n",
      "А была 4 про\n",
      "А\n",
      "можно\n",
      "Хорошо\n",
      "И что там?\n",
      "о\n",
      "да\n",
      "==================================================\n",
      "\n",
      "Cluster 2:\n",
      "\n",
      "Ага хаха\n",
      "Ага\n",
      "ага\n",
      "хаха\n",
      "ага\n",
      "Ага\n",
      "Ага\n",
      "Ага\n",
      "Ага\n",
      "ага\n",
      "ты тоже можешь хаха\n",
      "Хаха ну да\n",
      "Так и сделаю хаха\n",
      "Ага\n",
      "хаха\n",
      "ага\n",
      "==================================================\n",
      "\n",
      "Cluster 3:\n",
      "\n",
      "Давай фокус\n",
      "Окей\n",
      "давай\n",
      "Окей, давай\n",
      "Окей\n",
      "давай\n",
      "давай\n",
      "Окей\n",
      "Окей\n",
      "Давай\n",
      "Окей\n",
      "Окей\n",
      "Не, давай сегодня скип\n",
      "==================================================\n",
      "\n",
      "Cluster 4:\n",
      "\n",
      "Бывает\n",
      "Апхапхап\n",
      "Апхапхап\n",
      "бывает\n",
      "да бывает\n",
      "бывает\n",
      "Апхапхап, бывает\n",
      "==================================================\n",
      "\n",
      "Cluster 5:\n",
      "\n",
      "Да бро\n",
      "бро тут только факты\n",
      "обращайся бро\n",
      "факты\n",
      "Да факты\n",
      "Факты\n",
      "да факты\n",
      "Завтра разберу бро\n",
      "Спасибо бро\n",
      "я тоже бро\n",
      "==================================================\n",
      "\n",
      "Cluster 6:\n",
      "\n",
      "Ладно, погнал я спать.\n",
      "Да я спать уже\n",
      "Я спать\n",
      "и спать\n",
      "спать\n",
      "пошел я спать\n",
      "Я спать\n",
      "==================================================\n",
      "\n",
      "Cluster 7:\n",
      "\n",
      "Хахахаха\n",
      "Хахахаха\n",
      "хахахаха\n",
      "Хахахаха\n",
      "Хахахаха\n",
      "==================================================\n",
      "\n",
      "Cluster 8:\n",
      "\n",
      "У меня завтра будет свободно\n",
      "Завтра с утра гтд\n",
      "Завтра в 15?\n",
      "мне завтра в 6 вставать...\n",
      "Не не не завтра опять в 10\n",
      "Тогда мы как завтра\n",
      "==================================================\n",
      "\n",
      "Cluster 9:\n",
      "\n",
      "или ты не про это говорил ?\n",
      "Ну это когда будет\n",
      "Это на пк\n",
      "только это\n",
      "Не просто много\n",
      "Это ?\n",
      "это просто +репутация\n",
      "Что это\n",
      "Да не, это не то\n",
      "Я потому и говорил про пс 5\n",
      "==================================================\n",
      "\n",
      "Cluster 10:\n",
      "\n",
      "то голова кипит и тильт какой-то\n",
      "тильт\n",
      "Тильт\n",
      "А пока что голова кипит все равно\n",
      "Опять тильт\n",
      "==================================================\n",
      "\n",
      "Cluster 11:\n",
      "\n",
      "понял принял\n",
      "понял\n",
      "Ну седня я хоть чето понял\n",
      "понял\n",
      "ааа понял\n",
      "==================================================\n",
      "\n",
      "Cluster 12:\n",
      "\n",
      "нихуя\n",
      "Нихуя\n",
      "Нихуя\n",
      "Нихуя ты\n",
      "Нихуя\n",
      "Нихуя\n",
      "==================================================\n",
      "\n",
      "Cluster 13:\n",
      "\n",
      "Рабочая даже вроде\n",
      "там вроде 3 части да ?\n",
      "ты же вроде кидал мне\n",
      "она вроде отноразовая\n",
      "Блин вроде гтд\n",
      "50к вроде\n",
      "==================================================\n",
      "\n",
      "Cluster 14:\n",
      "\n",
      "https://prostopay.online\n",
      "https://vk.com/reu_ds_club\n",
      "https://play.google.com/store/apps/details?id=in.rizee.mylearningplus\n",
      "https://habr.com/ru/articles/511446/\n",
      "https://youtu.be/HOhoft6HHi8?si=c4zPijOomsnSZREL\n",
      "https://youtu.be/FUPOFgDJm38?si=yQPwKclQI67PhaPW\n",
      "==================================================\n"
     ]
    }
   ],
   "source": [
    "# Print text messages in each cluster\n",
    "for cluster_id in df['cluster'].unique():\n",
    "    if cluster_id!=-1:\n",
    "        cluster_data = df[df['cluster'] == cluster_id]['text']\n",
    "        print(f\"\\nCluster {cluster_id}:\\n\")\n",
    "        for text in cluster_data:\n",
    "            print(text)\n",
    "        print(\"=\"*50)"
   ]
  },
  {
   "cell_type": "code",
   "execution_count": null,
   "metadata": {},
   "outputs": [],
   "source": []
  },
  {
   "cell_type": "code",
   "execution_count": null,
   "metadata": {},
   "outputs": [],
   "source": []
  }
 ],
 "metadata": {
  "kernelspec": {
   "display_name": "Python 3",
   "language": "python",
   "name": "python3"
  },
  "language_info": {
   "codemirror_mode": {
    "name": "ipython",
    "version": 3
   },
   "file_extension": ".py",
   "mimetype": "text/x-python",
   "name": "python",
   "nbconvert_exporter": "python",
   "pygments_lexer": "ipython3",
   "version": "3.10.0"
  }
 },
 "nbformat": 4,
 "nbformat_minor": 2
}
